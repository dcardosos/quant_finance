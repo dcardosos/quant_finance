{
  "nbformat": 4,
  "nbformat_minor": 0,
  "metadata": {
    "kernelspec": {
      "display_name": "Python 3",
      "language": "python",
      "name": "python3"
    },
    "language_info": {
      "codemirror_mode": {
        "name": "ipython",
        "version": 3
      },
      "file_extension": ".py",
      "mimetype": "text/x-python",
      "name": "python",
      "nbconvert_exporter": "python",
      "pygments_lexer": "ipython3",
      "version": "3.8.3"
    },
    "colab": {
      "name": "Módulo Bônus - Diversificação.ipynb",
      "provenance": []
    }
  },
  "cells": [
    {
      "cell_type": "markdown",
      "metadata": {
        "id": "z1KdKogim4gO"
      },
      "source": [
        "## Obtendo os Dados:\n",
        "Primeiramente, serão importados para o python os dados que iremos utilizar na análise. Os dados representam os retornos de 5 ações diferentes da bolsa, a partir do começo de 2015 até o dia 16 de setembro de 2020. Todos podem ser obtidos no site Yahoo Finanças, ao se pesquisar por uma ação e ir para a aba \"Dados Históricos\"."
      ]
    },
    {
      "cell_type": "code",
      "metadata": {
        "id": "AVLR0k0Jm4gP",
        "outputId": "14232466-225e-4b2a-cac6-8edb6cf389a6",
        "colab": {
          "base_uri": "https://localhost:8080/",
          "height": 510
        }
      },
      "source": [
        "#Importa as Libraries que iremos usar:\n",
        "import numpy as np\n",
        "import pandas as pd\n",
        "import pandas_datareader.data as web\n",
        "import matplotlib.pyplot as plt\n",
        "\n",
        "# Instalando biblioteca que importa dados diretamente do Yahoo Finance\n",
        "!pip install yfinance --upgrade --no-cache-dir\n",
        "import yfinance as yf\n",
        "yf.pdr_override()"
      ],
      "execution_count": 1,
      "outputs": [
        {
          "output_type": "stream",
          "text": [
            "Collecting yfinance\n",
            "  Downloading https://files.pythonhosted.org/packages/7a/e8/b9d7104d3a4bf39924799067592d9e59119fcfc900a425a12e80a3123ec8/yfinance-0.1.55.tar.gz\n",
            "Requirement already satisfied, skipping upgrade: pandas>=0.24 in /usr/local/lib/python3.6/dist-packages (from yfinance) (1.1.2)\n",
            "Requirement already satisfied, skipping upgrade: numpy>=1.15 in /usr/local/lib/python3.6/dist-packages (from yfinance) (1.18.5)\n",
            "Requirement already satisfied, skipping upgrade: requests>=2.20 in /usr/local/lib/python3.6/dist-packages (from yfinance) (2.23.0)\n",
            "Requirement already satisfied, skipping upgrade: multitasking>=0.0.7 in /usr/local/lib/python3.6/dist-packages (from yfinance) (0.0.9)\n",
            "Collecting lxml>=4.5.1\n",
            "\u001b[?25l  Downloading https://files.pythonhosted.org/packages/64/28/0b761b64ecbd63d272ed0e7a6ae6e4402fc37886b59181bfdf274424d693/lxml-4.6.1-cp36-cp36m-manylinux1_x86_64.whl (5.5MB)\n",
            "\u001b[K     |████████████████████████████████| 5.5MB 5.3MB/s \n",
            "\u001b[?25hRequirement already satisfied, skipping upgrade: pytz>=2017.2 in /usr/local/lib/python3.6/dist-packages (from pandas>=0.24->yfinance) (2018.9)\n",
            "Requirement already satisfied, skipping upgrade: python-dateutil>=2.7.3 in /usr/local/lib/python3.6/dist-packages (from pandas>=0.24->yfinance) (2.8.1)\n",
            "Requirement already satisfied, skipping upgrade: idna<3,>=2.5 in /usr/local/lib/python3.6/dist-packages (from requests>=2.20->yfinance) (2.10)\n",
            "Requirement already satisfied, skipping upgrade: chardet<4,>=3.0.2 in /usr/local/lib/python3.6/dist-packages (from requests>=2.20->yfinance) (3.0.4)\n",
            "Requirement already satisfied, skipping upgrade: urllib3!=1.25.0,!=1.25.1,<1.26,>=1.21.1 in /usr/local/lib/python3.6/dist-packages (from requests>=2.20->yfinance) (1.24.3)\n",
            "Requirement already satisfied, skipping upgrade: certifi>=2017.4.17 in /usr/local/lib/python3.6/dist-packages (from requests>=2.20->yfinance) (2020.6.20)\n",
            "Requirement already satisfied, skipping upgrade: six>=1.5 in /usr/local/lib/python3.6/dist-packages (from python-dateutil>=2.7.3->pandas>=0.24->yfinance) (1.15.0)\n",
            "Building wheels for collected packages: yfinance\n",
            "  Building wheel for yfinance (setup.py) ... \u001b[?25l\u001b[?25hdone\n",
            "  Created wheel for yfinance: filename=yfinance-0.1.55-py2.py3-none-any.whl size=22618 sha256=9d50f3c5b34fa85640c69c06b09212243c4b34cb2ec833d3851c4af7a495a01d\n",
            "  Stored in directory: /tmp/pip-ephem-wheel-cache-ixov84ta/wheels/04/98/cc/2702a4242d60bdc14f48b4557c427ded1fe92aedf257d4565c\n",
            "Successfully built yfinance\n",
            "Installing collected packages: lxml, yfinance\n",
            "  Found existing installation: lxml 4.2.6\n",
            "    Uninstalling lxml-4.2.6:\n",
            "      Successfully uninstalled lxml-4.2.6\n",
            "Successfully installed lxml-4.6.1 yfinance-0.1.55\n"
          ],
          "name": "stdout"
        }
      ]
    },
    {
      "cell_type": "code",
      "metadata": {
        "id": "RxHrYHopm4gV"
      },
      "source": [
        "# Escolhendo as ações que iremos importar (observe que para isso digita-se o código da ação e '.SA')\n",
        "tickers = ['WEGE3.SA','MRFG3.SA','FLRY3.SA','BBAS3.SA','BBDC4.SA']"
      ],
      "execution_count": 2,
      "outputs": []
    },
    {
      "cell_type": "code",
      "metadata": {
        "scrolled": true,
        "id": "lRKQhY5Qm4gY",
        "outputId": "a7185fc5-cdfb-4cea-fbc6-b8bcb65c7167",
        "colab": {
          "base_uri": "https://localhost:8080/",
          "height": 383
        }
      },
      "source": [
        "# Aplica-se a biblioteca pandas_datareader, importada para o jupyter como 'web' para pegar dados do yahoo\n",
        "# e insere os dados dentro da variável 'carteira'.\n",
        "carteira= web.get_data_yahoo(tickers)\n",
        "\n",
        "#Mostra as 5 primeiras linhas de dados do arquivo contido na variável carteira:\n",
        "carteira.head()"
      ],
      "execution_count": 3,
      "outputs": [
        {
          "output_type": "stream",
          "text": [
            "[*********************100%***********************]  5 of 5 completed\n"
          ],
          "name": "stdout"
        },
        {
          "output_type": "execute_result",
          "data": {
            "text/html": [
              "<div>\n",
              "<style scoped>\n",
              "    .dataframe tbody tr th:only-of-type {\n",
              "        vertical-align: middle;\n",
              "    }\n",
              "\n",
              "    .dataframe tbody tr th {\n",
              "        vertical-align: top;\n",
              "    }\n",
              "\n",
              "    .dataframe thead tr th {\n",
              "        text-align: left;\n",
              "    }\n",
              "\n",
              "    .dataframe thead tr:last-of-type th {\n",
              "        text-align: right;\n",
              "    }\n",
              "</style>\n",
              "<table border=\"1\" class=\"dataframe\">\n",
              "  <thead>\n",
              "    <tr>\n",
              "      <th></th>\n",
              "      <th colspan=\"5\" halign=\"left\">Adj Close</th>\n",
              "      <th colspan=\"5\" halign=\"left\">Close</th>\n",
              "      <th colspan=\"5\" halign=\"left\">High</th>\n",
              "      <th colspan=\"5\" halign=\"left\">Low</th>\n",
              "      <th colspan=\"5\" halign=\"left\">Open</th>\n",
              "      <th colspan=\"5\" halign=\"left\">Volume</th>\n",
              "    </tr>\n",
              "    <tr>\n",
              "      <th></th>\n",
              "      <th>BBAS3.SA</th>\n",
              "      <th>BBDC4.SA</th>\n",
              "      <th>FLRY3.SA</th>\n",
              "      <th>MRFG3.SA</th>\n",
              "      <th>WEGE3.SA</th>\n",
              "      <th>BBAS3.SA</th>\n",
              "      <th>BBDC4.SA</th>\n",
              "      <th>FLRY3.SA</th>\n",
              "      <th>MRFG3.SA</th>\n",
              "      <th>WEGE3.SA</th>\n",
              "      <th>BBAS3.SA</th>\n",
              "      <th>BBDC4.SA</th>\n",
              "      <th>FLRY3.SA</th>\n",
              "      <th>MRFG3.SA</th>\n",
              "      <th>WEGE3.SA</th>\n",
              "      <th>BBAS3.SA</th>\n",
              "      <th>BBDC4.SA</th>\n",
              "      <th>FLRY3.SA</th>\n",
              "      <th>MRFG3.SA</th>\n",
              "      <th>WEGE3.SA</th>\n",
              "      <th>BBAS3.SA</th>\n",
              "      <th>BBDC4.SA</th>\n",
              "      <th>FLRY3.SA</th>\n",
              "      <th>MRFG3.SA</th>\n",
              "      <th>WEGE3.SA</th>\n",
              "      <th>BBAS3.SA</th>\n",
              "      <th>BBDC4.SA</th>\n",
              "      <th>FLRY3.SA</th>\n",
              "      <th>MRFG3.SA</th>\n",
              "      <th>WEGE3.SA</th>\n",
              "    </tr>\n",
              "    <tr>\n",
              "      <th>Date</th>\n",
              "      <th></th>\n",
              "      <th></th>\n",
              "      <th></th>\n",
              "      <th></th>\n",
              "      <th></th>\n",
              "      <th></th>\n",
              "      <th></th>\n",
              "      <th></th>\n",
              "      <th></th>\n",
              "      <th></th>\n",
              "      <th></th>\n",
              "      <th></th>\n",
              "      <th></th>\n",
              "      <th></th>\n",
              "      <th></th>\n",
              "      <th></th>\n",
              "      <th></th>\n",
              "      <th></th>\n",
              "      <th></th>\n",
              "      <th></th>\n",
              "      <th></th>\n",
              "      <th></th>\n",
              "      <th></th>\n",
              "      <th></th>\n",
              "      <th></th>\n",
              "      <th></th>\n",
              "      <th></th>\n",
              "      <th></th>\n",
              "      <th></th>\n",
              "      <th></th>\n",
              "    </tr>\n",
              "  </thead>\n",
              "  <tbody>\n",
              "    <tr>\n",
              "      <th>2000-01-03</th>\n",
              "      <td>1.479128</td>\n",
              "      <td>NaN</td>\n",
              "      <td>NaN</td>\n",
              "      <td>NaN</td>\n",
              "      <td>0.203761</td>\n",
              "      <td>2.73333</td>\n",
              "      <td>NaN</td>\n",
              "      <td>NaN</td>\n",
              "      <td>NaN</td>\n",
              "      <td>0.33728</td>\n",
              "      <td>2.85333</td>\n",
              "      <td>NaN</td>\n",
              "      <td>NaN</td>\n",
              "      <td>NaN</td>\n",
              "      <td>0.34024</td>\n",
              "      <td>2.73333</td>\n",
              "      <td>NaN</td>\n",
              "      <td>NaN</td>\n",
              "      <td>NaN</td>\n",
              "      <td>0.33728</td>\n",
              "      <td>2.80000</td>\n",
              "      <td>NaN</td>\n",
              "      <td>NaN</td>\n",
              "      <td>NaN</td>\n",
              "      <td>0.33728</td>\n",
              "      <td>514800.0</td>\n",
              "      <td>NaN</td>\n",
              "      <td>NaN</td>\n",
              "      <td>NaN</td>\n",
              "      <td>189280.0</td>\n",
              "    </tr>\n",
              "    <tr>\n",
              "      <th>2000-01-04</th>\n",
              "      <td>1.408780</td>\n",
              "      <td>NaN</td>\n",
              "      <td>NaN</td>\n",
              "      <td>NaN</td>\n",
              "      <td>0.196608</td>\n",
              "      <td>2.60333</td>\n",
              "      <td>NaN</td>\n",
              "      <td>NaN</td>\n",
              "      <td>NaN</td>\n",
              "      <td>0.32544</td>\n",
              "      <td>2.74000</td>\n",
              "      <td>NaN</td>\n",
              "      <td>NaN</td>\n",
              "      <td>NaN</td>\n",
              "      <td>0.32840</td>\n",
              "      <td>2.60333</td>\n",
              "      <td>NaN</td>\n",
              "      <td>NaN</td>\n",
              "      <td>NaN</td>\n",
              "      <td>0.32544</td>\n",
              "      <td>2.73333</td>\n",
              "      <td>NaN</td>\n",
              "      <td>NaN</td>\n",
              "      <td>NaN</td>\n",
              "      <td>0.32840</td>\n",
              "      <td>314100.0</td>\n",
              "      <td>NaN</td>\n",
              "      <td>NaN</td>\n",
              "      <td>NaN</td>\n",
              "      <td>23660.0</td>\n",
              "    </tr>\n",
              "    <tr>\n",
              "      <th>2000-01-05</th>\n",
              "      <td>1.423212</td>\n",
              "      <td>NaN</td>\n",
              "      <td>NaN</td>\n",
              "      <td>NaN</td>\n",
              "      <td>0.232361</td>\n",
              "      <td>2.63000</td>\n",
              "      <td>NaN</td>\n",
              "      <td>NaN</td>\n",
              "      <td>NaN</td>\n",
              "      <td>0.38462</td>\n",
              "      <td>2.63333</td>\n",
              "      <td>NaN</td>\n",
              "      <td>NaN</td>\n",
              "      <td>NaN</td>\n",
              "      <td>0.42692</td>\n",
              "      <td>2.50667</td>\n",
              "      <td>NaN</td>\n",
              "      <td>NaN</td>\n",
              "      <td>NaN</td>\n",
              "      <td>0.38462</td>\n",
              "      <td>2.60000</td>\n",
              "      <td>NaN</td>\n",
              "      <td>NaN</td>\n",
              "      <td>NaN</td>\n",
              "      <td>0.42692</td>\n",
              "      <td>478800.0</td>\n",
              "      <td>NaN</td>\n",
              "      <td>NaN</td>\n",
              "      <td>NaN</td>\n",
              "      <td>0.0</td>\n",
              "    </tr>\n",
              "    <tr>\n",
              "      <th>2000-01-06</th>\n",
              "      <td>1.443056</td>\n",
              "      <td>NaN</td>\n",
              "      <td>NaN</td>\n",
              "      <td>NaN</td>\n",
              "      <td>0.178738</td>\n",
              "      <td>2.66667</td>\n",
              "      <td>NaN</td>\n",
              "      <td>NaN</td>\n",
              "      <td>NaN</td>\n",
              "      <td>0.29586</td>\n",
              "      <td>2.66667</td>\n",
              "      <td>NaN</td>\n",
              "      <td>NaN</td>\n",
              "      <td>NaN</td>\n",
              "      <td>0.29586</td>\n",
              "      <td>2.60000</td>\n",
              "      <td>NaN</td>\n",
              "      <td>NaN</td>\n",
              "      <td>NaN</td>\n",
              "      <td>0.29586</td>\n",
              "      <td>2.63000</td>\n",
              "      <td>NaN</td>\n",
              "      <td>NaN</td>\n",
              "      <td>NaN</td>\n",
              "      <td>0.29586</td>\n",
              "      <td>205200.0</td>\n",
              "      <td>NaN</td>\n",
              "      <td>NaN</td>\n",
              "      <td>NaN</td>\n",
              "      <td>125060.0</td>\n",
              "    </tr>\n",
              "    <tr>\n",
              "      <th>2000-01-07</th>\n",
              "      <td>1.410587</td>\n",
              "      <td>NaN</td>\n",
              "      <td>NaN</td>\n",
              "      <td>NaN</td>\n",
              "      <td>0.178738</td>\n",
              "      <td>2.60667</td>\n",
              "      <td>NaN</td>\n",
              "      <td>NaN</td>\n",
              "      <td>NaN</td>\n",
              "      <td>0.29586</td>\n",
              "      <td>2.66667</td>\n",
              "      <td>NaN</td>\n",
              "      <td>NaN</td>\n",
              "      <td>NaN</td>\n",
              "      <td>0.29882</td>\n",
              "      <td>2.60667</td>\n",
              "      <td>NaN</td>\n",
              "      <td>NaN</td>\n",
              "      <td>NaN</td>\n",
              "      <td>0.29586</td>\n",
              "      <td>2.66667</td>\n",
              "      <td>NaN</td>\n",
              "      <td>NaN</td>\n",
              "      <td>NaN</td>\n",
              "      <td>0.29882</td>\n",
              "      <td>394200.0</td>\n",
              "      <td>NaN</td>\n",
              "      <td>NaN</td>\n",
              "      <td>NaN</td>\n",
              "      <td>67600.0</td>\n",
              "    </tr>\n",
              "  </tbody>\n",
              "</table>\n",
              "</div>"
            ],
            "text/plain": [
              "           Adj Close                    ...   Volume                   \n",
              "            BBAS3.SA BBDC4.SA FLRY3.SA  ... FLRY3.SA MRFG3.SA  WEGE3.SA\n",
              "Date                                    ...                            \n",
              "2000-01-03  1.479128      NaN      NaN  ...      NaN      NaN  189280.0\n",
              "2000-01-04  1.408780      NaN      NaN  ...      NaN      NaN   23660.0\n",
              "2000-01-05  1.423212      NaN      NaN  ...      NaN      NaN       0.0\n",
              "2000-01-06  1.443056      NaN      NaN  ...      NaN      NaN  125060.0\n",
              "2000-01-07  1.410587      NaN      NaN  ...      NaN      NaN   67600.0\n",
              "\n",
              "[5 rows x 30 columns]"
            ]
          },
          "metadata": {
            "tags": []
          },
          "execution_count": 3
        }
      ]
    },
    {
      "cell_type": "code",
      "metadata": {
        "id": "Fvxa08afm4gd"
      },
      "source": [
        "# Calcula-se os retornos aplicando 'pct_change()' a coluna 'Close' da nossa tabela\n",
        "carteira = carteira[{'Close'}].pct_change()"
      ],
      "execution_count": 4,
      "outputs": []
    },
    {
      "cell_type": "code",
      "metadata": {
        "id": "O8gUUvyVm4gg"
      },
      "source": [
        "# Seleciona-se dados apenas a partir de 2015\n",
        "carteira = carteira['2015':]\n",
        "\n",
        "# Mudando o nome da coluna para 'Returns'\n",
        "carteira = carteira.rename(columns={'Close':'Returns'})"
      ],
      "execution_count": 5,
      "outputs": []
    },
    {
      "cell_type": "code",
      "metadata": {
        "id": "3flM-zzZm4gk"
      },
      "source": [
        "# Renomeando os nomes das colunas de nossa tabela\n",
        "retornos = carteira['Returns'].rename(columns={'BBAS3.SA':'BBAS3',\n",
        "                                              'BBDC4.SA':'BBDC4', \n",
        "                                              'FLRY3.SA':'FLRY3',\n",
        "                                              'MRFG3.SA':'MRFG3', \n",
        "                                              'WEGE3.SA':'WEGE3'})"
      ],
      "execution_count": 6,
      "outputs": []
    },
    {
      "cell_type": "code",
      "metadata": {
        "id": "DAifnT-8m4gq",
        "outputId": "4faf9868-c41c-4f96-fc81-4e5e5a3eaa7e",
        "colab": {
          "base_uri": "https://localhost:8080/",
          "height": 228
        }
      },
      "source": [
        "#Mostra as 5 primeiras linhas de dados do arquivo contido na variável carteira:\n",
        "retornos.head()"
      ],
      "execution_count": 7,
      "outputs": [
        {
          "output_type": "execute_result",
          "data": {
            "text/html": [
              "<div>\n",
              "<style scoped>\n",
              "    .dataframe tbody tr th:only-of-type {\n",
              "        vertical-align: middle;\n",
              "    }\n",
              "\n",
              "    .dataframe tbody tr th {\n",
              "        vertical-align: top;\n",
              "    }\n",
              "\n",
              "    .dataframe thead th {\n",
              "        text-align: right;\n",
              "    }\n",
              "</style>\n",
              "<table border=\"1\" class=\"dataframe\">\n",
              "  <thead>\n",
              "    <tr style=\"text-align: right;\">\n",
              "      <th></th>\n",
              "      <th>BBAS3</th>\n",
              "      <th>BBDC4</th>\n",
              "      <th>FLRY3</th>\n",
              "      <th>MRFG3</th>\n",
              "      <th>WEGE3</th>\n",
              "    </tr>\n",
              "    <tr>\n",
              "      <th>Date</th>\n",
              "      <th></th>\n",
              "      <th></th>\n",
              "      <th></th>\n",
              "      <th></th>\n",
              "      <th></th>\n",
              "    </tr>\n",
              "  </thead>\n",
              "  <tbody>\n",
              "    <tr>\n",
              "      <th>2015-01-02</th>\n",
              "      <td>-0.047118</td>\n",
              "      <td>-0.021676</td>\n",
              "      <td>-0.017199</td>\n",
              "      <td>-0.073650</td>\n",
              "      <td>0.009837</td>\n",
              "    </tr>\n",
              "    <tr>\n",
              "      <th>2015-01-05</th>\n",
              "      <td>-0.020751</td>\n",
              "      <td>0.001458</td>\n",
              "      <td>-0.041875</td>\n",
              "      <td>-0.075972</td>\n",
              "      <td>0.006812</td>\n",
              "    </tr>\n",
              "    <tr>\n",
              "      <th>2015-01-06</th>\n",
              "      <td>0.013977</td>\n",
              "      <td>0.032898</td>\n",
              "      <td>-0.014351</td>\n",
              "      <td>-0.015296</td>\n",
              "      <td>-0.014832</td>\n",
              "    </tr>\n",
              "    <tr>\n",
              "      <th>2015-01-07</th>\n",
              "      <td>0.044020</td>\n",
              "      <td>0.039737</td>\n",
              "      <td>-0.007280</td>\n",
              "      <td>0.034951</td>\n",
              "      <td>-0.011455</td>\n",
              "    </tr>\n",
              "    <tr>\n",
              "      <th>2015-01-08</th>\n",
              "      <td>0.003407</td>\n",
              "      <td>0.005154</td>\n",
              "      <td>-0.013333</td>\n",
              "      <td>0.018762</td>\n",
              "      <td>0.016883</td>\n",
              "    </tr>\n",
              "  </tbody>\n",
              "</table>\n",
              "</div>"
            ],
            "text/plain": [
              "               BBAS3     BBDC4     FLRY3     MRFG3     WEGE3\n",
              "Date                                                        \n",
              "2015-01-02 -0.047118 -0.021676 -0.017199 -0.073650  0.009837\n",
              "2015-01-05 -0.020751  0.001458 -0.041875 -0.075972  0.006812\n",
              "2015-01-06  0.013977  0.032898 -0.014351 -0.015296 -0.014832\n",
              "2015-01-07  0.044020  0.039737 -0.007280  0.034951 -0.011455\n",
              "2015-01-08  0.003407  0.005154 -0.013333  0.018762  0.016883"
            ]
          },
          "metadata": {
            "tags": []
          },
          "execution_count": 7
        }
      ]
    },
    {
      "cell_type": "markdown",
      "metadata": {
        "id": "l9STutcjm4gu"
      },
      "source": [
        "## Visualizando os Dados:\n",
        "Antes de partir para a análise quantitativa, faremos uma análise visual:"
      ]
    },
    {
      "cell_type": "code",
      "metadata": {
        "id": "nlXDOOVCm4gu",
        "outputId": "57d76da0-7457-46e6-f7a1-4b4fc5d3d43f",
        "colab": {
          "base_uri": "https://localhost:8080/",
          "height": 437
        }
      },
      "source": [
        "#Um truque de matemática financeira: \n",
        "#Multiplicamos 1 mais os retornos, cumulativamente para cada dia que passa, em todas as colunas de dados.\n",
        "#Dessa forma, conseguimos descobrir qual seria o valor final de um investimento feito no ínicio do período.\n",
        "(1+retornos).cumprod()"
      ],
      "execution_count": 8,
      "outputs": [
        {
          "output_type": "execute_result",
          "data": {
            "text/html": [
              "<div>\n",
              "<style scoped>\n",
              "    .dataframe tbody tr th:only-of-type {\n",
              "        vertical-align: middle;\n",
              "    }\n",
              "\n",
              "    .dataframe tbody tr th {\n",
              "        vertical-align: top;\n",
              "    }\n",
              "\n",
              "    .dataframe thead th {\n",
              "        text-align: right;\n",
              "    }\n",
              "</style>\n",
              "<table border=\"1\" class=\"dataframe\">\n",
              "  <thead>\n",
              "    <tr style=\"text-align: right;\">\n",
              "      <th></th>\n",
              "      <th>BBAS3</th>\n",
              "      <th>BBDC4</th>\n",
              "      <th>FLRY3</th>\n",
              "      <th>MRFG3</th>\n",
              "      <th>WEGE3</th>\n",
              "    </tr>\n",
              "    <tr>\n",
              "      <th>Date</th>\n",
              "      <th></th>\n",
              "      <th></th>\n",
              "      <th></th>\n",
              "      <th></th>\n",
              "      <th></th>\n",
              "    </tr>\n",
              "  </thead>\n",
              "  <tbody>\n",
              "    <tr>\n",
              "      <th>2015-01-02</th>\n",
              "      <td>0.952882</td>\n",
              "      <td>0.978324</td>\n",
              "      <td>0.982801</td>\n",
              "      <td>0.926350</td>\n",
              "      <td>1.009837</td>\n",
              "    </tr>\n",
              "    <tr>\n",
              "      <th>2015-01-05</th>\n",
              "      <td>0.933109</td>\n",
              "      <td>0.979751</td>\n",
              "      <td>0.941646</td>\n",
              "      <td>0.855974</td>\n",
              "      <td>1.016717</td>\n",
              "    </tr>\n",
              "    <tr>\n",
              "      <th>2015-01-06</th>\n",
              "      <td>0.946151</td>\n",
              "      <td>1.011983</td>\n",
              "      <td>0.928133</td>\n",
              "      <td>0.842881</td>\n",
              "      <td>1.001637</td>\n",
              "    </tr>\n",
              "    <tr>\n",
              "      <th>2015-01-07</th>\n",
              "      <td>0.987800</td>\n",
              "      <td>1.052197</td>\n",
              "      <td>0.921376</td>\n",
              "      <td>0.872340</td>\n",
              "      <td>0.990163</td>\n",
              "    </tr>\n",
              "    <tr>\n",
              "      <th>2015-01-08</th>\n",
              "      <td>0.991165</td>\n",
              "      <td>1.057619</td>\n",
              "      <td>0.909091</td>\n",
              "      <td>0.888707</td>\n",
              "      <td>1.006879</td>\n",
              "    </tr>\n",
              "    <tr>\n",
              "      <th>...</th>\n",
              "      <td>...</td>\n",
              "      <td>...</td>\n",
              "      <td>...</td>\n",
              "      <td>...</td>\n",
              "      <td>...</td>\n",
              "    </tr>\n",
              "    <tr>\n",
              "      <th>2020-10-19</th>\n",
              "      <td>1.287337</td>\n",
              "      <td>1.126697</td>\n",
              "      <td>3.416462</td>\n",
              "      <td>2.474632</td>\n",
              "      <td>6.995260</td>\n",
              "    </tr>\n",
              "    <tr>\n",
              "      <th>2020-10-20</th>\n",
              "      <td>1.346655</td>\n",
              "      <td>1.175351</td>\n",
              "      <td>3.452088</td>\n",
              "      <td>2.504092</td>\n",
              "      <td>7.122277</td>\n",
              "    </tr>\n",
              "    <tr>\n",
              "      <th>2020-10-21</th>\n",
              "      <td>1.356752</td>\n",
              "      <td>1.187378</td>\n",
              "      <td>3.452088</td>\n",
              "      <td>2.484452</td>\n",
              "      <td>6.683261</td>\n",
              "    </tr>\n",
              "    <tr>\n",
              "      <th>2020-10-22</th>\n",
              "      <td>1.415650</td>\n",
              "      <td>1.242046</td>\n",
              "      <td>3.470516</td>\n",
              "      <td>2.482815</td>\n",
              "      <td>6.999523</td>\n",
              "    </tr>\n",
              "    <tr>\n",
              "      <th>2020-10-23</th>\n",
              "      <td>1.410602</td>\n",
              "      <td>1.236579</td>\n",
              "      <td>3.434889</td>\n",
              "      <td>2.397709</td>\n",
              "      <td>6.962015</td>\n",
              "    </tr>\n",
              "  </tbody>\n",
              "</table>\n",
              "<p>1446 rows × 5 columns</p>\n",
              "</div>"
            ],
            "text/plain": [
              "               BBAS3     BBDC4     FLRY3     MRFG3     WEGE3\n",
              "Date                                                        \n",
              "2015-01-02  0.952882  0.978324  0.982801  0.926350  1.009837\n",
              "2015-01-05  0.933109  0.979751  0.941646  0.855974  1.016717\n",
              "2015-01-06  0.946151  1.011983  0.928133  0.842881  1.001637\n",
              "2015-01-07  0.987800  1.052197  0.921376  0.872340  0.990163\n",
              "2015-01-08  0.991165  1.057619  0.909091  0.888707  1.006879\n",
              "...              ...       ...       ...       ...       ...\n",
              "2020-10-19  1.287337  1.126697  3.416462  2.474632  6.995260\n",
              "2020-10-20  1.346655  1.175351  3.452088  2.504092  7.122277\n",
              "2020-10-21  1.356752  1.187378  3.452088  2.484452  6.683261\n",
              "2020-10-22  1.415650  1.242046  3.470516  2.482815  6.999523\n",
              "2020-10-23  1.410602  1.236579  3.434889  2.397709  6.962015\n",
              "\n",
              "[1446 rows x 5 columns]"
            ]
          },
          "metadata": {
            "tags": []
          },
          "execution_count": 8
        }
      ]
    },
    {
      "cell_type": "code",
      "metadata": {
        "id": "0vTry08Vm4gx",
        "outputId": "2685f5fd-d176-45c4-bd4f-a0d953f98a1d",
        "colab": {
          "base_uri": "https://localhost:8080/",
          "height": 287
        }
      },
      "source": [
        "#Podemos representar o cálculo anterior em um gráfico, colocando um .plot() ao final da operação:\n",
        "(1+retornos).cumprod().plot()"
      ],
      "execution_count": 9,
      "outputs": [
        {
          "output_type": "execute_result",
          "data": {
            "text/plain": [
              "<matplotlib.axes._subplots.AxesSubplot at 0x7f7b125faf98>"
            ]
          },
          "metadata": {
            "tags": []
          },
          "execution_count": 9
        },
        {
          "output_type": "display_data",
          "data": {
            "image/png": "[encoded data removed]",
            "text/plain": [
              "<Figure size 432x288 with 1 Axes>"
            ]
          },
          "metadata": {
            "tags": [],
            "needs_background": "light"
          }
        }
      ]
    },
    {
      "cell_type": "markdown",
      "metadata": {
        "id": "0mlUEnlum4gz"
      },
      "source": [
        "## Diversificação e Risco\n",
        "Antes de entender a diversificação, é importante entender que existem dois tipos de riscos em uma ação, o risco sistêmico e o risco específico:\n",
        "\n",
        "**Risco Sistêmico:** É o risco que afeta todas as empresas simultaneamente. Podem ser riscos econômicos, como grandes *crashes* e depressões, riscos políticos, como guerras, pode ser o risco de uma pandemia, como a do COVID-19. A principal característica deste tipo de risco é que ele irá afetar negativamente praticamente todos os ativos ao mesmo tempo.\n",
        "\n",
        "**Risco Específico:** É o risco que afeta apenas uma empresa ou setor por vez. Para empresas de petróleo, esse risco pode ser o da diminuição do preço do barril de petróleo, para empresas importadoras pode ser o aumento do dólar. Apesar de esses fatores afetarem negativamente algumas empresas, podem afetar positivamente outras. Por exemplo, a queda no preço do petróleo pode beneficiar empresas de aviação, pois o combustível ficará mais barato, e o aumento do dólar pode afetar positivamente empresas que exportam seus produtos.\n"
      ]
    },
    {
      "cell_type": "markdown",
      "metadata": {
        "id": "HRgDdPqQm4g0"
      },
      "source": [
        "Ao montar uma carteira de com ações diferentes entre si, que seja diversificada, conseguimos diminuir os riscos específicos que incidem sobre ela, fazendo com que ela seja exposta apenas ao risco sistêmico. A exposição de uma carteira aos riscos específicos, de acordo com o número de ações que ela possui, costuma ser o seguinte:\n"
      ]
    },
    {
      "cell_type": "markdown",
      "metadata": {
        "id": "B8UtwJo2m4g0"
      },
      "source": [
        "## Correlação\n",
        "Para sabermos se as ações que estamos colocando em nossas carteiras são diferentes entre si, usamos uma medida chamada de *correlação*. Ela representa quanto duas variáveis se relacionam entre si, e pode variar de -1 a 1.\n",
        "\n",
        "- Uma correlação positiva próxima de 1 significa que as duas varávies se movimentam na mesma direção e praticamente na mesma magnitude. Se uma delas sobe 1%, a outra também sobe 1%.\n",
        "\n",
        "- Uma correlação negativa próxima de -1 significa que as duas varávies se movimentam em direções opostas e praticamente na mesma magnitude. Se uma delas sobe 1%, a outra cai 1%.\n",
        "\n",
        "- Uma correlação próxima de 0 signifca que as duas variáveis se movimentam de forma independente entre si.\n",
        "\n",
        "Observe o gráfico dos retornos das ações:"
      ]
    },
    {
      "cell_type": "code",
      "metadata": {
        "id": "kb6C5so9m4g1",
        "outputId": "aa31d9a9-d777-4e0d-9b1b-c7638c9c46a5",
        "colab": {
          "base_uri": "https://localhost:8080/",
          "height": 385
        }
      },
      "source": [
        "#É possível mudar o tamanho do gráfico, para faciltiar a visualização.\n",
        "#Para isso, dentro do comando plot, alteramos o parâmetro figsize, selecionando um tamanho para os eixos x e y:\n",
        "(1+retornos).cumprod().plot(figsize = (16,6))"
      ],
      "execution_count": 10,
      "outputs": [
        {
          "output_type": "execute_result",
          "data": {
            "text/plain": [
              "<matplotlib.axes._subplots.AxesSubplot at 0x7f7b15e3fc18>"
            ]
          },
          "metadata": {
            "tags": []
          },
          "execution_count": 10
        },
        {
          "output_type": "display_data",
          "data": {
            "image/png": "[encoded data removed]",
            "text/plain": [
              "<Figure size 1152x432 with 1 Axes>"
            ]
          },
          "metadata": {
            "tags": [],
            "needs_background": "light"
          }
        }
      ]
    },
    {
      "cell_type": "markdown",
      "metadata": {
        "id": "-JOEBILEm4g4"
      },
      "source": [
        "É possível perceber, visualizando o gráfico, que praticamente todas as ações selecionadas se movimentam de forma independente entre si a maior parte do tempo. Porém, olhando detalhadamente a linha vermelha e a roxa, podemos perceber que elas se movimentaram juntas desde 2015 até atualmente. Sem saber a quais empresas elas se referem, seria possível predizer que elas são muito similares entre si, provavelmente do mesmo setor. Pois bem, elas são as ações do **Banco do Brasil** (BBAS3) e do **Bradesco** (BBDC4). \n",
        "\n",
        "Outra forma de visualizar a correlação, e mais efetiva, é por meio de uma tabela de correlação, que pode ser feita da seguinte forma:"
      ]
    },
    {
      "cell_type": "code",
      "metadata": {
        "id": "4V8tYHFnm4g5",
        "outputId": "b0411abc-c0e2-4a3f-ad98-602c0f84f770",
        "colab": {
          "base_uri": "https://localhost:8080/",
          "height": 198
        }
      },
      "source": [
        "retornos.corr()"
      ],
      "execution_count": 11,
      "outputs": [
        {
          "output_type": "execute_result",
          "data": {
            "text/html": [
              "<div>\n",
              "<style scoped>\n",
              "    .dataframe tbody tr th:only-of-type {\n",
              "        vertical-align: middle;\n",
              "    }\n",
              "\n",
              "    .dataframe tbody tr th {\n",
              "        vertical-align: top;\n",
              "    }\n",
              "\n",
              "    .dataframe thead th {\n",
              "        text-align: right;\n",
              "    }\n",
              "</style>\n",
              "<table border=\"1\" class=\"dataframe\">\n",
              "  <thead>\n",
              "    <tr style=\"text-align: right;\">\n",
              "      <th></th>\n",
              "      <th>BBAS3</th>\n",
              "      <th>BBDC4</th>\n",
              "      <th>FLRY3</th>\n",
              "      <th>MRFG3</th>\n",
              "      <th>WEGE3</th>\n",
              "    </tr>\n",
              "  </thead>\n",
              "  <tbody>\n",
              "    <tr>\n",
              "      <th>BBAS3</th>\n",
              "      <td>1.000000</td>\n",
              "      <td>0.799619</td>\n",
              "      <td>0.413457</td>\n",
              "      <td>0.329610</td>\n",
              "      <td>0.368899</td>\n",
              "    </tr>\n",
              "    <tr>\n",
              "      <th>BBDC4</th>\n",
              "      <td>0.799619</td>\n",
              "      <td>1.000000</td>\n",
              "      <td>0.401387</td>\n",
              "      <td>0.313507</td>\n",
              "      <td>0.391533</td>\n",
              "    </tr>\n",
              "    <tr>\n",
              "      <th>FLRY3</th>\n",
              "      <td>0.413457</td>\n",
              "      <td>0.401387</td>\n",
              "      <td>1.000000</td>\n",
              "      <td>0.290342</td>\n",
              "      <td>0.305991</td>\n",
              "    </tr>\n",
              "    <tr>\n",
              "      <th>MRFG3</th>\n",
              "      <td>0.329610</td>\n",
              "      <td>0.313507</td>\n",
              "      <td>0.290342</td>\n",
              "      <td>1.000000</td>\n",
              "      <td>0.306944</td>\n",
              "    </tr>\n",
              "    <tr>\n",
              "      <th>WEGE3</th>\n",
              "      <td>0.368899</td>\n",
              "      <td>0.391533</td>\n",
              "      <td>0.305991</td>\n",
              "      <td>0.306944</td>\n",
              "      <td>1.000000</td>\n",
              "    </tr>\n",
              "  </tbody>\n",
              "</table>\n",
              "</div>"
            ],
            "text/plain": [
              "          BBAS3     BBDC4     FLRY3     MRFG3     WEGE3\n",
              "BBAS3  1.000000  0.799619  0.413457  0.329610  0.368899\n",
              "BBDC4  0.799619  1.000000  0.401387  0.313507  0.391533\n",
              "FLRY3  0.413457  0.401387  1.000000  0.290342  0.305991\n",
              "MRFG3  0.329610  0.313507  0.290342  1.000000  0.306944\n",
              "WEGE3  0.368899  0.391533  0.305991  0.306944  1.000000"
            ]
          },
          "metadata": {
            "tags": []
          },
          "execution_count": 11
        }
      ]
    },
    {
      "cell_type": "markdown",
      "metadata": {
        "id": "kM1Jg7hOm4g7"
      },
      "source": [
        "Observando a tabela de correlação, é possível perceber que a maioria das ações possui uma correlação de baixa a moderada com as outras, de 0,24 a 0,40. Ao olharmos a correlação entre BBAS3 e BBDC4, porém, encontramos uma correlação muito alta, de 0,79. Se quisermos montar um portofio diversificado, precisamos escolher empresas diferentes entre si, expostas a riscos diferentes, com baixa correlação."
      ]
    },
    {
      "cell_type": "markdown",
      "metadata": {
        "id": "Aplo-wmmm4g8"
      },
      "source": [
        "## Risco e Retorno de Portfólios\n",
        "Com o objetivo de simplificar a explicação, será feita a análise de uma carteira com ações de apenas duas empresas: **Fleury** (FLRY3), do setor de saúde, e **WEG** (WEGE3), do setor de eletricidade e equipamentos elétricos."
      ]
    },
    {
      "cell_type": "code",
      "metadata": {
        "id": "ewhATHItm4g8",
        "outputId": "3c186673-5d63-4677-a49e-9793175a9a24",
        "colab": {
          "base_uri": "https://localhost:8080/",
          "height": 228
        }
      },
      "source": [
        "#Queremos apenas uma parte específica do DataFrame \"Retornos\". Para isso, colocamos o que queremos entre colchetes.\n",
        "ações = retornos[[\"FLRY3\", \"WEGE3\"]]\n",
        "#Note que, como queremos uma lista com duas ações diferentes, elas também precisam estar entre colchetes.\n",
        "#Caso queiramos apenas os dados da FLRY3, usamos: ações = retornos[\"FLRY3\"]\n",
        "\n",
        "ações.head()"
      ],
      "execution_count": 12,
      "outputs": [
        {
          "output_type": "execute_result",
          "data": {
            "text/html": [
              "<div>\n",
              "<style scoped>\n",
              "    .dataframe tbody tr th:only-of-type {\n",
              "        vertical-align: middle;\n",
              "    }\n",
              "\n",
              "    .dataframe tbody tr th {\n",
              "        vertical-align: top;\n",
              "    }\n",
              "\n",
              "    .dataframe thead th {\n",
              "        text-align: right;\n",
              "    }\n",
              "</style>\n",
              "<table border=\"1\" class=\"dataframe\">\n",
              "  <thead>\n",
              "    <tr style=\"text-align: right;\">\n",
              "      <th></th>\n",
              "      <th>FLRY3</th>\n",
              "      <th>WEGE3</th>\n",
              "    </tr>\n",
              "    <tr>\n",
              "      <th>Date</th>\n",
              "      <th></th>\n",
              "      <th></th>\n",
              "    </tr>\n",
              "  </thead>\n",
              "  <tbody>\n",
              "    <tr>\n",
              "      <th>2015-01-02</th>\n",
              "      <td>-0.017199</td>\n",
              "      <td>0.009837</td>\n",
              "    </tr>\n",
              "    <tr>\n",
              "      <th>2015-01-05</th>\n",
              "      <td>-0.041875</td>\n",
              "      <td>0.006812</td>\n",
              "    </tr>\n",
              "    <tr>\n",
              "      <th>2015-01-06</th>\n",
              "      <td>-0.014351</td>\n",
              "      <td>-0.014832</td>\n",
              "    </tr>\n",
              "    <tr>\n",
              "      <th>2015-01-07</th>\n",
              "      <td>-0.007280</td>\n",
              "      <td>-0.011455</td>\n",
              "    </tr>\n",
              "    <tr>\n",
              "      <th>2015-01-08</th>\n",
              "      <td>-0.013333</td>\n",
              "      <td>0.016883</td>\n",
              "    </tr>\n",
              "  </tbody>\n",
              "</table>\n",
              "</div>"
            ],
            "text/plain": [
              "               FLRY3     WEGE3\n",
              "Date                          \n",
              "2015-01-02 -0.017199  0.009837\n",
              "2015-01-05 -0.041875  0.006812\n",
              "2015-01-06 -0.014351 -0.014832\n",
              "2015-01-07 -0.007280 -0.011455\n",
              "2015-01-08 -0.013333  0.016883"
            ]
          },
          "metadata": {
            "tags": []
          },
          "execution_count": 12
        }
      ]
    },
    {
      "cell_type": "markdown",
      "metadata": {
        "id": "ElVs1h_am4g_"
      },
      "source": [
        "Para obtermos o retorno total de uma carteira, precisamos do retorno anualizado das ações que a compõe e do peso de cada uma delas na carteira:"
      ]
    },
    {
      "cell_type": "code",
      "metadata": {
        "id": "r-it4IpSm4hA",
        "outputId": "0557cfdd-ad2a-4831-db5a-a1fd43b75f23",
        "colab": {
          "base_uri": "https://localhost:8080/",
          "height": 72
        }
      },
      "source": [
        "#Obter o retorno anualizado das ações. ações.shape[0] representa a quantidade de dados no DataFrame.\n",
        "#252 é a quantidade de dias úteis em um ano.\n",
        "retornos_ann = (1 + ações).prod()**(252/ações.shape[0]) - 1\n",
        "retornos_ann"
      ],
      "execution_count": 13,
      "outputs": [
        {
          "output_type": "execute_result",
          "data": {
            "text/plain": [
              "FLRY3    0.239925\n",
              "WEGE3    0.402383\n",
              "dtype: float64"
            ]
          },
          "metadata": {
            "tags": []
          },
          "execution_count": 13
        }
      ]
    },
    {
      "cell_type": "code",
      "metadata": {
        "id": "2TOdS3ofm4hC",
        "outputId": "9c316e38-8fd0-4c9d-8525-cf78f35316a1",
        "colab": {
          "base_uri": "https://localhost:8080/",
          "height": 72
        }
      },
      "source": [
        "#Obter a volatilidade anualizada das ações. \n",
        "vol_ann = ações.std()*(252**0.5)\n",
        "vol_ann"
      ],
      "execution_count": 14,
      "outputs": [
        {
          "output_type": "execute_result",
          "data": {
            "text/plain": [
              "FLRY3    0.334375\n",
              "WEGE3    0.350275\n",
              "dtype: float64"
            ]
          },
          "metadata": {
            "tags": []
          },
          "execution_count": 14
        }
      ]
    },
    {
      "cell_type": "code",
      "metadata": {
        "id": "saDPHm2Fm4hE"
      },
      "source": [
        "#Obtém um Array, tipo de conjunto de dados, com peso igual a 50% para cada ação. \n",
        "#Um Array é muito utíl para criar matrizes e fazer operações com elas.\n",
        "pesos = np.array([0.50, 0.50])"
      ],
      "execution_count": 15,
      "outputs": []
    },
    {
      "cell_type": "code",
      "metadata": {
        "id": "AfdkrJ2Um4hH",
        "outputId": "4a29a788-7f58-41ac-ca62-cfefa943298b",
        "colab": {
          "base_uri": "https://localhost:8080/",
          "height": 72
        }
      },
      "source": [
        "#Obtém o retorno de cada ação ponderado pelo peso da mesma.\n",
        "retornos_ann * pesos"
      ],
      "execution_count": 16,
      "outputs": [
        {
          "output_type": "execute_result",
          "data": {
            "text/plain": [
              "FLRY3    0.119963\n",
              "WEGE3    0.201192\n",
              "dtype: float64"
            ]
          },
          "metadata": {
            "tags": []
          },
          "execution_count": 16
        }
      ]
    },
    {
      "cell_type": "code",
      "metadata": {
        "id": "ipUhw2DVm4hL",
        "outputId": "018cb1a3-4aa1-4a37-cccd-e0d4c840257d",
        "colab": {
          "base_uri": "https://localhost:8080/",
          "height": 35
        }
      },
      "source": [
        "#Obtém o retorno total da carteira, ponderado pelo peso. O .sum() representa a soma dos resultados da primeira conta.\n",
        "(retornos_ann * pesos).sum()"
      ],
      "execution_count": 17,
      "outputs": [
        {
          "output_type": "execute_result",
          "data": {
            "text/plain": [
              "0.321154279888485"
            ]
          },
          "metadata": {
            "tags": []
          },
          "execution_count": 17
        }
      ]
    },
    {
      "cell_type": "markdown",
      "metadata": {
        "id": "ViDCN2rpm4hN"
      },
      "source": [
        "Experimente definir diferentes pesos para ver qual seria o retorno total da carteira!\n",
        "\n",
        "Iremos agora criar uma função para calcular o retorno de um portfolio:"
      ]
    },
    {
      "cell_type": "code",
      "metadata": {
        "id": "eEoWWmPWm4hO"
      },
      "source": [
        "#Define uma função que retorna a multiplicação entre duas matrizes, calculando o retorno da carteira:\n",
        "def portfolio_return(pesos, retornos_ann):\n",
        "    \"\"\"\n",
        "    A partir dos pesos e dos retornos anualizados, calcula o retorno anualizado total de um portfolio.\n",
        "    Pesos é uma matriz Nx1 e retornos é uma matriz Nx1. Ambas serão multiplicadas.\n",
        "    \"\"\"\n",
        "    return pesos.T @ retornos_ann"
      ],
      "execution_count": 18,
      "outputs": []
    },
    {
      "cell_type": "code",
      "metadata": {
        "id": "jccA6fVzm4hQ",
        "outputId": "32a8956f-ea8d-40aa-a8f3-e49a4871c556",
        "colab": {
          "base_uri": "https://localhost:8080/",
          "height": 35
        }
      },
      "source": [
        "portfolio_return(pesos, retornos_ann)"
      ],
      "execution_count": 19,
      "outputs": [
        {
          "output_type": "execute_result",
          "data": {
            "text/plain": [
              "0.321154279888485"
            ]
          },
          "metadata": {
            "tags": []
          },
          "execution_count": 19
        }
      ]
    },
    {
      "cell_type": "markdown",
      "metadata": {
        "id": "9RTzU5NEm4hS"
      },
      "source": [
        "A volatilidade, ou desvio padrão, de um portfólio de ações pode ser calculado da seguinte forma:\n",
        "<br>\n",
        "<br>\n",
        "<br>\n",
        "$$ Volatilidade \\, da \\, Carteira \\,= \\sqrt{w_{1}^2\\sigma_{1}^2+w_{2}^2\\sigma_{2}^2+2w_{1}w_{2}Cov_{1,2}} $$\n",
        "<br>\n",
        "- $ w_{1} $ e $ w_{2} $ são os pesos de cada ação.\n",
        "- $ \\sigma_{1} $ e $ \\sigma_{2} $ são os desvios padrões de cada ação.\n",
        "- $ Cov_{1,2} $ é a covariância entre as duas ações.\n",
        "\n",
        "A covarância é uma medida muito similar à correlação. É necessário usá-la no cálculo pois se duas ações em uma carteira não variam conjuntamente, por causa dos mesmos fatores, o risco da carteira será menor. É possível também usar um método de multiplicação de matrizes para obter o mesmo valor de forma mais simples, da seguinte forma:"
      ]
    },
    {
      "cell_type": "code",
      "metadata": {
        "id": "cd8T6qk_m4hT"
      },
      "source": [
        "#Define uma função que retorna a raiz da multiplicação entre três matrizes, calculando a volatilidade da carteira:\n",
        "def portfolio_vol(pesos, matcovs):\n",
        "    \"\"\"\n",
        "    A partir dos pesos e de uma matriz de covariância, calcula a volatilidade total de um portfolio.\n",
        "    Pesos é uma matriz Nx1 e matcovs é uma matriz NxN. Ambas serão multiplicadas.\n",
        "    \"\"\"\n",
        "    return (pesos.T @ matcovs @ pesos)**0.5"
      ],
      "execution_count": 20,
      "outputs": []
    },
    {
      "cell_type": "code",
      "metadata": {
        "id": "maiI0Q52m4hV",
        "outputId": "2302cdb7-0dde-470b-bc0e-5d278be7e6ba",
        "colab": {
          "base_uri": "https://localhost:8080/",
          "height": 108
        }
      },
      "source": [
        "#Obtém a matriz de covariância entre as ações:\n",
        "matcovs = ações.cov()\n",
        "matcovs"
      ],
      "execution_count": 21,
      "outputs": [
        {
          "output_type": "execute_result",
          "data": {
            "text/html": [
              "<div>\n",
              "<style scoped>\n",
              "    .dataframe tbody tr th:only-of-type {\n",
              "        vertical-align: middle;\n",
              "    }\n",
              "\n",
              "    .dataframe tbody tr th {\n",
              "        vertical-align: top;\n",
              "    }\n",
              "\n",
              "    .dataframe thead th {\n",
              "        text-align: right;\n",
              "    }\n",
              "</style>\n",
              "<table border=\"1\" class=\"dataframe\">\n",
              "  <thead>\n",
              "    <tr style=\"text-align: right;\">\n",
              "      <th></th>\n",
              "      <th>FLRY3</th>\n",
              "      <th>WEGE3</th>\n",
              "    </tr>\n",
              "  </thead>\n",
              "  <tbody>\n",
              "    <tr>\n",
              "      <th>FLRY3</th>\n",
              "      <td>0.000444</td>\n",
              "      <td>0.000142</td>\n",
              "    </tr>\n",
              "    <tr>\n",
              "      <th>WEGE3</th>\n",
              "      <td>0.000142</td>\n",
              "      <td>0.000487</td>\n",
              "    </tr>\n",
              "  </tbody>\n",
              "</table>\n",
              "</div>"
            ],
            "text/plain": [
              "          FLRY3     WEGE3\n",
              "FLRY3  0.000444  0.000142\n",
              "WEGE3  0.000142  0.000487"
            ]
          },
          "metadata": {
            "tags": []
          },
          "execution_count": 21
        }
      ]
    },
    {
      "cell_type": "code",
      "metadata": {
        "id": "4epe5ayfm4hY",
        "outputId": "79d93b70-b557-4c8f-91b1-addb178f4fea",
        "colab": {
          "base_uri": "https://localhost:8080/",
          "height": 35
        }
      },
      "source": [
        "#Obtém a volatilidade anualizada do portfólio\n",
        "portfolio_vol(pesos, matcovs)*(252**0.5)"
      ],
      "execution_count": 22,
      "outputs": [
        {
          "output_type": "execute_result",
          "data": {
            "text/plain": [
              "0.27666610902747063"
            ]
          },
          "metadata": {
            "tags": []
          },
          "execution_count": 22
        }
      ]
    },
    {
      "cell_type": "markdown",
      "metadata": {
        "id": "E93MVl55m4hb"
      },
      "source": [
        "Note que as volatilidades anualizadas para cada uma das ações individualmente eram de 0.335 (FLRY3) e 0.349 (WEGE3). Com uma combinação das duas, foi possível obter uma volatilidade menor! Isso foi possível porque as duas açõe possuem uma correlação baixa entre si, fazendo com que a carteira esteja menos exposta a riscos específicos. \n",
        "\n",
        "Agora experimente você mesmo! A partir de um conjunto de pesos para as ações, tente achar a composição com a menor volatilidade e a com o maior índice Sharpe:"
      ]
    },
    {
      "cell_type": "code",
      "metadata": {
        "id": "v5d55ZyFm4hb",
        "outputId": "011919a8-0717-4026-e09c-7cf7aa35e3e1",
        "colab": {
          "base_uri": "https://localhost:8080/",
          "height": 35
        }
      },
      "source": [
        "pesos = np.array([0.50, 0.50])\n",
        "\n",
        "retorno = portfolio_return(pesos, retornos_ann)\n",
        "volatilidade = portfolio_vol(pesos, matcovs)*(252**0.5)\n",
        "\n",
        "taxa_livre_de_risco = 0.06\n",
        "sharpe = (retorno - taxa_livre_de_risco)/volatilidade\n",
        "\n",
        "print('Volatilidade:', volatilidade, \"|\", 'Sharpe:', sharpe)"
      ],
      "execution_count": 23,
      "outputs": [
        {
          "output_type": "stream",
          "text": [
            "Volatilidade: 0.27666610902747063 | Sharpe: 0.9439330346838924\n"
          ],
          "name": "stdout"
        }
      ]
    },
    {
      "cell_type": "markdown",
      "metadata": {
        "id": "EtmJ9-s_m4hf"
      },
      "source": [
        "## Teoria Moderna do Portfólio\n",
        "Para Harry Markowitz, a carteira de ações ideal é aquela com o maior retorno para um dado nível de risco. Para entender melhor o conceito, podemos construir um gráfico com todos os retornos possíveis da nossa carteira e de seu correspondente nível de volatilidade, para cada combinação de pesos:"
      ]
    },
    {
      "cell_type": "code",
      "metadata": {
        "id": "uMIb48Q0m4hg",
        "outputId": "ce6dce9b-e968-4539-a128-fed214d6cb5c",
        "colab": {
          "base_uri": "https://localhost:8080/",
          "height": 297
        }
      },
      "source": [
        "#Determina o número de combinações de pesos:\n",
        "n_pontos = 20\n",
        "\n",
        "#Cria uma lista de combinações de pesos com uma quantidade de combinações igual a n_pontos:\n",
        "#Note que a soma dos pesos sempre será igual a 1 (100%)\n",
        "m_pesos = [np.array([w, 1-w]) for w in np.linspace(0, 1, n_pontos)]\n",
        "\n",
        "#Cria uma lista de retornos e volatilidades para cada combinação de pesos na lista m_pesos:\n",
        "rets = [portfolio_return(w, retornos_ann) for w in m_pesos]\n",
        "vols = [portfolio_vol(w, matcovs)*(252**0.5) for w in m_pesos]\n",
        "\n",
        "#Adiciona os retornos e volatilidades a um DataFrame e exibe um gráfico com as combinações.\n",
        "ef = pd.DataFrame({\"Returns\": rets, \"Volatility\": vols})\n",
        "ef.plot.line(x=\"Volatility\", y=\"Returns\", style=\".-\")"
      ],
      "execution_count": 24,
      "outputs": [
        {
          "output_type": "execute_result",
          "data": {
            "text/plain": [
              "<matplotlib.axes._subplots.AxesSubplot at 0x7f7b1592c278>"
            ]
          },
          "metadata": {
            "tags": []
          },
          "execution_count": 24
        },
        {
          "output_type": "display_data",
          "data": {
            "image/png": "[encoded data removed]",
            "text/plain": [
              "<Figure size 432x288 with 1 Axes>"
            ]
          },
          "metadata": {
            "tags": [],
            "needs_background": "light"
          }
        }
      ]
    },
    {
      "cell_type": "markdown",
      "metadata": {
        "id": "zQXHfSZUm4hj"
      },
      "source": [
        "Observe que o ponto na extremidade de cima representa uma carteira apenas com ações da WEGE3, enquanto o ponto na extremidade de baixo representa uma carteira apenas com ações da FLRY3. Conforme mais de uma outra ação vai sendo adicionada, mais a volatilidade diminui, até chegar a seu ponto mínimo.\n",
        "\n",
        "Uma obervação importante a ser feita é que todos os pontos abaixo do ponto de volatilidade mínima não valem a pena: é possível obter um retorno maior com o mesmo nível de risco, ou até menos risco. O segmento da curva que vai do ponto de volatilidade mínima até a extremidade superior, então, é chamado de fronteira eficiente: qualquer ponto nessa fronteira será o que possibilida o maior retorno para certa quantidade de risco.\n",
        "\n",
        "As duas principais carteiras que podem ser retiradas da fronteira eficiente são a carteira com mínima volatilidade, que se encontra no vértice, e a carteira com índice sharpe máximo, que vai depender da taxa livre de risco. O modelo de Markowitz também pode ser utilizado com mais de duas ações, o que torna a análise mais complexa."
      ]
    },
    {
      "cell_type": "markdown",
      "metadata": {
        "id": "V0gRoLsqm4hj"
      },
      "source": [
        "Experimente agora aplicar o modelo de Markowitz com outras ações!"
      ]
    }
  ]
}
