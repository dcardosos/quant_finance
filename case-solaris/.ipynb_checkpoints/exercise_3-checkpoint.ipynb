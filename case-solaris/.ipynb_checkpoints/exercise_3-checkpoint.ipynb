{
 "cells": [
  {
   "cell_type": "code",
   "execution_count": 41,
   "id": "184227b8",
   "metadata": {},
   "outputs": [],
   "source": [
    "# libraries\n",
    "import pandas as pd\n",
    "import numpy as np"
   ]
  },
  {
   "cell_type": "code",
   "execution_count": 42,
   "id": "1ca6c524",
   "metadata": {},
   "outputs": [],
   "source": [
    "# lendo o arquivo dado\n",
    "df = pd.read_excel('retornos_case_intern.xlsx', index_col = 0)"
   ]
  },
  {
   "cell_type": "code",
   "execution_count": 43,
   "id": "6de5de0f",
   "metadata": {},
   "outputs": [],
   "source": [
    "# transformando a coluna de datas em índices\n",
    "df.index = pd.to_datetime(df.index, format = \"%Y-%d-%m\")"
   ]
  },
  {
   "cell_type": "code",
   "execution_count": 44,
   "id": "0af2cb6a",
   "metadata": {},
   "outputs": [
    {
     "data": {
      "text/html": [
       "<div>\n",
       "<style scoped>\n",
       "    .dataframe tbody tr th:only-of-type {\n",
       "        vertical-align: middle;\n",
       "    }\n",
       "\n",
       "    .dataframe tbody tr th {\n",
       "        vertical-align: top;\n",
       "    }\n",
       "\n",
       "    .dataframe thead th {\n",
       "        text-align: right;\n",
       "    }\n",
       "</style>\n",
       "<table border=\"1\" class=\"dataframe\">\n",
       "  <thead>\n",
       "    <tr style=\"text-align: right;\">\n",
       "      <th></th>\n",
       "      <th>Ativo_1</th>\n",
       "      <th>Ativo_2</th>\n",
       "      <th>Ativo_3</th>\n",
       "      <th>Ativo_4</th>\n",
       "      <th>Ativo_5</th>\n",
       "      <th>Ativo_6</th>\n",
       "    </tr>\n",
       "  </thead>\n",
       "  <tbody>\n",
       "    <tr>\n",
       "      <th>1990-01-31</th>\n",
       "      <td>-0.006221</td>\n",
       "      <td>-0.016141</td>\n",
       "      <td>-0.010321</td>\n",
       "      <td>0.005933</td>\n",
       "      <td>-0.007046</td>\n",
       "      <td>0.010962</td>\n",
       "    </tr>\n",
       "    <tr>\n",
       "      <th>1990-02-28</th>\n",
       "      <td>-0.012322</td>\n",
       "      <td>0.004316</td>\n",
       "      <td>-0.004284</td>\n",
       "      <td>0.012534</td>\n",
       "      <td>-0.015115</td>\n",
       "      <td>0.001034</td>\n",
       "    </tr>\n",
       "    <tr>\n",
       "      <th>1990-03-31</th>\n",
       "      <td>0.012966</td>\n",
       "      <td>-0.003956</td>\n",
       "      <td>-0.016332</td>\n",
       "      <td>-0.013700</td>\n",
       "      <td>-0.014143</td>\n",
       "      <td>-0.005226</td>\n",
       "    </tr>\n",
       "    <tr>\n",
       "      <th>1990-04-30</th>\n",
       "      <td>-0.003119</td>\n",
       "      <td>0.003025</td>\n",
       "      <td>0.003202</td>\n",
       "      <td>-0.000707</td>\n",
       "      <td>0.001332</td>\n",
       "      <td>-0.010864</td>\n",
       "    </tr>\n",
       "    <tr>\n",
       "      <th>1990-05-31</th>\n",
       "      <td>0.006231</td>\n",
       "      <td>-0.007903</td>\n",
       "      <td>0.007994</td>\n",
       "      <td>0.010350</td>\n",
       "      <td>0.003903</td>\n",
       "      <td>0.007386</td>\n",
       "    </tr>\n",
       "  </tbody>\n",
       "</table>\n",
       "</div>"
      ],
      "text/plain": [
       "             Ativo_1   Ativo_2   Ativo_3   Ativo_4   Ativo_5   Ativo_6\n",
       "1990-01-31 -0.006221 -0.016141 -0.010321  0.005933 -0.007046  0.010962\n",
       "1990-02-28 -0.012322  0.004316 -0.004284  0.012534 -0.015115  0.001034\n",
       "1990-03-31  0.012966 -0.003956 -0.016332 -0.013700 -0.014143 -0.005226\n",
       "1990-04-30 -0.003119  0.003025  0.003202 -0.000707  0.001332 -0.010864\n",
       "1990-05-31  0.006231 -0.007903  0.007994  0.010350  0.003903  0.007386"
      ]
     },
     "execution_count": 44,
     "metadata": {},
     "output_type": "execute_result"
    }
   ],
   "source": [
    "df.head()"
   ]
  },
  {
   "cell_type": "code",
   "execution_count": 45,
   "id": "d61d5301",
   "metadata": {},
   "outputs": [],
   "source": [
    "# pesos dados para o exercício\n",
    "weights = np.array([.1, .1, .25, .3, .12, .13])"
   ]
  },
  {
   "cell_type": "code",
   "execution_count": 46,
   "id": "f6b2486d",
   "metadata": {},
   "outputs": [],
   "source": [
    "# calculando a matriz de covariância\n",
    "covariance = df.cov()"
   ]
  },
  {
   "cell_type": "code",
   "execution_count": 47,
   "id": "08fc1c05",
   "metadata": {
    "scrolled": true
   },
   "outputs": [],
   "source": [
    "# aplicando a fórmula de risco do portfólio vista no exercício 1\n",
    "portfolio_variance = (weights * covariance * weights.T)['Ativo_1'][0]\n",
    "\n",
    "# elevando ao quadrado para posterior cálculo do risk contribution\n",
    "sigma = np.sqrt(portfolio_variance)"
   ]
  },
  {
   "cell_type": "code",
   "execution_count": 52,
   "id": "dd42af1a",
   "metadata": {},
   "outputs": [
    {
     "name": "stdout",
     "output_type": "stream",
     "text": [
      "          Ativo_1   Ativo_2   Ativo_3   Ativo_4   Ativo_5   Ativo_6\n",
      "Ativo_1  0.000994 -0.000079  0.000305  0.000282 -0.000085 -0.000004\n",
      "Ativo_2 -0.000079  0.001142 -0.000307  0.000114  0.000030  0.000049\n",
      "Ativo_3  0.000049 -0.000049  0.006664  0.000100 -0.000032 -0.000072\n",
      "Ativo_4  0.000031  0.000013  0.000070  0.008496 -0.000043 -0.000104\n",
      "Ativo_5 -0.000059  0.000021 -0.000138 -0.000271  0.001430 -0.000052\n",
      "Ativo_6 -0.000002  0.000029 -0.000267 -0.000551 -0.000044  0.001812\n"
     ]
    }
   ],
   "source": [
    "# calculando o risco marginal de cada ativo\n",
    "marginal_risk = covariance*weights.T\n",
    "\n",
    "# risk contribution calculado a partir da multiplicação dos riscos marginais \n",
    "#e pesos de cada ativo, dividos pelo quadrado da volatilidade do portfólio\n",
    "risk_contribution = np.multiply(marginal_risk, weights.T)/sigma\n",
    "\n",
    "print(risk_contribution)"
   ]
  },
  {
   "cell_type": "code",
   "execution_count": null,
   "id": "27971e7b",
   "metadata": {
    "scrolled": true
   },
   "outputs": [],
   "source": [
    "# biblioteca para facilitar o cálculo do equal risk contribution\n",
    "!pip install git+https://github.com/jcrichard/pyrb"
   ]
  },
  {
   "cell_type": "code",
   "execution_count": 54,
   "id": "ffbe5bc7",
   "metadata": {},
   "outputs": [],
   "source": [
    "# importando as classes\n",
    "from pyrb import EqualRiskContribution, RiskBudgeting, RiskBudgetAllocation"
   ]
  },
  {
   "cell_type": "code",
   "execution_count": 55,
   "id": "56e3530f",
   "metadata": {},
   "outputs": [],
   "source": [
    "# resolvendo a otimização\n",
    "ERC = EqualRiskContribution(covariance)\n",
    "ERC.solve()"
   ]
  },
  {
   "cell_type": "code",
   "execution_count": 57,
   "id": "9f0fa658",
   "metadata": {},
   "outputs": [
    {
     "data": {
      "text/html": [
       "<div>\n",
       "<style scoped>\n",
       "    .dataframe tbody tr th:only-of-type {\n",
       "        vertical-align: middle;\n",
       "    }\n",
       "\n",
       "    .dataframe tbody tr th {\n",
       "        vertical-align: top;\n",
       "    }\n",
       "\n",
       "    .dataframe thead th {\n",
       "        text-align: right;\n",
       "    }\n",
       "</style>\n",
       "<table border=\"1\" class=\"dataframe\">\n",
       "  <thead>\n",
       "    <tr style=\"text-align: right;\">\n",
       "      <th></th>\n",
       "      <th>optinal weigths</th>\n",
       "      <th>risk contribution</th>\n",
       "      <th>risk contribution(scaled)</th>\n",
       "    </tr>\n",
       "  </thead>\n",
       "  <tbody>\n",
       "    <tr>\n",
       "      <th>Ativo_1</th>\n",
       "      <td>0.168625</td>\n",
       "      <td>0.000664</td>\n",
       "      <td>0.166667</td>\n",
       "    </tr>\n",
       "    <tr>\n",
       "      <th>Ativo_2</th>\n",
       "      <td>0.157328</td>\n",
       "      <td>0.000664</td>\n",
       "      <td>0.166667</td>\n",
       "    </tr>\n",
       "    <tr>\n",
       "      <th>Ativo_3</th>\n",
       "      <td>0.162022</td>\n",
       "      <td>0.000664</td>\n",
       "      <td>0.166667</td>\n",
       "    </tr>\n",
       "    <tr>\n",
       "      <th>Ativo_4</th>\n",
       "      <td>0.171272</td>\n",
       "      <td>0.000664</td>\n",
       "      <td>0.166667</td>\n",
       "    </tr>\n",
       "    <tr>\n",
       "      <th>Ativo_5</th>\n",
       "      <td>0.174323</td>\n",
       "      <td>0.000664</td>\n",
       "      <td>0.166667</td>\n",
       "    </tr>\n",
       "    <tr>\n",
       "      <th>Ativo_6</th>\n",
       "      <td>0.166429</td>\n",
       "      <td>0.000664</td>\n",
       "      <td>0.166667</td>\n",
       "    </tr>\n",
       "  </tbody>\n",
       "</table>\n",
       "</div>"
      ],
      "text/plain": [
       "         optinal weigths  risk contribution  risk contribution(scaled)\n",
       "Ativo_1         0.168625           0.000664                   0.166667\n",
       "Ativo_2         0.157328           0.000664                   0.166667\n",
       "Ativo_3         0.162022           0.000664                   0.166667\n",
       "Ativo_4         0.171272           0.000664                   0.166667\n",
       "Ativo_5         0.174323           0.000664                   0.166667\n",
       "Ativo_6         0.166429           0.000664                   0.166667"
      ]
     },
     "execution_count": 57,
     "metadata": {},
     "output_type": "execute_result"
    }
   ],
   "source": [
    "# apenas pegando os optimal weights resolvidos anteriormente, \n",
    "# assim como as outras features\n",
    "optimal_weights =  ERC.x\n",
    "risk_contributions =  ERC.get_risk_contributions(scale = False)\n",
    "risk_contributions_scaled =  ERC.get_risk_contributions()\n",
    "\n",
    "# montando o dataframe com os dados\n",
    "allocation = pd.DataFrame(np.concatenate([[optimal_weights,risk_contributions,risk_contributions_scaled]]  ).T, index = covariance.index,columns=[\"optinal weigths\",\"risk contribution\",\"risk contribution(scaled)\"])\n",
    "allocation\n"
   ]
  }
 ],
 "metadata": {
  "kernelspec": {
   "display_name": "Python 3",
   "language": "python",
   "name": "python3"
  },
  "language_info": {
   "codemirror_mode": {
    "name": "ipython",
    "version": 3
   },
   "file_extension": ".py",
   "mimetype": "text/x-python",
   "name": "python",
   "nbconvert_exporter": "python",
   "pygments_lexer": "ipython3",
   "version": "3.8.5"
  }
 },
 "nbformat": 4,
 "nbformat_minor": 5
}
