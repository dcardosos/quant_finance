{
 "cells": [
  {
   "cell_type": "markdown",
   "metadata": {},
   "source": [
    "# Bônus - O Poder da Diversificação\n",
    "Neste módulo bônus serão apresentados os conceitos de correlação e covariância, de volatilidade de portfolios, a teoria moderna do portfólio e como a diversificação de uma carteira se relaciona com eles."
   ]
  },
  {
   "cell_type": "markdown",
   "metadata": {},
   "source": [
    "\n",
    "<div align='center'><a href='https://www.ft.com/content/d0723e90-8d8b-11e7-a352-e46f43c5825d'/ style='display:inline-block'><img src='https://media.giphy.com/media/l1xpAqINkEcydtOWrc/giphy.gif' eight=\"100%\" width=\"600\" style=\"margin-left: auto;margin-right: auto\"><a/><div"
   ]
  },
  {
   "cell_type": "markdown",
   "metadata": {},
   "source": [
    "## Obtendo os Dados:\n",
    "Primeiramente, serão importados para o python os dados que iremos utilizar na análise. Os dados representam os retornos de 5 ações diferentes da bolsa, a partir do começo de 2015 até o dia 16 de setembro de 2020. Todos podem ser obtidos no site Yahoo Finanças, ao se pesquisar por uma ação e ir para a aba \"Dados Históricos\"."
   ]
  },
  {
   "cell_type": "code",
   "execution_count": 1,
   "metadata": {},
   "outputs": [
    {
     "name": "stdout",
     "output_type": "stream",
     "text": [
      "Requirement already up-to-date: yfinance in c:\\users\\douglas\\anaconda3\\lib\\site-packages (0.1.54)\n",
      "Requirement already satisfied, skipping upgrade: numpy>=1.15 in c:\\users\\douglas\\anaconda3\\lib\\site-packages (from yfinance) (1.18.5)\n",
      "Requirement already satisfied, skipping upgrade: multitasking>=0.0.7 in c:\\users\\douglas\\anaconda3\\lib\\site-packages (from yfinance) (0.0.9)\n",
      "Requirement already satisfied, skipping upgrade: pandas>=0.24 in c:\\users\\douglas\\anaconda3\\lib\\site-packages (from yfinance) (1.0.5)\n",
      "Requirement already satisfied, skipping upgrade: requests>=2.20 in c:\\users\\douglas\\anaconda3\\lib\\site-packages (from yfinance) (2.24.0)\n",
      "Requirement already satisfied, skipping upgrade: pytz>=2017.2 in c:\\users\\douglas\\anaconda3\\lib\\site-packages (from pandas>=0.24->yfinance) (2020.1)\n",
      "Requirement already satisfied, skipping upgrade: python-dateutil>=2.6.1 in c:\\users\\douglas\\anaconda3\\lib\\site-packages (from pandas>=0.24->yfinance) (2.8.1)\n",
      "Requirement already satisfied, skipping upgrade: urllib3!=1.25.0,!=1.25.1,<1.26,>=1.21.1 in c:\\users\\douglas\\anaconda3\\lib\\site-packages (from requests>=2.20->yfinance) (1.25.9)\n",
      "Requirement already satisfied, skipping upgrade: chardet<4,>=3.0.2 in c:\\users\\douglas\\anaconda3\\lib\\site-packages (from requests>=2.20->yfinance) (3.0.4)\n",
      "Requirement already satisfied, skipping upgrade: certifi>=2017.4.17 in c:\\users\\douglas\\anaconda3\\lib\\site-packages (from requests>=2.20->yfinance) (2020.6.20)\n",
      "Requirement already satisfied, skipping upgrade: idna<3,>=2.5 in c:\\users\\douglas\\anaconda3\\lib\\site-packages (from requests>=2.20->yfinance) (2.10)\n",
      "Requirement already satisfied, skipping upgrade: six>=1.5 in c:\\users\\douglas\\anaconda3\\lib\\site-packages (from python-dateutil>=2.6.1->pandas>=0.24->yfinance) (1.15.0)\n"
     ]
    }
   ],
   "source": [
    "#Importa as Libraries que iremos usar:\n",
    "import numpy as np\n",
    "import pandas as pd\n",
    "import pandas_datareader.data as web\n",
    "import matplotlib.pyplot as plt\n",
    "\n",
    "# Instalando biblioteca que importa dados diretamente do Yahoo Finance\n",
    "!pip install yfinance --upgrade --no-cache-dir\n",
    "import yfinance as yf\n",
    "yf.pdr_override()"
   ]
  },
  {
   "cell_type": "code",
   "execution_count": 2,
   "metadata": {},
   "outputs": [],
   "source": [
    "# Escolhendo as ações que iremos importar (observe que para isso digita-se o código da ação e '.SA')\n",
    "tickers = ['WEGE3.SA','MRFG3.SA','FLRY3.SA','BBAS3.SA','BBDC4.SA']"
   ]
  },
  {
   "cell_type": "code",
   "execution_count": 8,
   "metadata": {
    "scrolled": true
   },
   "outputs": [
    {
     "name": "stdout",
     "output_type": "stream",
     "text": [
      "[*********************100%***********************]  5 of 5 completed\n"
     ]
    },
    {
     "data": {
      "text/html": [
       "<div>\n",
       "<style scoped>\n",
       "    .dataframe tbody tr th:only-of-type {\n",
       "        vertical-align: middle;\n",
       "    }\n",
       "\n",
       "    .dataframe tbody tr th {\n",
       "        vertical-align: top;\n",
       "    }\n",
       "\n",
       "    .dataframe thead tr th {\n",
       "        text-align: left;\n",
       "    }\n",
       "\n",
       "    .dataframe thead tr:last-of-type th {\n",
       "        text-align: right;\n",
       "    }\n",
       "</style>\n",
       "<table border=\"1\" class=\"dataframe\">\n",
       "  <thead>\n",
       "    <tr>\n",
       "      <th></th>\n",
       "      <th colspan=\"5\" halign=\"left\">Adj Close</th>\n",
       "      <th colspan=\"5\" halign=\"left\">Close</th>\n",
       "      <th>...</th>\n",
       "      <th colspan=\"5\" halign=\"left\">Open</th>\n",
       "      <th colspan=\"5\" halign=\"left\">Volume</th>\n",
       "    </tr>\n",
       "    <tr>\n",
       "      <th></th>\n",
       "      <th>BBAS3.SA</th>\n",
       "      <th>BBDC4.SA</th>\n",
       "      <th>FLRY3.SA</th>\n",
       "      <th>MRFG3.SA</th>\n",
       "      <th>WEGE3.SA</th>\n",
       "      <th>BBAS3.SA</th>\n",
       "      <th>BBDC4.SA</th>\n",
       "      <th>FLRY3.SA</th>\n",
       "      <th>MRFG3.SA</th>\n",
       "      <th>WEGE3.SA</th>\n",
       "      <th>...</th>\n",
       "      <th>BBAS3.SA</th>\n",
       "      <th>BBDC4.SA</th>\n",
       "      <th>FLRY3.SA</th>\n",
       "      <th>MRFG3.SA</th>\n",
       "      <th>WEGE3.SA</th>\n",
       "      <th>BBAS3.SA</th>\n",
       "      <th>BBDC4.SA</th>\n",
       "      <th>FLRY3.SA</th>\n",
       "      <th>MRFG3.SA</th>\n",
       "      <th>WEGE3.SA</th>\n",
       "    </tr>\n",
       "    <tr>\n",
       "      <th>Date</th>\n",
       "      <th></th>\n",
       "      <th></th>\n",
       "      <th></th>\n",
       "      <th></th>\n",
       "      <th></th>\n",
       "      <th></th>\n",
       "      <th></th>\n",
       "      <th></th>\n",
       "      <th></th>\n",
       "      <th></th>\n",
       "      <th></th>\n",
       "      <th></th>\n",
       "      <th></th>\n",
       "      <th></th>\n",
       "      <th></th>\n",
       "      <th></th>\n",
       "      <th></th>\n",
       "      <th></th>\n",
       "      <th></th>\n",
       "      <th></th>\n",
       "      <th></th>\n",
       "    </tr>\n",
       "  </thead>\n",
       "  <tbody>\n",
       "    <tr>\n",
       "      <th>2000-01-03</th>\n",
       "      <td>1.479128</td>\n",
       "      <td>NaN</td>\n",
       "      <td>NaN</td>\n",
       "      <td>NaN</td>\n",
       "      <td>0.203761</td>\n",
       "      <td>2.73333</td>\n",
       "      <td>NaN</td>\n",
       "      <td>NaN</td>\n",
       "      <td>NaN</td>\n",
       "      <td>0.33728</td>\n",
       "      <td>...</td>\n",
       "      <td>2.80000</td>\n",
       "      <td>NaN</td>\n",
       "      <td>NaN</td>\n",
       "      <td>NaN</td>\n",
       "      <td>0.33728</td>\n",
       "      <td>514800.0</td>\n",
       "      <td>NaN</td>\n",
       "      <td>NaN</td>\n",
       "      <td>NaN</td>\n",
       "      <td>189280.0</td>\n",
       "    </tr>\n",
       "    <tr>\n",
       "      <th>2000-01-04</th>\n",
       "      <td>1.408780</td>\n",
       "      <td>NaN</td>\n",
       "      <td>NaN</td>\n",
       "      <td>NaN</td>\n",
       "      <td>0.196608</td>\n",
       "      <td>2.60333</td>\n",
       "      <td>NaN</td>\n",
       "      <td>NaN</td>\n",
       "      <td>NaN</td>\n",
       "      <td>0.32544</td>\n",
       "      <td>...</td>\n",
       "      <td>2.73333</td>\n",
       "      <td>NaN</td>\n",
       "      <td>NaN</td>\n",
       "      <td>NaN</td>\n",
       "      <td>0.32840</td>\n",
       "      <td>314100.0</td>\n",
       "      <td>NaN</td>\n",
       "      <td>NaN</td>\n",
       "      <td>NaN</td>\n",
       "      <td>23660.0</td>\n",
       "    </tr>\n",
       "    <tr>\n",
       "      <th>2000-01-05</th>\n",
       "      <td>1.423212</td>\n",
       "      <td>NaN</td>\n",
       "      <td>NaN</td>\n",
       "      <td>NaN</td>\n",
       "      <td>0.232361</td>\n",
       "      <td>2.63000</td>\n",
       "      <td>NaN</td>\n",
       "      <td>NaN</td>\n",
       "      <td>NaN</td>\n",
       "      <td>0.38462</td>\n",
       "      <td>...</td>\n",
       "      <td>2.60000</td>\n",
       "      <td>NaN</td>\n",
       "      <td>NaN</td>\n",
       "      <td>NaN</td>\n",
       "      <td>0.42692</td>\n",
       "      <td>478800.0</td>\n",
       "      <td>NaN</td>\n",
       "      <td>NaN</td>\n",
       "      <td>NaN</td>\n",
       "      <td>0.0</td>\n",
       "    </tr>\n",
       "    <tr>\n",
       "      <th>2000-01-06</th>\n",
       "      <td>1.443056</td>\n",
       "      <td>NaN</td>\n",
       "      <td>NaN</td>\n",
       "      <td>NaN</td>\n",
       "      <td>0.178738</td>\n",
       "      <td>2.66667</td>\n",
       "      <td>NaN</td>\n",
       "      <td>NaN</td>\n",
       "      <td>NaN</td>\n",
       "      <td>0.29586</td>\n",
       "      <td>...</td>\n",
       "      <td>2.63000</td>\n",
       "      <td>NaN</td>\n",
       "      <td>NaN</td>\n",
       "      <td>NaN</td>\n",
       "      <td>0.29586</td>\n",
       "      <td>205200.0</td>\n",
       "      <td>NaN</td>\n",
       "      <td>NaN</td>\n",
       "      <td>NaN</td>\n",
       "      <td>125060.0</td>\n",
       "    </tr>\n",
       "    <tr>\n",
       "      <th>2000-01-07</th>\n",
       "      <td>1.410587</td>\n",
       "      <td>NaN</td>\n",
       "      <td>NaN</td>\n",
       "      <td>NaN</td>\n",
       "      <td>0.178738</td>\n",
       "      <td>2.60667</td>\n",
       "      <td>NaN</td>\n",
       "      <td>NaN</td>\n",
       "      <td>NaN</td>\n",
       "      <td>0.29586</td>\n",
       "      <td>...</td>\n",
       "      <td>2.66667</td>\n",
       "      <td>NaN</td>\n",
       "      <td>NaN</td>\n",
       "      <td>NaN</td>\n",
       "      <td>0.29882</td>\n",
       "      <td>394200.0</td>\n",
       "      <td>NaN</td>\n",
       "      <td>NaN</td>\n",
       "      <td>NaN</td>\n",
       "      <td>67600.0</td>\n",
       "    </tr>\n",
       "  </tbody>\n",
       "</table>\n",
       "<p>5 rows × 30 columns</p>\n",
       "</div>"
      ],
      "text/plain": [
       "           Adj Close                                         Close           \\\n",
       "            BBAS3.SA BBDC4.SA FLRY3.SA MRFG3.SA  WEGE3.SA BBAS3.SA BBDC4.SA   \n",
       "Date                                                                          \n",
       "2000-01-03  1.479128      NaN      NaN      NaN  0.203761  2.73333      NaN   \n",
       "2000-01-04  1.408780      NaN      NaN      NaN  0.196608  2.60333      NaN   \n",
       "2000-01-05  1.423212      NaN      NaN      NaN  0.232361  2.63000      NaN   \n",
       "2000-01-06  1.443056      NaN      NaN      NaN  0.178738  2.66667      NaN   \n",
       "2000-01-07  1.410587      NaN      NaN      NaN  0.178738  2.60667      NaN   \n",
       "\n",
       "                                       ...     Open                    \\\n",
       "           FLRY3.SA MRFG3.SA WEGE3.SA  ... BBAS3.SA BBDC4.SA FLRY3.SA   \n",
       "Date                                   ...                              \n",
       "2000-01-03      NaN      NaN  0.33728  ...  2.80000      NaN      NaN   \n",
       "2000-01-04      NaN      NaN  0.32544  ...  2.73333      NaN      NaN   \n",
       "2000-01-05      NaN      NaN  0.38462  ...  2.60000      NaN      NaN   \n",
       "2000-01-06      NaN      NaN  0.29586  ...  2.63000      NaN      NaN   \n",
       "2000-01-07      NaN      NaN  0.29586  ...  2.66667      NaN      NaN   \n",
       "\n",
       "                                Volume                                       \n",
       "           MRFG3.SA WEGE3.SA  BBAS3.SA BBDC4.SA FLRY3.SA MRFG3.SA  WEGE3.SA  \n",
       "Date                                                                         \n",
       "2000-01-03      NaN  0.33728  514800.0      NaN      NaN      NaN  189280.0  \n",
       "2000-01-04      NaN  0.32840  314100.0      NaN      NaN      NaN   23660.0  \n",
       "2000-01-05      NaN  0.42692  478800.0      NaN      NaN      NaN       0.0  \n",
       "2000-01-06      NaN  0.29586  205200.0      NaN      NaN      NaN  125060.0  \n",
       "2000-01-07      NaN  0.29882  394200.0      NaN      NaN      NaN   67600.0  \n",
       "\n",
       "[5 rows x 30 columns]"
      ]
     },
     "execution_count": 8,
     "metadata": {},
     "output_type": "execute_result"
    }
   ],
   "source": [
    "# Aplica-se a biblioteca pandas_datareader, importada para o jupyter como 'web' para pegar dados do yahoo\n",
    "# e insere os dados dentro da variável 'carteira'.\n",
    "carteira= web.get_data_yahoo(tickers)\n",
    "\n",
    "#Mostra as 5 primeiras linhas de dados do arquivo contido na variável carteira:\n",
    "carteira.head()"
   ]
  },
  {
   "cell_type": "code",
   "execution_count": 9,
   "metadata": {},
   "outputs": [],
   "source": [
    "# Calcula-se os retornos aplicando 'pct_change()' a coluna 'Close' da nossa tabela\n",
    "carteira = carteira[{'Close'}].pct_change()"
   ]
  },
  {
   "cell_type": "code",
   "execution_count": 10,
   "metadata": {},
   "outputs": [],
   "source": [
    "# Seleciona-se dados apenas a partir de 2015\n",
    "carteira = carteira['2015':]\n",
    "\n",
    "# Mudando o nome da coluna para 'Returns'\n",
    "carteira = carteira.rename(columns={'Close':'Returns'})"
   ]
  },
  {
   "cell_type": "code",
   "execution_count": 11,
   "metadata": {},
   "outputs": [],
   "source": [
    "# Renomeando os nomes das colunas de nossa tabela\n",
    "retornos = carteira['Returns'].rename(columns={'BBAS3.SA':'BBAS3',\n",
    "                                              'BBDC4.SA':'BBDC4', \n",
    "                                              'FLRY3.SA':'FLRY3',\n",
    "                                              'MRFG3.SA':'MRFG3', \n",
    "                                              'WEGE3.SA':'WEGE3'})"
   ]
  },
  {
   "cell_type": "code",
   "execution_count": 12,
   "metadata": {},
   "outputs": [
    {
     "data": {
      "text/html": [
       "<div>\n",
       "<style scoped>\n",
       "    .dataframe tbody tr th:only-of-type {\n",
       "        vertical-align: middle;\n",
       "    }\n",
       "\n",
       "    .dataframe tbody tr th {\n",
       "        vertical-align: top;\n",
       "    }\n",
       "\n",
       "    .dataframe thead th {\n",
       "        text-align: right;\n",
       "    }\n",
       "</style>\n",
       "<table border=\"1\" class=\"dataframe\">\n",
       "  <thead>\n",
       "    <tr style=\"text-align: right;\">\n",
       "      <th></th>\n",
       "      <th>BBAS3</th>\n",
       "      <th>BBDC4</th>\n",
       "      <th>FLRY3</th>\n",
       "      <th>MRFG3</th>\n",
       "      <th>WEGE3</th>\n",
       "    </tr>\n",
       "    <tr>\n",
       "      <th>Date</th>\n",
       "      <th></th>\n",
       "      <th></th>\n",
       "      <th></th>\n",
       "      <th></th>\n",
       "      <th></th>\n",
       "    </tr>\n",
       "  </thead>\n",
       "  <tbody>\n",
       "    <tr>\n",
       "      <th>2015-01-02</th>\n",
       "      <td>-0.047118</td>\n",
       "      <td>-0.021676</td>\n",
       "      <td>-0.017199</td>\n",
       "      <td>-0.073650</td>\n",
       "      <td>0.009837</td>\n",
       "    </tr>\n",
       "    <tr>\n",
       "      <th>2015-01-05</th>\n",
       "      <td>-0.020751</td>\n",
       "      <td>0.001458</td>\n",
       "      <td>-0.041875</td>\n",
       "      <td>-0.075972</td>\n",
       "      <td>0.006812</td>\n",
       "    </tr>\n",
       "    <tr>\n",
       "      <th>2015-01-06</th>\n",
       "      <td>0.013977</td>\n",
       "      <td>0.032898</td>\n",
       "      <td>-0.014351</td>\n",
       "      <td>-0.015296</td>\n",
       "      <td>-0.014832</td>\n",
       "    </tr>\n",
       "    <tr>\n",
       "      <th>2015-01-07</th>\n",
       "      <td>0.044020</td>\n",
       "      <td>0.039737</td>\n",
       "      <td>-0.007280</td>\n",
       "      <td>0.034951</td>\n",
       "      <td>-0.011455</td>\n",
       "    </tr>\n",
       "    <tr>\n",
       "      <th>2015-01-08</th>\n",
       "      <td>0.003407</td>\n",
       "      <td>0.005154</td>\n",
       "      <td>-0.013333</td>\n",
       "      <td>0.018762</td>\n",
       "      <td>0.016883</td>\n",
       "    </tr>\n",
       "  </tbody>\n",
       "</table>\n",
       "</div>"
      ],
      "text/plain": [
       "               BBAS3     BBDC4     FLRY3     MRFG3     WEGE3\n",
       "Date                                                        \n",
       "2015-01-02 -0.047118 -0.021676 -0.017199 -0.073650  0.009837\n",
       "2015-01-05 -0.020751  0.001458 -0.041875 -0.075972  0.006812\n",
       "2015-01-06  0.013977  0.032898 -0.014351 -0.015296 -0.014832\n",
       "2015-01-07  0.044020  0.039737 -0.007280  0.034951 -0.011455\n",
       "2015-01-08  0.003407  0.005154 -0.013333  0.018762  0.016883"
      ]
     },
     "execution_count": 12,
     "metadata": {},
     "output_type": "execute_result"
    }
   ],
   "source": [
    "#Mostra as 5 primeiras linhas de dados do arquivo contido na variável carteira:\n",
    "retornos.head()"
   ]
  },
  {
   "cell_type": "markdown",
   "metadata": {},
   "source": [
    "## Visualizando os Dados:\n",
    "Antes de partir para a análise quantitativa, faremos uma análise visual:"
   ]
  },
  {
   "cell_type": "code",
   "execution_count": 13,
   "metadata": {},
   "outputs": [
    {
     "data": {
      "text/html": [
       "<div>\n",
       "<style scoped>\n",
       "    .dataframe tbody tr th:only-of-type {\n",
       "        vertical-align: middle;\n",
       "    }\n",
       "\n",
       "    .dataframe tbody tr th {\n",
       "        vertical-align: top;\n",
       "    }\n",
       "\n",
       "    .dataframe thead th {\n",
       "        text-align: right;\n",
       "    }\n",
       "</style>\n",
       "<table border=\"1\" class=\"dataframe\">\n",
       "  <thead>\n",
       "    <tr style=\"text-align: right;\">\n",
       "      <th></th>\n",
       "      <th>BBAS3</th>\n",
       "      <th>BBDC4</th>\n",
       "      <th>FLRY3</th>\n",
       "      <th>MRFG3</th>\n",
       "      <th>WEGE3</th>\n",
       "    </tr>\n",
       "    <tr>\n",
       "      <th>Date</th>\n",
       "      <th></th>\n",
       "      <th></th>\n",
       "      <th></th>\n",
       "      <th></th>\n",
       "      <th></th>\n",
       "    </tr>\n",
       "  </thead>\n",
       "  <tbody>\n",
       "    <tr>\n",
       "      <th>2015-01-02</th>\n",
       "      <td>0.952882</td>\n",
       "      <td>0.978324</td>\n",
       "      <td>0.982801</td>\n",
       "      <td>0.926350</td>\n",
       "      <td>1.009837</td>\n",
       "    </tr>\n",
       "    <tr>\n",
       "      <th>2015-01-05</th>\n",
       "      <td>0.933109</td>\n",
       "      <td>0.979751</td>\n",
       "      <td>0.941646</td>\n",
       "      <td>0.855974</td>\n",
       "      <td>1.016717</td>\n",
       "    </tr>\n",
       "    <tr>\n",
       "      <th>2015-01-06</th>\n",
       "      <td>0.946151</td>\n",
       "      <td>1.011983</td>\n",
       "      <td>0.928133</td>\n",
       "      <td>0.842881</td>\n",
       "      <td>1.001637</td>\n",
       "    </tr>\n",
       "    <tr>\n",
       "      <th>2015-01-07</th>\n",
       "      <td>0.987800</td>\n",
       "      <td>1.052197</td>\n",
       "      <td>0.921376</td>\n",
       "      <td>0.872340</td>\n",
       "      <td>0.990163</td>\n",
       "    </tr>\n",
       "    <tr>\n",
       "      <th>2015-01-08</th>\n",
       "      <td>0.991165</td>\n",
       "      <td>1.057619</td>\n",
       "      <td>0.909091</td>\n",
       "      <td>0.888707</td>\n",
       "      <td>1.006879</td>\n",
       "    </tr>\n",
       "    <tr>\n",
       "      <th>...</th>\n",
       "      <td>...</td>\n",
       "      <td>...</td>\n",
       "      <td>...</td>\n",
       "      <td>...</td>\n",
       "      <td>...</td>\n",
       "    </tr>\n",
       "    <tr>\n",
       "      <th>2020-09-25</th>\n",
       "      <td>1.274716</td>\n",
       "      <td>1.081323</td>\n",
       "      <td>3.356265</td>\n",
       "      <td>2.576105</td>\n",
       "      <td>5.477035</td>\n",
       "    </tr>\n",
       "    <tr>\n",
       "      <th>2020-09-28</th>\n",
       "      <td>1.283551</td>\n",
       "      <td>1.078043</td>\n",
       "      <td>3.226044</td>\n",
       "      <td>2.466448</td>\n",
       "      <td>5.361101</td>\n",
       "    </tr>\n",
       "    <tr>\n",
       "      <th>2020-09-29</th>\n",
       "      <td>1.251998</td>\n",
       "      <td>1.052350</td>\n",
       "      <td>3.270270</td>\n",
       "      <td>2.454992</td>\n",
       "      <td>5.535855</td>\n",
       "    </tr>\n",
       "    <tr>\n",
       "      <th>2020-09-30</th>\n",
       "      <td>1.246109</td>\n",
       "      <td>1.061096</td>\n",
       "      <td>3.253071</td>\n",
       "      <td>2.495908</td>\n",
       "      <td>5.600641</td>\n",
       "    </tr>\n",
       "    <tr>\n",
       "      <th>2020-10-01</th>\n",
       "      <td>1.253260</td>\n",
       "      <td>1.066016</td>\n",
       "      <td>3.269042</td>\n",
       "      <td>2.487725</td>\n",
       "      <td>5.702936</td>\n",
       "    </tr>\n",
       "  </tbody>\n",
       "</table>\n",
       "<p>1431 rows × 5 columns</p>\n",
       "</div>"
      ],
      "text/plain": [
       "               BBAS3     BBDC4     FLRY3     MRFG3     WEGE3\n",
       "Date                                                        \n",
       "2015-01-02  0.952882  0.978324  0.982801  0.926350  1.009837\n",
       "2015-01-05  0.933109  0.979751  0.941646  0.855974  1.016717\n",
       "2015-01-06  0.946151  1.011983  0.928133  0.842881  1.001637\n",
       "2015-01-07  0.987800  1.052197  0.921376  0.872340  0.990163\n",
       "2015-01-08  0.991165  1.057619  0.909091  0.888707  1.006879\n",
       "...              ...       ...       ...       ...       ...\n",
       "2020-09-25  1.274716  1.081323  3.356265  2.576105  5.477035\n",
       "2020-09-28  1.283551  1.078043  3.226044  2.466448  5.361101\n",
       "2020-09-29  1.251998  1.052350  3.270270  2.454992  5.535855\n",
       "2020-09-30  1.246109  1.061096  3.253071  2.495908  5.600641\n",
       "2020-10-01  1.253260  1.066016  3.269042  2.487725  5.702936\n",
       "\n",
       "[1431 rows x 5 columns]"
      ]
     },
     "execution_count": 13,
     "metadata": {},
     "output_type": "execute_result"
    }
   ],
   "source": [
    "#Um truque de matemática financeira: \n",
    "#Multiplicamos 1 mais os retornos, cumulativamente para cada dia que passa, em todas as colunas de dados.\n",
    "#Dessa forma, conseguimos descobrir qual seria o valor final de um investimento feito no ínicio do período.\n",
    "(1+retornos).cumprod()"
   ]
  },
  {
   "cell_type": "code",
   "execution_count": 14,
   "metadata": {},
   "outputs": [
    {
     "data": {
      "text/plain": [
       "<matplotlib.axes._subplots.AxesSubplot at 0xb5c73e8>"
      ]
     },
     "execution_count": 14,
     "metadata": {},
     "output_type": "execute_result"
    },
    {
     "data": {
      "image/png": "[encoded data removed]",
      "text/plain": [
       "<Figure size 432x288 with 1 Axes>"
      ]
     },
     "metadata": {
      "needs_background": "light"
     },
     "output_type": "display_data"
    }
   ],
   "source": [
    "#Podemos representar o cálculo anterior em um gráfico, colocando um .plot() ao final da operação:\n",
    "(1+retornos).cumprod().plot()"
   ]
  },
  {
   "cell_type": "markdown",
   "metadata": {},
   "source": [
    "## Diversificação e Risco\n",
    "Antes de entender a diversificação, é importante entender que existem dois tipos de riscos em uma ação, o risco sistêmico e o risco específico:\n",
    "\n",
    "**Risco Sistêmico:** É o risco que afeta todas as empresas simultaneamente. Podem ser riscos econômicos, como grandes *crashes* e depressões, riscos políticos, como guerras, pode ser o risco de uma pandemia, como a do COVID-19. A principal característica deste tipo de risco é que ele irá afetar negativamente praticamente todos os ativos ao mesmo tempo.\n",
    "\n",
    "**Risco Específico:** É o risco que afeta apenas uma empresa ou setor por vez. Para empresas de petróleo, esse risco pode ser o da diminuição do preço do barril de petróleo, para empresas importadoras pode ser o aumento do dólar. Apesar de esses fatores afetarem negativamente algumas empresas, podem afetar positivamente outras. Por exemplo, a queda no preço do petróleo pode beneficiar empresas de aviação, pois o combustível ficará mais barato, e o aumento do dólar pode afetar positivamente empresas que exportam seus produtos.\n"
   ]
  },
  {
   "attachments": {
    "image.png": {
     "image/png": "[encoded data removed]"
    }
   },
   "cell_type": "markdown",
   "metadata": {},
   "source": [
    "Ao montar uma carteira de com ações diferentes entre si, que seja diversificada, conseguimos diminuir os riscos específicos que incidem sobre ela, fazendo com que ela seja exposta apenas ao risco sistêmico. A exposição de uma carteira aos riscos específicos, de acordo com o número de ações que ela possui, costuma ser o seguinte:\n",
    "\n",
    "![image.png](attachment:image.png)\n",
    "\n",
    "<center><sub>Eixo Vertical: Risco que não é de mercado (são riscos específicos) | Eixo Horizontal: Número de ações na carteira</sub></center>"
   ]
  },
  {
   "cell_type": "markdown",
   "metadata": {},
   "source": [
    "## Correlação\n",
    "Para sabermos se as ações que estamos colocando em nossas carteiras são diferentes entre si, usamos uma medida chamada de *correlação*. Ela representa quanto duas variáveis se relacionam entre si, e pode variar de -1 a 1.\n",
    "\n",
    "- Uma correlação positiva próxima de 1 significa que as duas varávies se movimentam na mesma direção e praticamente na mesma magnitude. Se uma delas sobe 1%, a outra também sobe 1%.\n",
    "\n",
    "- Uma correlação negativa próxima de -1 significa que as duas varávies se movimentam em direções opostas e praticamente na mesma magnitude. Se uma delas sobe 1%, a outra cai 1%.\n",
    "\n",
    "- Uma correlação próxima de 0 signifca que as duas variáveis se movimentam de forma independente entre si.\n",
    "\n",
    "Observe o gráfico dos retornos das ações:"
   ]
  },
  {
   "cell_type": "code",
   "execution_count": 15,
   "metadata": {},
   "outputs": [
    {
     "data": {
      "text/plain": [
       "<matplotlib.axes._subplots.AxesSubplot at 0xc2a5c8>"
      ]
     },
     "execution_count": 15,
     "metadata": {},
     "output_type": "execute_result"
    },
    {
     "data": {
      "image/png": "[encoded data removed]",
      "text/plain": [
       "<Figure size 1152x432 with 1 Axes>"
      ]
     },
     "metadata": {
      "needs_background": "light"
     },
     "output_type": "display_data"
    }
   ],
   "source": [
    "#É possível mudar o tamanho do gráfico, para faciltiar a visualização.\n",
    "#Para isso, dentro do comando plot, alteramos o parâmetro figsize, selecionando um tamanho para os eixos x e y:\n",
    "(1+retornos).cumprod().plot(figsize = (16,6))"
   ]
  },
  {
   "cell_type": "markdown",
   "metadata": {},
   "source": [
    "É possível perceber, visualizando o gráfico, que praticamente todas as ações selecionadas se movimentam de forma independente entre si a maior parte do tempo. Porém, olhando detalhadamente a linha vermelha e a roxa, podemos perceber que elas se movimentaram juntas desde 2015 até atualmente. Sem saber a quais empresas elas se referem, seria possível predizer que elas são muito similares entre si, provavelmente do mesmo setor. Pois bem, elas são as ações do **Banco do Brasil** (BBAS3) e do **Bradesco** (BBDC4). \n",
    "\n",
    "Outra forma de visualizar a correlação, e mais efetiva, é por meio de uma tabela de correlação, que pode ser feita da seguinte forma:"
   ]
  },
  {
   "cell_type": "code",
   "execution_count": 8,
   "metadata": {},
   "outputs": [
    {
     "data": {
      "text/html": [
       "<div>\n",
       "<style scoped>\n",
       "    .dataframe tbody tr th:only-of-type {\n",
       "        vertical-align: middle;\n",
       "    }\n",
       "\n",
       "    .dataframe tbody tr th {\n",
       "        vertical-align: top;\n",
       "    }\n",
       "\n",
       "    .dataframe thead th {\n",
       "        text-align: right;\n",
       "    }\n",
       "</style>\n",
       "<table border=\"1\" class=\"dataframe\">\n",
       "  <thead>\n",
       "    <tr style=\"text-align: right;\">\n",
       "      <th></th>\n",
       "      <th>WEGE3</th>\n",
       "      <th>MRFG3</th>\n",
       "      <th>FLRY3</th>\n",
       "      <th>BBAS3</th>\n",
       "      <th>BBDC4</th>\n",
       "    </tr>\n",
       "  </thead>\n",
       "  <tbody>\n",
       "    <tr>\n",
       "      <th>WEGE3</th>\n",
       "      <td>1.000000</td>\n",
       "      <td>0.243084</td>\n",
       "      <td>0.303943</td>\n",
       "      <td>0.371371</td>\n",
       "      <td>0.392421</td>\n",
       "    </tr>\n",
       "    <tr>\n",
       "      <th>MRFG3</th>\n",
       "      <td>0.243084</td>\n",
       "      <td>1.000000</td>\n",
       "      <td>0.272922</td>\n",
       "      <td>0.332839</td>\n",
       "      <td>0.308861</td>\n",
       "    </tr>\n",
       "    <tr>\n",
       "      <th>FLRY3</th>\n",
       "      <td>0.303943</td>\n",
       "      <td>0.272922</td>\n",
       "      <td>1.000000</td>\n",
       "      <td>0.413886</td>\n",
       "      <td>0.401426</td>\n",
       "    </tr>\n",
       "    <tr>\n",
       "      <th>BBAS3</th>\n",
       "      <td>0.371371</td>\n",
       "      <td>0.332839</td>\n",
       "      <td>0.413886</td>\n",
       "      <td>1.000000</td>\n",
       "      <td>0.798471</td>\n",
       "    </tr>\n",
       "    <tr>\n",
       "      <th>BBDC4</th>\n",
       "      <td>0.392421</td>\n",
       "      <td>0.308861</td>\n",
       "      <td>0.401426</td>\n",
       "      <td>0.798471</td>\n",
       "      <td>1.000000</td>\n",
       "    </tr>\n",
       "  </tbody>\n",
       "</table>\n",
       "</div>"
      ],
      "text/plain": [
       "          WEGE3     MRFG3     FLRY3     BBAS3     BBDC4\n",
       "WEGE3  1.000000  0.243084  0.303943  0.371371  0.392421\n",
       "MRFG3  0.243084  1.000000  0.272922  0.332839  0.308861\n",
       "FLRY3  0.303943  0.272922  1.000000  0.413886  0.401426\n",
       "BBAS3  0.371371  0.332839  0.413886  1.000000  0.798471\n",
       "BBDC4  0.392421  0.308861  0.401426  0.798471  1.000000"
      ]
     },
     "execution_count": 8,
     "metadata": {},
     "output_type": "execute_result"
    }
   ],
   "source": [
    "retornos.corr()"
   ]
  },
  {
   "cell_type": "markdown",
   "metadata": {},
   "source": [
    "Observando a tabela de correlação, é possível perceber que a maioria das ações possui uma correlação de baixa a moderada com as outras, de 0,24 a 0,40. Ao olharmos a correlação entre BBAS3 e BBDC4, porém, encontramos uma correlação muito alta, de 0,79. Se quisermos montar um portofio diversificado, precisamos escolher empresas diferentes entre si, expostas a riscos diferentes, com baixa correlação."
   ]
  },
  {
   "cell_type": "markdown",
   "metadata": {},
   "source": [
    "## Risco e Retorno de Portfólios\n",
    "Com o objetivo de simplificar a explicação, será feita a análise de uma carteira com ações de apenas duas empresas: **Fleury** (FLRY3), do setor de saúde, e **WEG** (WEGE3), do setor de eletricidade e equipamentos elétricos."
   ]
  },
  {
   "cell_type": "code",
   "execution_count": 16,
   "metadata": {},
   "outputs": [
    {
     "data": {
      "text/html": [
       "<div>\n",
       "<style scoped>\n",
       "    .dataframe tbody tr th:only-of-type {\n",
       "        vertical-align: middle;\n",
       "    }\n",
       "\n",
       "    .dataframe tbody tr th {\n",
       "        vertical-align: top;\n",
       "    }\n",
       "\n",
       "    .dataframe thead th {\n",
       "        text-align: right;\n",
       "    }\n",
       "</style>\n",
       "<table border=\"1\" class=\"dataframe\">\n",
       "  <thead>\n",
       "    <tr style=\"text-align: right;\">\n",
       "      <th></th>\n",
       "      <th>FLRY3</th>\n",
       "      <th>WEGE3</th>\n",
       "    </tr>\n",
       "    <tr>\n",
       "      <th>Date</th>\n",
       "      <th></th>\n",
       "      <th></th>\n",
       "    </tr>\n",
       "  </thead>\n",
       "  <tbody>\n",
       "    <tr>\n",
       "      <th>2015-01-02</th>\n",
       "      <td>-0.017199</td>\n",
       "      <td>0.009837</td>\n",
       "    </tr>\n",
       "    <tr>\n",
       "      <th>2015-01-05</th>\n",
       "      <td>-0.041875</td>\n",
       "      <td>0.006812</td>\n",
       "    </tr>\n",
       "    <tr>\n",
       "      <th>2015-01-06</th>\n",
       "      <td>-0.014351</td>\n",
       "      <td>-0.014832</td>\n",
       "    </tr>\n",
       "    <tr>\n",
       "      <th>2015-01-07</th>\n",
       "      <td>-0.007280</td>\n",
       "      <td>-0.011455</td>\n",
       "    </tr>\n",
       "    <tr>\n",
       "      <th>2015-01-08</th>\n",
       "      <td>-0.013333</td>\n",
       "      <td>0.016883</td>\n",
       "    </tr>\n",
       "  </tbody>\n",
       "</table>\n",
       "</div>"
      ],
      "text/plain": [
       "               FLRY3     WEGE3\n",
       "Date                          \n",
       "2015-01-02 -0.017199  0.009837\n",
       "2015-01-05 -0.041875  0.006812\n",
       "2015-01-06 -0.014351 -0.014832\n",
       "2015-01-07 -0.007280 -0.011455\n",
       "2015-01-08 -0.013333  0.016883"
      ]
     },
     "execution_count": 16,
     "metadata": {},
     "output_type": "execute_result"
    }
   ],
   "source": [
    "#Queremos apenas uma parte específica do DataFrame \"Retornos\". Para isso, colocamos o que queremos entre colchetes.\n",
    "ações = retornos[[\"FLRY3\", \"WEGE3\"]]\n",
    "#Note que, como queremos uma lista com duas ações diferentes, elas também precisam estar entre colchetes.\n",
    "#Caso queiramos apenas os dados da FLRY3, usamos: ações = retornos[\"FLRY3\"]\n",
    "\n",
    "ações.head()"
   ]
  },
  {
   "cell_type": "markdown",
   "metadata": {},
   "source": [
    "Para obtermos o retorno total de uma carteira, precisamos do retorno anualizado das ações que a compõe e do peso de cada uma delas na carteira:"
   ]
  },
  {
   "cell_type": "code",
   "execution_count": 60,
   "metadata": {},
   "outputs": [
    {
     "data": {
      "text/plain": [
       "FLRY3    0.258023\n",
       "WEGE3    0.347060\n",
       "dtype: float64"
      ]
     },
     "execution_count": 60,
     "metadata": {},
     "output_type": "execute_result"
    }
   ],
   "source": [
    "#Obter o retorno anualizado das ações. ações.shape[0] representa a quantidade de dados no DataFrame.\n",
    "#252 é a quantidade de dias úteis em um ano.\n",
    "retornos_ann = (1 + ações).prod()**(252/ações.shape[0]) - 1\n",
    "retornos_ann"
   ]
  },
  {
   "cell_type": "code",
   "execution_count": 61,
   "metadata": {},
   "outputs": [
    {
     "data": {
      "text/plain": [
       "FLRY3    0.335361\n",
       "WEGE3    0.349094\n",
       "dtype: float64"
      ]
     },
     "execution_count": 61,
     "metadata": {},
     "output_type": "execute_result"
    }
   ],
   "source": [
    "#Obter a volatilidade anualizada das ações. \n",
    "vol_ann = ações.std()*(252**0.5)\n",
    "vol_ann"
   ]
  },
  {
   "cell_type": "code",
   "execution_count": 62,
   "metadata": {},
   "outputs": [],
   "source": [
    "#Obtém um Array, tipo de conjunto de dados, com peso igual a 50% para cada ação. \n",
    "#Um Array é muito utíl para criar matrizes e fazer operações com elas.\n",
    "pesos = np.array([0.50, 0.50])"
   ]
  },
  {
   "cell_type": "code",
   "execution_count": 63,
   "metadata": {},
   "outputs": [
    {
     "data": {
      "text/plain": [
       "FLRY3    0.129011\n",
       "WEGE3    0.173530\n",
       "dtype: float64"
      ]
     },
     "execution_count": 63,
     "metadata": {},
     "output_type": "execute_result"
    }
   ],
   "source": [
    "#Obtém o retorno de cada ação ponderado pelo peso da mesma.\n",
    "retornos_ann * pesos"
   ]
  },
  {
   "cell_type": "code",
   "execution_count": 64,
   "metadata": {},
   "outputs": [
    {
     "data": {
      "text/plain": [
       "0.30254144458250853"
      ]
     },
     "execution_count": 64,
     "metadata": {},
     "output_type": "execute_result"
    }
   ],
   "source": [
    "#Obtém o retorno total da carteira, ponderado pelo peso. O .sum() representa a soma dos resultados da primeira conta.\n",
    "(retornos_ann * pesos).sum()"
   ]
  },
  {
   "cell_type": "markdown",
   "metadata": {},
   "source": [
    "Experimente definir diferentes pesos para ver qual seria o retorno total da carteira!\n",
    "\n",
    "Iremos agora criar uma função para calcular o retorno de um portfolio:"
   ]
  },
  {
   "cell_type": "code",
   "execution_count": 65,
   "metadata": {},
   "outputs": [],
   "source": [
    "#Define uma função que retorna a multiplicação entre duas matrizes, calculando o retorno da carteira:\n",
    "def portfolio_return(pesos, retornos_ann):\n",
    "    \"\"\"\n",
    "    A partir dos pesos e dos retornos anualizados, calcula o retorno anualizado total de um portfolio.\n",
    "    Pesos é uma matriz Nx1 e retornos é uma matriz Nx1. Ambas serão multiplicadas.\n",
    "    \"\"\"\n",
    "    return pesos.T @ retornos_ann"
   ]
  },
  {
   "cell_type": "code",
   "execution_count": 66,
   "metadata": {},
   "outputs": [
    {
     "data": {
      "text/plain": [
       "0.30254144458250853"
      ]
     },
     "execution_count": 66,
     "metadata": {},
     "output_type": "execute_result"
    }
   ],
   "source": [
    "portfolio_return(pesos, retornos_ann)"
   ]
  },
  {
   "cell_type": "markdown",
   "metadata": {},
   "source": [
    "A volatilidade, ou desvio padrão, de um portfólio de ações pode ser calculado da seguinte forma:\n",
    "<br>\n",
    "<br>\n",
    "<br>\n",
    "$$ Volatilidade \\, da \\, Carteira \\,= \\sqrt{w_{1}^2\\sigma_{1}^2+w_{2}^2\\sigma_{2}^2+2w_{1}w_{2}Cov_{1,2}} $$\n",
    "<br>\n",
    "- $ w_{1} $ e $ w_{2} $ são os pesos de cada ação.\n",
    "- $ \\sigma_{1} $ e $ \\sigma_{2} $ são os desvios padrões de cada ação.\n",
    "- $ Cov_{1,2} $ é a covariância entre as duas ações.\n",
    "\n",
    "A covarância é uma medida muito similar à correlação. É necessário usá-la no cálculo pois se duas ações em uma carteira não variam conjuntamente, por causa dos mesmos fatores, o risco da carteira será menor. É possível também usar um método de multiplicação de matrizes para obter o mesmo valor de forma mais simples, da seguinte forma:"
   ]
  },
  {
   "cell_type": "code",
   "execution_count": 77,
   "metadata": {},
   "outputs": [],
   "source": [
    "#Define uma função que retorna a raiz da multiplicação entre três matrizes, calculando a volatilidade da carteira:\n",
    "def portfolio_vol(pesos, matcovs):\n",
    "    \"\"\"\n",
    "    A partir dos pesos e de uma matriz de covariância, calcula a volatilidade total de um portfolio.\n",
    "    Pesos é uma matriz Nx1 e matcovs é uma matriz NxN. Ambas serão multiplicadas.\n",
    "    \"\"\"\n",
    "    return (pesos.T @ matcovs @ pesos)**0.5"
   ]
  },
  {
   "cell_type": "code",
   "execution_count": 68,
   "metadata": {},
   "outputs": [
    {
     "data": {
      "text/html": [
       "<div>\n",
       "<style scoped>\n",
       "    .dataframe tbody tr th:only-of-type {\n",
       "        vertical-align: middle;\n",
       "    }\n",
       "\n",
       "    .dataframe tbody tr th {\n",
       "        vertical-align: top;\n",
       "    }\n",
       "\n",
       "    .dataframe thead th {\n",
       "        text-align: right;\n",
       "    }\n",
       "</style>\n",
       "<table border=\"1\" class=\"dataframe\">\n",
       "  <thead>\n",
       "    <tr style=\"text-align: right;\">\n",
       "      <th></th>\n",
       "      <th>FLRY3</th>\n",
       "      <th>WEGE3</th>\n",
       "    </tr>\n",
       "  </thead>\n",
       "  <tbody>\n",
       "    <tr>\n",
       "      <th>FLRY3</th>\n",
       "      <td>0.000446</td>\n",
       "      <td>0.000141</td>\n",
       "    </tr>\n",
       "    <tr>\n",
       "      <th>WEGE3</th>\n",
       "      <td>0.000141</td>\n",
       "      <td>0.000484</td>\n",
       "    </tr>\n",
       "  </tbody>\n",
       "</table>\n",
       "</div>"
      ],
      "text/plain": [
       "          FLRY3     WEGE3\n",
       "FLRY3  0.000446  0.000141\n",
       "WEGE3  0.000141  0.000484"
      ]
     },
     "execution_count": 68,
     "metadata": {},
     "output_type": "execute_result"
    }
   ],
   "source": [
    "#Obtém a matriz de covariância entre as ações:\n",
    "matcovs = ações.cov()\n",
    "matcovs"
   ]
  },
  {
   "cell_type": "code",
   "execution_count": 78,
   "metadata": {},
   "outputs": [
    {
     "data": {
      "text/plain": [
       "0.2763601609783165"
      ]
     },
     "execution_count": 78,
     "metadata": {},
     "output_type": "execute_result"
    }
   ],
   "source": [
    "#Obtém a volatilidade anualizada do portfólio\n",
    "portfolio_vol(pesos, matcovs)*(252**0.5)"
   ]
  },
  {
   "cell_type": "markdown",
   "metadata": {},
   "source": [
    "Note que as volatilidades anualizadas para cada uma das ações individualmente eram de 0.335 (FLRY3) e 0.349 (WEGE3). Com uma combinação das duas, foi possível obter uma volatilidade menor! Isso foi possível porque as duas açõe possuem uma correlação baixa entre si, fazendo com que a carteira esteja menos exposta a riscos específicos. \n",
    "\n",
    "Agora experimente você mesmo! A partir de um conjunto de pesos para as ações, tente achar a composição com a menor volatilidade e a com o maior índice Sharpe:"
   ]
  },
  {
   "cell_type": "code",
   "execution_count": 86,
   "metadata": {},
   "outputs": [
    {
     "name": "stdout",
     "output_type": "stream",
     "text": [
      "Volatilidade: 0.2763601609783165 | Sharpe: 0.8776281057440062\n"
     ]
    }
   ],
   "source": [
    "pesos = np.array([0.50, 0.50])\n",
    "\n",
    "retorno = portfolio_return(pesos, retornos_ann)\n",
    "volatilidade = portfolio_vol(pesos, matcovs)*(252**0.5)\n",
    "\n",
    "taxa_livre_de_risco = 0.06\n",
    "sharpe = (retorno - taxa_livre_de_risco)/volatilidade\n",
    "\n",
    "print('Volatilidade:', volatilidade, \"|\", 'Sharpe:', sharpe)"
   ]
  },
  {
   "cell_type": "markdown",
   "metadata": {},
   "source": [
    "## Teoria Moderna do Portfólio\n",
    "Para Harry Markowitz, a carteira de ações ideal é aquela com o maior retorno para um dado nível de risco. Para entender melhor o conceito, podemos construir um gráfico com todos os retornos possíveis da nossa carteira e de seu correspondente nível de volatilidade, para cada combinação de pesos:"
   ]
  },
  {
   "cell_type": "code",
   "execution_count": 87,
   "metadata": {},
   "outputs": [
    {
     "data": {
      "text/plain": [
       "<matplotlib.axes._subplots.AxesSubplot at 0x21486cc3d90>"
      ]
     },
     "execution_count": 87,
     "metadata": {},
     "output_type": "execute_result"
    },
    {
     "data": {
      "image/png": "[encoded data removed]",
      "text/plain": [
       "<Figure size 432x288 with 1 Axes>"
      ]
     },
     "metadata": {
      "needs_background": "light"
     },
     "output_type": "display_data"
    }
   ],
   "source": [
    "#Determina o número de combinações de pesos:\n",
    "n_pontos = 20\n",
    "\n",
    "#Cria uma lista de combinações de pesos com uma quantidade de combinações igual a n_pontos:\n",
    "#Note que a soma dos pesos sempre será igual a 1 (100%)\n",
    "m_pesos = [np.array([w, 1-w]) for w in np.linspace(0, 1, n_pontos)]\n",
    "\n",
    "#Cria uma lista de retornos e volatilidades para cada combinação de pesos na lista m_pesos:\n",
    "rets = [portfolio_return(w, retornos_ann) for w in m_pesos]\n",
    "vols = [portfolio_vol(w, matcovs)*(252**0.5) for w in m_pesos]\n",
    "\n",
    "#Adiciona os retornos e volatilidades a um DataFrame e exibe um gráfico com as combinações.\n",
    "ef = pd.DataFrame({\"Returns\": rets, \"Volatility\": vols})\n",
    "ef.plot.line(x=\"Volatility\", y=\"Returns\", style=\".-\")"
   ]
  },
  {
   "cell_type": "markdown",
   "metadata": {},
   "source": [
    "Observe que o ponto na extremidade de cima representa uma carteira apenas com ações da WEGE3, enquanto o ponto na extremidade de baixo representa uma carteira apenas com ações da FLRY3. Conforme mais de uma outra ação vai sendo adicionada, mais a volatilidade diminui, até chegar a seu ponto mínimo.\n",
    "\n",
    "Uma obervação importante a ser feita é que todos os pontos abaixo do ponto de volatilidade mínima não valem a pena: é possível obter um retorno maior com o mesmo nível de risco, ou até menos risco. O segmento da curva que vai do ponto de volatilidade mínima até a extremidade superior, então, é chamado de fronteira eficiente: qualquer ponto nessa fronteira será o que possibilida o maior retorno para certa quantidade de risco.\n",
    "\n",
    "As duas principais carteiras que podem ser retiradas da fronteira eficiente são a carteira com mínima volatilidade, que se encontra no vértice, e a carteira com índice sharpe máximo, que vai depender da taxa livre de risco. O modelo de Markowitz também pode ser utilizado com mais de duas ações, o que torna a análise mais complexa."
   ]
  },
  {
   "cell_type": "markdown",
   "metadata": {},
   "source": [
    "Experimente agora aplicar o modelo de Markowitz com outras ações!"
   ]
  }
 ],
 "metadata": {
  "kernelspec": {
   "display_name": "Python 3",
   "language": "python",
   "name": "python3"
  },
  "language_info": {
   "codemirror_mode": {
    "name": "ipython",
    "version": 3
   },
   "file_extension": ".py",
   "mimetype": "text/x-python",
   "name": "python",
   "nbconvert_exporter": "python",
   "pygments_lexer": "ipython3",
   "version": "3.8.3"
  }
 },
 "nbformat": 4,
 "nbformat_minor": 4
}
