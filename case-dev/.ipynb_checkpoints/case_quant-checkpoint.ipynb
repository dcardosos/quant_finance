{
 "cells": [
  {
   "cell_type": "markdown",
   "metadata": {},
   "source": [
    "<img src='https://pennstatelaw.psu.edu/sites/default/files/styles/content_header_image/public/M%20and%20A%20center%201.jpg?itok=nxlHzngRhttps://pennstatelaw.psu.edu/sites/default/files/styles/content_header_image/public/M%20and%20A%20center%201.jpg?itok=nxlHzngR' height=\"100%\" width=\"3500\">\n",
    "\n",
    "# Projeto Quant.dev\n",
    "\n",
    "Olá! Seja bem vindo ao projeto de Quant do FEA.dev!\n",
    "\n",
    "O que você irá fazer:\n",
    "\n",
    "  \"*Você é um sócio e analista quantitativo do nosso Fundo. Seu objetivo é apresentar sua estratégia de investimento e convencer os outros sócios a colocá-la no portfólio. Você tem boa parte do seu patrimônio pessoal investido nesse Fundo.*\"\n",
    "\n",
    "### Você decidiu implementar a seguinte estratégia:\n",
    "\n",
    "A sua hipótese é que as ações mais negociadas no mês, ou seja, de maior volume, irão bem no mês seguinte. A sua regra de investimento será comprar, todo final de mês, as 10 ações com o maior volume (até o momento da compra) do indice IBX. Você tem um montante inicial de R$100.000 para investir.\n",
    "\n",
    "Comece extraindo os dados de preços e volume, tome cuidado que nem todas as fontes te dão essas informações. \n",
    "\n",
    "A composição do IBX a cada ano lhe foi dada no arquivo excel. O período de sua estratégia deve contemplar todo o período do mesmo arquivo.\n",
    "\n",
    "Depois que sua estratégia estiver rodando sem erros, faça uma **análise minuciosa** da estratégia (a maior parte da sua avaliação de desempenho se dará nessa parte). Para isso, use métricas diversas (retorno, volatilidade, drawdown, etc.) plotando e comparando-as. Também faça variações dessa estratégia (comprar as 5 ações com o melhor Sharpe, 10 ações com o melhor Sharpe, 15 ações com o melhor Sharpe, etc) e veja qual é a melhor.\n",
    "\n",
    "Por fim, deixe mais do que claro se:\n",
    "\n",
    "1. Está confiante para indicar essa ideia para o portfólio. ou  \n",
    "2. Não chegou a um resultado satisfatório. ou  \n",
    "3. Acha que precisa de mais estudos para se sentir confiante.\n",
    "\n",
    "Obs: Não há problema se algumas ações derem erro na hora da extração, siga em frente. Mas se muitas estiverem dando erro, melhor revisar seu código...\n",
    "\n",
    "### Materiais de apoio:\n",
    "1. [Coursera: Introduction to Portfolio Construction and Analysis with Python (link)](https://www.coursera.org/programs/universidade-de-sao-paulo-br-on-coursera-mvxtw?currentTab=MY_COURSES&productId=qeyXSV_uEeiNIQqyU-T6bA&productType=course&showMiniModal=true) \n",
    "\n",
    "    - Semanas 1 e 2 \n",
    "\n",
    "2. [Playlist de Finanças Quantitativas do FEA.dev (link)](https://www.youtube.com/playlist?list=PLiJqHBsOKi2cabSus1hgdSNAHeU0md6_D)\n",
    "\n",
    "3. Extração de dados do Banco Central de forma simplificada https://medium.com/fea-dev/extra%C3%A7%C3%A3o-de-dados-do-banco-central-de-forma-simplificada-7b946069c03e\n",
    "3. Extras (**Não são necessários**, apenas para motivá-los)\n",
    "    - What is Quant Finance: https://www.youtube.com/watch?v=l7imVaK0MIQ\n",
    "    - What is a Quant Trader? | Systematic Investing | What is a Quant Hedge Fund? | Trading Ideas: https://www.youtube.com/watch?v=EBZVtDZw9ug\n",
    "    - The Story of James Simons - Renaissance Technologies & Medallion Fund: https://www.youtube.com/watch?v=xkbdZb0UPac&pp=ugMICgJwdBABGAE%3D\n",
    "    - Quants Os Alquimistas de Wall Street:  https://www.youtube.com/watch?v=ed2FWNWwE3I\n",
    "    - Nossa planilha de recomendações (blogs, sites, canais do youtube): https://docs.google.com/spreadsheets/d/12YnAl8Tmd5fTDUL__3dEKsnQ1G28yKNaOLRt3Hq3aZs/edit#gid=0\n",
    "    - What is Quantitative Finance?: https://medium.com/swlh/what-is-quantitative-finance-193ee8788ed4#:~:text=It%20is%20a%20field%20of,trading%2C%20and%20predicting%20market%20moves\n",
    "    "
   ]
  },
  {
   "cell_type": "code",
   "execution_count": 1,
   "metadata": {},
   "outputs": [],
   "source": [
    "# librarys\n",
    "# api key: WKILRJ27Z51OABEO\n",
    "import pandas as pd\n",
    "import numpy as np\n",
    "import seaborn as sns\n",
    "import matplotlib.pyplot as plt\n",
    "\n",
    "plt.style.use('ggplot')"
   ]
  },
  {
   "cell_type": "code",
   "execution_count": 2,
   "metadata": {},
   "outputs": [],
   "source": [
    "prices = pd.read_csv('data/prices.csv', index_col=0)"
   ]
  },
  {
   "cell_type": "code",
   "execution_count": 3,
   "metadata": {},
   "outputs": [],
   "source": [
    "volume = pd.read_csv('data/volume.csv', index_col=0)"
   ]
  },
  {
   "cell_type": "code",
   "execution_count": 4,
   "metadata": {},
   "outputs": [],
   "source": [
    "ibov = pd.read_csv('data/ibov.csv', index_col = 0)"
   ]
  },
  {
   "cell_type": "code",
   "execution_count": 7,
   "metadata": {},
   "outputs": [],
   "source": [
    "# returos percentuais\n",
    "returns = prices.pct_change()\n",
    "returns.index = pd.to_datetime(returns.index)\n",
    "\n",
    "# retorno logarítimico\n",
    "log_returns = np.log(prices) - np.log(prices).shift(1)"
   ]
  },
  {
   "cell_type": "code",
   "execution_count": 34,
   "metadata": {
    "scrolled": true
   },
   "outputs": [
    {
     "data": {
      "text/plain": [
       "0.0"
      ]
     },
     "execution_count": 34,
     "metadata": {},
     "output_type": "execute_result"
    }
   ],
   "source": [
    "returns['VVAR3.SA'].prod()"
   ]
  },
  {
   "cell_type": "markdown",
   "metadata": {},
   "source": [
    "# Estratégia dos volumes"
   ]
  },
  {
   "cell_type": "code",
   "execution_count": 8,
   "metadata": {},
   "outputs": [],
   "source": [
    "def get_portfolio_returns(df_volume, df_returns, n_largest=10):\n",
    "    \"\"\"\n",
    "    Recebe um dataframe com datas no index, ticks das ações nas colunas e volume de ações nas células\n",
    "    Recebe um dataframe com retornos no mesmo formato que o descrito anteriormente\n",
    "    Recebe um inteiro definindo os n maiores volumes\n",
    "    \n",
    "    Retorna os retornos por data de cada portfólio mensal, alocados de acordo com n maiores volumes da data \n",
    "    \"\"\"\n",
    "    vol_transpose = df_volume.transpose()\n",
    "    \n",
    "    list_lagest_volumns = [vol_transpose[row].nlargest(n_largest) for row in vol_transpose.columns]\n",
    "    \n",
    "    dict_largest = {list_lagest_volumns[i].name:list_lagest_volumns[i].index.values for i in range(len(list_lagest_volumns))}\n",
    "    \n",
    "    #print(dict_largest)\n",
    "    \n",
    "    list_returns_ticks = []\n",
    "\n",
    "    for k, j in dict_largest.items():\n",
    "        list_returns_ticks.append(df_returns.loc[k,j])\n",
    "        \n",
    "    dict_returns_per_date = {str(chunck.name)[:-12]:((chunck+1).prod()-1) for chunck in list_returns_ticks}\n",
    "    \n",
    "    return pd.DataFrame(dict_returns_per_date, index=[0]).transpose()"
   ]
  },
  {
   "cell_type": "code",
   "execution_count": 9,
   "metadata": {},
   "outputs": [],
   "source": [
    "returns_10_portfolio = get_portfolio_returns(volume, returns)\n",
    "returns_10_portfolio.columns = ['Returns']"
   ]
  },
  {
   "cell_type": "code",
   "execution_count": 35,
   "metadata": {},
   "outputs": [
    {
     "data": {
      "text/plain": [
       "Returns   -0.0\n",
       "dtype: float64"
      ]
     },
     "execution_count": 35,
     "metadata": {},
     "output_type": "execute_result"
    }
   ],
   "source": [
    "returns_10_portfolio.prod()"
   ]
  },
  {
   "cell_type": "code",
   "execution_count": 10,
   "metadata": {},
   "outputs": [
    {
     "data": {
      "text/plain": [
       "<AxesSubplot:>"
      ]
     },
     "execution_count": 10,
     "metadata": {},
     "output_type": "execute_result"
    },
    {
     "data": {
      "image/png": "[encoded data removed]",
      "text/plain": [
       "<Figure size 432x288 with 1 Axes>"
      ]
     },
     "metadata": {},
     "output_type": "display_data"
    }
   ],
   "source": [
    "(1 + returns_10_portfolio).cumprod()[:'2016'].plot()"
   ]
  },
  {
   "cell_type": "code",
   "execution_count": 11,
   "metadata": {
    "scrolled": false
   },
   "outputs": [
    {
     "data": {
      "text/plain": [
       "<AxesSubplot:>"
      ]
     },
     "execution_count": 11,
     "metadata": {},
     "output_type": "execute_result"
    },
    {
     "data": {
      "image/png": "[encoded data removed]",
      "text/plain": [
       "<Figure size 432x288 with 1 Axes>"
      ]
     },
     "metadata": {},
     "output_type": "display_data"
    }
   ],
   "source": [
    "(1 + returns_10_portfolio).cumprod()['2015':].plot()"
   ]
  },
  {
   "cell_type": "code",
   "execution_count": null,
   "metadata": {
    "scrolled": true
   },
   "outputs": [],
   "source": [
    "# retorno cumulativo\n",
    "cum_return = (returns + 1).prod() - 1\n",
    "\n",
    "# retorno cumulativo log\n",
    "cum_return_log = np.exp(np.sum(log_returns)) - 1\n",
    "\n",
    "# print\n",
    "#print(f'retorno cumulativo pct: {cum_return}\\n retorno cumulativo log:{cum_return_log}')\n",
    "if any(round(cum_return, 4) == round(cum_return_log, 4)):\n",
    "    print('São iguais, excelente')\n",
    "else:\n",
    "    print('Tem que ver aí...')"
   ]
  },
  {
   "cell_type": "code",
   "execution_count": null,
   "metadata": {},
   "outputs": [],
   "source": [
    "# retornos anualizados\n",
    "annualized_returns = cum_return ** (12/returns.shape[0]) - 1\n",
    "\n",
    "# sharpe ratio\n",
    "rf = 0.03\n",
    "sharpe_ratio = (annualized_returns - rf)/annualized_returns"
   ]
  },
  {
   "cell_type": "code",
   "execution_count": null,
   "metadata": {},
   "outputs": [],
   "source": [
    "cum_strategy_returns = (1 + returns_10_portfolio).cumprod()\n",
    "cum_strategy_returns.index = pd.to_datetime(cum_strategy_returns.index, format=\"%Y-%m-%d\" )"
   ]
  },
  {
   "cell_type": "code",
   "execution_count": null,
   "metadata": {},
   "outputs": [],
   "source": [
    "cum_ibov_returns = (1 + ibov).cumprod()\n",
    "\n",
    "cum_ibov_returns.index = pd.to_datetime(cum_ibov_returns.index, format=\"%Y-%m-%d\" )"
   ]
  },
  {
   "cell_type": "code",
   "execution_count": null,
   "metadata": {},
   "outputs": [],
   "source": [
    "plt.figure(figsize = (10,6))\n",
    "sns.lineplot(data = cum_ibov_returns, x = cum_ibov_returns.index, y='BVSP.Adjusted' )\n",
    "sns.lineplot(data = cum_strategy_returns, x = cum_strategy_returns.index, y = 'Returns')\n",
    "\n",
    "plt.legend(['carteira', 'ibov'])"
   ]
  },
  {
   "cell_type": "markdown",
   "metadata": {},
   "source": [
    "## Retornos"
   ]
  },
  {
   "cell_type": "code",
   "execution_count": null,
   "metadata": {},
   "outputs": [],
   "source": [
    "def get_portfolio_ticks(df_volume, n_largest=10):\n",
    "    \"\"\"\n",
    "    Recebe um dataframe com datas nas colunas e ticks das ações nas células\n",
    "    Recebe um inteiro definindo os n maiores volumes\n",
    "    \n",
    "    Retorna os ticks por data de cada portfólio mensal, alocados de acordo com n maiores volumes da data \n",
    "    \"\"\"\n",
    "    vol_transpose = df_volume.transpose()\n",
    "    \n",
    "    list_largest_volumns = [vol_transpose[row].nlargest(n_largest) for row in vol_transpose.columns]\n",
    "    \n",
    "    dict_largest = {list_largest_volumns[i].name:list_largest_volumns[i].index.values for i in range(len(list_largest_volumns))}\n",
    "    \n",
    "    return pd.DataFrame(dict_largest)"
   ]
  },
  {
   "cell_type": "code",
   "execution_count": null,
   "metadata": {},
   "outputs": [],
   "source": []
  },
  {
   "cell_type": "code",
   "execution_count": null,
   "metadata": {},
   "outputs": [],
   "source": [
    "ticks_10_volumns = get_portfolio_ticks(volume)"
   ]
  },
  {
   "cell_type": "markdown",
   "metadata": {},
   "source": [
    "## Riscos"
   ]
  },
  {
   "cell_type": "code",
   "execution_count": null,
   "metadata": {},
   "outputs": [],
   "source": [
    "prices.index = pd.to_datetime(prices.index, format=\"%Y-%m-%d\")"
   ]
  },
  {
   "cell_type": "code",
   "execution_count": null,
   "metadata": {
    "scrolled": true
   },
   "outputs": [],
   "source": [
    "# desvio padrão do ativo por portfolio mensal\n",
    "prices.std()#.plot()"
   ]
  },
  {
   "cell_type": "code",
   "execution_count": null,
   "metadata": {},
   "outputs": [],
   "source": []
  },
  {
   "cell_type": "code",
   "execution_count": null,
   "metadata": {},
   "outputs": [],
   "source": [
    "prices[['KLBN4.SA', 'PETR4.SA', 'ITUB4.SA', 'ITSA4.SA', 'BBDC4.SA', 'CCRO3.SA',\n",
    " 'B3SA3.SA' ,'MRVE3.SA', 'HYPE3.SA', 'CIEL3.SA']].loc['2010-12-01'].std()"
   ]
  },
  {
   "cell_type": "code",
   "execution_count": null,
   "metadata": {},
   "outputs": [],
   "source": [
    "#a_dict = {}\n",
    "{ticks_10_volumns[i].name: ticks_10_volumns[i].values for i in ticks_10_volumns}"
   ]
  },
  {
   "cell_type": "code",
   "execution_count": null,
   "metadata": {},
   "outputs": [],
   "source": [
    "for i in ticks_10_volumns:\n",
    "    print({ticks_10_volumns[i].name: ticks_10_volumns[i].values})"
   ]
  },
  {
   "cell_type": "markdown",
   "metadata": {},
   "source": [
    "## Usando o portfolio da estratégia de volumes"
   ]
  },
  {
   "cell_type": "code",
   "execution_count": null,
   "metadata": {},
   "outputs": [],
   "source": [
    "np.array([1,2,3,4]).prod()"
   ]
  },
  {
   "cell_type": "code",
   "execution_count": null,
   "metadata": {},
   "outputs": [],
   "source": [
    "np.array([1,2,3,4]).cumprod()"
   ]
  }
 ],
 "metadata": {
  "kernelspec": {
   "display_name": "Python 3",
   "language": "python",
   "name": "python3"
  },
  "language_info": {
   "codemirror_mode": {
    "name": "ipython",
    "version": 3
   },
   "file_extension": ".py",
   "mimetype": "text/x-python",
   "name": "python",
   "nbconvert_exporter": "python",
   "pygments_lexer": "ipython3",
   "version": "3.8.5"
  }
 },
 "nbformat": 4,
 "nbformat_minor": 4
}
