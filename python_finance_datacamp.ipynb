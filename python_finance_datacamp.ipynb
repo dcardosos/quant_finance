{
 "cells": [
  {
   "cell_type": "markdown",
   "metadata": {
    "id": "cZMATCeLdudK"
   },
   "source": [
    "# Representing time with datetimes\n",
    "\n",
    "[strftime.org](https://strftime.org/)\n"
   ]
  },
  {
   "cell_type": "code",
   "execution_count": null,
   "metadata": {
    "colab": {
     "base_uri": "https://localhost:8080/",
     "height": 34
    },
    "id": "0PLtWcWUa3f8",
    "outputId": "3824d589-10c4-4dc9-f0fd-ec41576302b9"
   },
   "outputs": [
    {
     "name": "stdout",
     "output_type": "stream",
     "text": [
      "1987-10-19 00:00:00\n"
     ]
    }
   ],
   "source": [
    "from datetime import datetime\n",
    "black_monday = datetime(1987, 10, 19)\n",
    "print(black_monday) "
   ]
  },
  {
   "cell_type": "code",
   "execution_count": null,
   "metadata": {
    "colab": {
     "base_uri": "https://localhost:8080/",
     "height": 34
    },
    "id": "D0Cl3iwBgzKA",
    "outputId": "e801e9c0-a3ca-46df-c78f-c269b2a6180a"
   },
   "outputs": [
    {
     "name": "stdout",
     "output_type": "stream",
     "text": [
      "Friday, October 23, 2020. 09:04 PM\n"
     ]
    }
   ],
   "source": [
    "# Now in EUA\n",
    "# strftime\n",
    "today = datetime.now()\n",
    "string_today = today.strftime('%A, %B %d, %Y. %I:%M %p')\n",
    "print(string_today)"
   ]
  },
  {
   "cell_type": "code",
   "execution_count": null,
   "metadata": {
    "colab": {
     "base_uri": "https://localhost:8080/",
     "height": 34
    },
    "id": "RgaJyyQSg85Q",
    "outputId": "a6c34858-9151-49a7-f53d-4558ec8df441"
   },
   "outputs": [
    {
     "name": "stdout",
     "output_type": "stream",
     "text": [
      "2020-10-23 21:04:00\n"
     ]
    }
   ],
   "source": [
    "# String for date\n",
    "# strptime\n",
    "today_again = datetime.strptime(string_today, '%A, %B %d, %Y. %I:%M %p')\n",
    "print(today_again)"
   ]
  },
  {
   "cell_type": "markdown",
   "metadata": {
    "id": "7oMR0LbylNmA"
   },
   "source": [
    "# Working with datetime\n",
    "\n",
    "## Datetime attributes"
   ]
  },
  {
   "cell_type": "code",
   "execution_count": null,
   "metadata": {
    "colab": {
     "base_uri": "https://localhost:8080/",
     "height": 102
    },
    "id": "LPgbRLjrhvBW",
    "outputId": "fc4540d7-760f-45cf-eda0-3f04c79b9875"
   },
   "outputs": [
    {
     "name": "stdout",
     "output_type": "stream",
     "text": [
      "\n",
      " Hour: 21 \n",
      " Day:23 \n",
      " Month:10 \n",
      " Year:2020\n"
     ]
    }
   ],
   "source": [
    "# .day, .month, .year, .minute, .hour, .second\n",
    "today_hour = today_again.hour\n",
    "today_day = today_again.day\n",
    "today_month = today_again.month\n",
    "today_year = today_again.year\n",
    "\n",
    "print(f'\\n Hour: {today_hour} \\n Day:{today_day} \\n Month:{today_month} \\n Year:{today_year}')"
   ]
  },
  {
   "cell_type": "markdown",
   "metadata": {
    "id": "P_hzdaIhnNZ_"
   },
   "source": [
    "## Comparing datetimes\n"
   ]
  },
  {
   "cell_type": "code",
   "execution_count": null,
   "metadata": {
    "colab": {
     "base_uri": "https://localhost:8080/",
     "height": 68
    },
    "id": "wtTxhw-Ql9k2",
    "outputId": "5c465ebd-4fc6-4253-a3e8-b162f4dfc7c8"
   },
   "outputs": [
    {
     "name": "stdout",
     "output_type": "stream",
     "text": [
      "False\n",
      "True\n",
      "False\n"
     ]
    }
   ],
   "source": [
    "asian_crisis = datetime(1997, 7, 2)\n",
    "world_mini_crash = datetime(1997, 10, 27)\n",
    "\n",
    "print(asian_crisis > world_mini_crash)\n",
    "print(asian_crisis < world_mini_crash)\n",
    "print(asian_crisis == world_mini_crash)"
   ]
  },
  {
   "cell_type": "markdown",
   "metadata": {
    "id": "mlfYETMdnnCi"
   },
   "source": [
    "## Timedelta"
   ]
  },
  {
   "cell_type": "code",
   "execution_count": null,
   "metadata": {
    "colab": {
     "base_uri": "https://localhost:8080/",
     "height": 51
    },
    "id": "JHVfEe0VnXWw",
    "outputId": "06b0096e-4c65-485a-f08f-679dfc64ef7f"
   },
   "outputs": [
    {
     "name": "stdout",
     "output_type": "stream",
     "text": [
      "<class 'datetime.timedelta'>\n",
      "117 days, 0:00:00\n"
     ]
    }
   ],
   "source": [
    "delta = world_mini_crash - asian_crisis\n",
    "print(type(delta))\n",
    "print(delta)"
   ]
  },
  {
   "cell_type": "code",
   "execution_count": null,
   "metadata": {
    "colab": {
     "base_uri": "https://localhost:8080/",
     "height": 68
    },
    "id": "Mc2Xf8manuXH",
    "outputId": "1da2b364-7383-4613-b98c-86a03850fa5b"
   },
   "outputs": [
    {
     "name": "stdout",
     "output_type": "stream",
     "text": [
      "7 days, 0:00:00\n",
      "1997-07-02 00:00:00\n",
      "1997-06-25 00:00:00\n"
     ]
    }
   ],
   "source": [
    "from datetime import timedelta\n",
    "offset = timedelta(weeks = 1)  # using weeks\n",
    "print(offset)\n",
    "\n",
    "print(asian_crisis)\n",
    "week_before = asian_crisis - offset\n",
    "\n",
    "print(week_before)"
   ]
  },
  {
   "cell_type": "code",
   "execution_count": null,
   "metadata": {
    "colab": {
     "base_uri": "https://localhost:8080/",
     "height": 68
    },
    "id": "eAhJYQS9oAza",
    "outputId": "d64fe68d-e88b-4e48-8c59-da1e92dcd7f4"
   },
   "outputs": [
    {
     "name": "stdout",
     "output_type": "stream",
     "text": [
      "7 days, 0:00:00\n",
      "1997-07-02 00:00:00\n",
      "1997-07-09 00:00:00\n"
     ]
    }
   ],
   "source": [
    "offset = timedelta(days = 7)  # using days \n",
    "print(offset)\n",
    "\n",
    "print(asian_crisis)\n",
    "week_after = asian_crisis + offset\n",
    "\n",
    "print(week_after)"
   ]
  },
  {
   "cell_type": "markdown",
   "metadata": {
    "id": "6GtdeXpU4flX"
   },
   "source": [
    "# Negating with boolean operators"
   ]
  },
  {
   "cell_type": "code",
   "execution_count": null,
   "metadata": {
    "colab": {
     "base_uri": "https://localhost:8080/",
     "height": 68
    },
    "id": "2j5Uskk0okDY",
    "outputId": "773e71ec-0e1b-49b8-9552-3e8f5a285edf"
   },
   "outputs": [
    {
     "name": "stdout",
     "output_type": "stream",
     "text": [
      "[]\n",
      "True\n",
      "True\n"
     ]
    }
   ],
   "source": [
    "market_closed = False\n",
    "closing_prices = []  # False\n",
    "print(closing_prices)\n",
    "\n",
    "# Assigning True if we need to get the prices\n",
    "not_prices = not closing_prices \n",
    "\n",
    "print(not_prices)\n",
    "\n",
    "# Get prices if market is closed and we don't have prices\n",
    "get_prices = not (market_closed and not_prices)\n",
    "\n",
    "print(get_prices)"
   ]
  },
  {
   "cell_type": "code",
   "execution_count": null,
   "metadata": {
    "colab": {
     "base_uri": "https://localhost:8080/",
     "height": 85
    },
    "id": "FvFK6ANI46mt",
    "outputId": "6be5b13e-8a36-40f4-c23c-66920addc05e"
   },
   "outputs": [
    {
     "name": "stdout",
     "output_type": "stream",
     "text": [
      "Input action?false\n",
      "false\n",
      "Is trading day?true\n",
      "Do action?: false\n"
     ]
    }
   ],
   "source": [
    "# Assign a default action if no input\n",
    "input_action = input(\"Input action?\")\n",
    "action = input_action or \"Hold\"\n",
    "\n",
    "# Print the action\n",
    "print(action)\n",
    "\n",
    "# Assign action only if trades can be made\n",
    "is_trading_day = input('Is trading day?')\n",
    "do_action = is_trading_day and action\n",
    "\n",
    "# Print the action to do\n",
    "print(f'Do action?: {do_action}')"
   ]
  },
  {
   "cell_type": "markdown",
   "metadata": {
    "id": "Pz_44q-L3CCc"
   },
   "source": [
    "# DataFrame with Pandas\n",
    "\n",
    "`pd.DataFrame()`\n",
    "\n",
    "## Reading data\n",
    "\n",
    "![](https://lh3.googleusercontent.com/pw/ACtC-3dFMAYx_cprz_1HnfWq8_cjWKr-v5_WynH9Mj-XJb6okXzFV6hGek_bW8a9cbyJmrO9tAtxGyUD6E5votXgEp4EORCvgez63iCKTMmD-HwuZgP2-ltw9luKZtGYJNJVD3TlQiQuOzZFJqwhqm7Ajroh=w255-h279-no?authuser=0)"
   ]
  },
  {
   "cell_type": "code",
   "execution_count": null,
   "metadata": {
    "id": "-cMzYoVQ5dfV"
   },
   "outputs": [],
   "source": [
    "import pandas as pd"
   ]
  },
  {
   "cell_type": "code",
   "execution_count": null,
   "metadata": {
    "colab": {
     "base_uri": "https://localhost:8080/",
     "height": 142
    },
    "id": "szhLnoQm3GCo",
    "outputId": "8a54bd7f-9d5c-4851-afdc-ea3e06ea1c07"
   },
   "outputs": [
    {
     "data": {
      "text/html": [
       "<div>\n",
       "<style scoped>\n",
       "    .dataframe tbody tr th:only-of-type {\n",
       "        vertical-align: middle;\n",
       "    }\n",
       "\n",
       "    .dataframe tbody tr th {\n",
       "        vertical-align: top;\n",
       "    }\n",
       "\n",
       "    .dataframe thead th {\n",
       "        text-align: right;\n",
       "    }\n",
       "</style>\n",
       "<table border=\"1\" class=\"dataframe\">\n",
       "  <thead>\n",
       "    <tr style=\"text-align: right;\">\n",
       "      <th></th>\n",
       "      <th>Bank</th>\n",
       "      <th>Account#</th>\n",
       "      <th>Balance</th>\n",
       "    </tr>\n",
       "  </thead>\n",
       "  <tbody>\n",
       "    <tr>\n",
       "      <th>0</th>\n",
       "      <td>BA</td>\n",
       "      <td>ajfdk2</td>\n",
       "      <td>1222.00</td>\n",
       "    </tr>\n",
       "    <tr>\n",
       "      <th>1</th>\n",
       "      <td>AAD</td>\n",
       "      <td>1234nmk</td>\n",
       "      <td>390789.66</td>\n",
       "    </tr>\n",
       "    <tr>\n",
       "      <th>2</th>\n",
       "      <td>BA</td>\n",
       "      <td>mm3d90</td>\n",
       "      <td>13.02</td>\n",
       "    </tr>\n",
       "  </tbody>\n",
       "</table>\n",
       "</div>"
      ],
      "text/plain": [
       "  Bank Account#    Balance\n",
       "0   BA   ajfdk2    1222.00\n",
       "1  AAD  1234nmk  390789.66\n",
       "2   BA   mm3d90      13.02"
      ]
     },
     "metadata": {
      "tags": []
     },
     "output_type": "display_data"
    }
   ],
   "source": [
    "# First way\n",
    "data = {'Bank': ['BA', 'AAD', 'BA'],\n",
    "        'Account#':['ajfdk2', '1234nmk', 'mm3d90'],\n",
    "        'Balance': [1222.00, 390789.66, 13.02]}\n",
    "\n",
    "df = pd.DataFrame(data)\n",
    "display(df)"
   ]
  },
  {
   "cell_type": "code",
   "execution_count": null,
   "metadata": {
    "colab": {
     "base_uri": "https://localhost:8080/",
     "height": 142
    },
    "id": "aencoFTC4QGi",
    "outputId": "5ebb5f59-4ecc-47e4-821e-9acaefaa1956"
   },
   "outputs": [
    {
     "data": {
      "text/html": [
       "<div>\n",
       "<style scoped>\n",
       "    .dataframe tbody tr th:only-of-type {\n",
       "        vertical-align: middle;\n",
       "    }\n",
       "\n",
       "    .dataframe tbody tr th {\n",
       "        vertical-align: top;\n",
       "    }\n",
       "\n",
       "    .dataframe thead th {\n",
       "        text-align: right;\n",
       "    }\n",
       "</style>\n",
       "<table border=\"1\" class=\"dataframe\">\n",
       "  <thead>\n",
       "    <tr style=\"text-align: right;\">\n",
       "      <th></th>\n",
       "      <th>Bank</th>\n",
       "      <th>Account#</th>\n",
       "      <th>Balance</th>\n",
       "    </tr>\n",
       "  </thead>\n",
       "  <tbody>\n",
       "    <tr>\n",
       "      <th>0</th>\n",
       "      <td>BA</td>\n",
       "      <td>ajfdk2</td>\n",
       "      <td>1222.00</td>\n",
       "    </tr>\n",
       "    <tr>\n",
       "      <th>1</th>\n",
       "      <td>AAD</td>\n",
       "      <td>1234nmk</td>\n",
       "      <td>390789.66</td>\n",
       "    </tr>\n",
       "    <tr>\n",
       "      <th>2</th>\n",
       "      <td>BA</td>\n",
       "      <td>mm3d90</td>\n",
       "      <td>13.02</td>\n",
       "    </tr>\n",
       "  </tbody>\n",
       "</table>\n",
       "</div>"
      ],
      "text/plain": [
       "  Bank Account#    Balance\n",
       "0   BA   ajfdk2    1222.00\n",
       "1  AAD  1234nmk  390789.66\n",
       "2   BA   mm3d90      13.02"
      ]
     },
     "metadata": {
      "tags": []
     },
     "output_type": "display_data"
    }
   ],
   "source": [
    "# Second way\n",
    "data = [{'Bank': 'BA', 'Account#': 'ajfdk2', 'Balance': 1222.00},\n",
    "        {'Bank': 'AAD', 'Account#': '1234nmk', 'Balance': 390789.66},\n",
    "        {'Bank': 'BA', 'Account#': 'mm3d90', 'Balance': 13.02}]\n",
    "  \n",
    "df = pd.DataFrame(data)\n",
    "display(df)"
   ]
  },
  {
   "cell_type": "code",
   "execution_count": null,
   "metadata": {
    "colab": {
     "base_uri": "https://localhost:8080/",
     "height": 142
    },
    "id": "vj4SPapV5Naq",
    "outputId": "da66a4b9-c970-45ea-e70e-a933b8ef8162"
   },
   "outputs": [
    {
     "data": {
      "text/html": [
       "<div>\n",
       "<style scoped>\n",
       "    .dataframe tbody tr th:only-of-type {\n",
       "        vertical-align: middle;\n",
       "    }\n",
       "\n",
       "    .dataframe tbody tr th {\n",
       "        vertical-align: top;\n",
       "    }\n",
       "\n",
       "    .dataframe thead th {\n",
       "        text-align: right;\n",
       "    }\n",
       "</style>\n",
       "<table border=\"1\" class=\"dataframe\">\n",
       "  <thead>\n",
       "    <tr style=\"text-align: right;\">\n",
       "      <th></th>\n",
       "      <th>Bank Code</th>\n",
       "      <th>Account#</th>\n",
       "      <th>Balance</th>\n",
       "    </tr>\n",
       "  </thead>\n",
       "  <tbody>\n",
       "    <tr>\n",
       "      <th>0</th>\n",
       "      <td>BA</td>\n",
       "      <td>ajfdk2</td>\n",
       "      <td>1222.00</td>\n",
       "    </tr>\n",
       "    <tr>\n",
       "      <th>1</th>\n",
       "      <td>AAD</td>\n",
       "      <td>1234nmk</td>\n",
       "      <td>390789.11</td>\n",
       "    </tr>\n",
       "    <tr>\n",
       "      <th>2</th>\n",
       "      <td>BA</td>\n",
       "      <td>mm3d90</td>\n",
       "      <td>13.02</td>\n",
       "    </tr>\n",
       "  </tbody>\n",
       "</table>\n",
       "</div>"
      ],
      "text/plain": [
       "  Bank Code Account#    Balance\n",
       "0        BA   ajfdk2    1222.00\n",
       "1       AAD  1234nmk  390789.11\n",
       "2        BA   mm3d90      13.02"
      ]
     },
     "metadata": {
      "tags": []
     },
     "output_type": "display_data"
    }
   ],
   "source": [
    "# Third way\n",
    "data = [['BA',  'ajfdk2',  1222.00],\n",
    "        ['AAD', '1234nmk', 390789.11],   \n",
    "        ['BA',  'mm3d90',  13.02]]    \n",
    "\n",
    "columns = ['Bank Code', 'Account#', 'Balance']\n",
    "df = pd.DataFrame(data=data, columns=columns)\n",
    "display(df)"
   ]
  },
  {
   "cell_type": "code",
   "execution_count": null,
   "metadata": {
    "colab": {
     "base_uri": "https://localhost:8080/",
     "height": 439
    },
    "id": "wKFgCDeS58EQ",
    "outputId": "857b1dc1-beae-4fea-dc8f-f7fa40f14dce"
   },
   "outputs": [
    {
     "data": {
      "text/html": [
       "<div>\n",
       "<style scoped>\n",
       "    .dataframe tbody tr th:only-of-type {\n",
       "        vertical-align: middle;\n",
       "    }\n",
       "\n",
       "    .dataframe tbody tr th {\n",
       "        vertical-align: top;\n",
       "    }\n",
       "\n",
       "    .dataframe thead th {\n",
       "        text-align: right;\n",
       "    }\n",
       "</style>\n",
       "<table border=\"1\" class=\"dataframe\">\n",
       "  <thead>\n",
       "    <tr style=\"text-align: right;\">\n",
       "      <th></th>\n",
       "      <th>longitude</th>\n",
       "      <th>latitude</th>\n",
       "      <th>housing_median_age</th>\n",
       "      <th>total_rooms</th>\n",
       "      <th>total_bedrooms</th>\n",
       "      <th>population</th>\n",
       "      <th>households</th>\n",
       "      <th>median_income</th>\n",
       "      <th>median_house_value</th>\n",
       "    </tr>\n",
       "  </thead>\n",
       "  <tbody>\n",
       "    <tr>\n",
       "      <th>0</th>\n",
       "      <td>-122.05</td>\n",
       "      <td>37.37</td>\n",
       "      <td>27.0</td>\n",
       "      <td>3885.0</td>\n",
       "      <td>661.0</td>\n",
       "      <td>1537.0</td>\n",
       "      <td>606.0</td>\n",
       "      <td>6.6085</td>\n",
       "      <td>344700.0</td>\n",
       "    </tr>\n",
       "    <tr>\n",
       "      <th>1</th>\n",
       "      <td>-118.30</td>\n",
       "      <td>34.26</td>\n",
       "      <td>43.0</td>\n",
       "      <td>1510.0</td>\n",
       "      <td>310.0</td>\n",
       "      <td>809.0</td>\n",
       "      <td>277.0</td>\n",
       "      <td>3.5990</td>\n",
       "      <td>176500.0</td>\n",
       "    </tr>\n",
       "    <tr>\n",
       "      <th>2</th>\n",
       "      <td>-117.81</td>\n",
       "      <td>33.78</td>\n",
       "      <td>27.0</td>\n",
       "      <td>3589.0</td>\n",
       "      <td>507.0</td>\n",
       "      <td>1484.0</td>\n",
       "      <td>495.0</td>\n",
       "      <td>5.7934</td>\n",
       "      <td>270500.0</td>\n",
       "    </tr>\n",
       "    <tr>\n",
       "      <th>3</th>\n",
       "      <td>-118.36</td>\n",
       "      <td>33.82</td>\n",
       "      <td>28.0</td>\n",
       "      <td>67.0</td>\n",
       "      <td>15.0</td>\n",
       "      <td>49.0</td>\n",
       "      <td>11.0</td>\n",
       "      <td>6.1359</td>\n",
       "      <td>330000.0</td>\n",
       "    </tr>\n",
       "    <tr>\n",
       "      <th>4</th>\n",
       "      <td>-119.67</td>\n",
       "      <td>36.33</td>\n",
       "      <td>19.0</td>\n",
       "      <td>1241.0</td>\n",
       "      <td>244.0</td>\n",
       "      <td>850.0</td>\n",
       "      <td>237.0</td>\n",
       "      <td>2.9375</td>\n",
       "      <td>81700.0</td>\n",
       "    </tr>\n",
       "    <tr>\n",
       "      <th>...</th>\n",
       "      <td>...</td>\n",
       "      <td>...</td>\n",
       "      <td>...</td>\n",
       "      <td>...</td>\n",
       "      <td>...</td>\n",
       "      <td>...</td>\n",
       "      <td>...</td>\n",
       "      <td>...</td>\n",
       "      <td>...</td>\n",
       "    </tr>\n",
       "    <tr>\n",
       "      <th>2995</th>\n",
       "      <td>-119.86</td>\n",
       "      <td>34.42</td>\n",
       "      <td>23.0</td>\n",
       "      <td>1450.0</td>\n",
       "      <td>642.0</td>\n",
       "      <td>1258.0</td>\n",
       "      <td>607.0</td>\n",
       "      <td>1.1790</td>\n",
       "      <td>225000.0</td>\n",
       "    </tr>\n",
       "    <tr>\n",
       "      <th>2996</th>\n",
       "      <td>-118.14</td>\n",
       "      <td>34.06</td>\n",
       "      <td>27.0</td>\n",
       "      <td>5257.0</td>\n",
       "      <td>1082.0</td>\n",
       "      <td>3496.0</td>\n",
       "      <td>1036.0</td>\n",
       "      <td>3.3906</td>\n",
       "      <td>237200.0</td>\n",
       "    </tr>\n",
       "    <tr>\n",
       "      <th>2997</th>\n",
       "      <td>-119.70</td>\n",
       "      <td>36.30</td>\n",
       "      <td>10.0</td>\n",
       "      <td>956.0</td>\n",
       "      <td>201.0</td>\n",
       "      <td>693.0</td>\n",
       "      <td>220.0</td>\n",
       "      <td>2.2895</td>\n",
       "      <td>62000.0</td>\n",
       "    </tr>\n",
       "    <tr>\n",
       "      <th>2998</th>\n",
       "      <td>-117.12</td>\n",
       "      <td>34.10</td>\n",
       "      <td>40.0</td>\n",
       "      <td>96.0</td>\n",
       "      <td>14.0</td>\n",
       "      <td>46.0</td>\n",
       "      <td>14.0</td>\n",
       "      <td>3.2708</td>\n",
       "      <td>162500.0</td>\n",
       "    </tr>\n",
       "    <tr>\n",
       "      <th>2999</th>\n",
       "      <td>-119.63</td>\n",
       "      <td>34.42</td>\n",
       "      <td>42.0</td>\n",
       "      <td>1765.0</td>\n",
       "      <td>263.0</td>\n",
       "      <td>753.0</td>\n",
       "      <td>260.0</td>\n",
       "      <td>8.5608</td>\n",
       "      <td>500001.0</td>\n",
       "    </tr>\n",
       "  </tbody>\n",
       "</table>\n",
       "<p>3000 rows × 9 columns</p>\n",
       "</div>"
      ],
      "text/plain": [
       "      longitude  latitude  ...  median_income  median_house_value\n",
       "0       -122.05     37.37  ...         6.6085            344700.0\n",
       "1       -118.30     34.26  ...         3.5990            176500.0\n",
       "2       -117.81     33.78  ...         5.7934            270500.0\n",
       "3       -118.36     33.82  ...         6.1359            330000.0\n",
       "4       -119.67     36.33  ...         2.9375             81700.0\n",
       "...         ...       ...  ...            ...                 ...\n",
       "2995    -119.86     34.42  ...         1.1790            225000.0\n",
       "2996    -118.14     34.06  ...         3.3906            237200.0\n",
       "2997    -119.70     36.30  ...         2.2895             62000.0\n",
       "2998    -117.12     34.10  ...         3.2708            162500.0\n",
       "2999    -119.63     34.42  ...         8.5608            500001.0\n",
       "\n",
       "[3000 rows x 9 columns]"
      ]
     },
     "metadata": {
      "tags": []
     },
     "output_type": "display_data"
    }
   ],
   "source": [
    "train = pd.read_csv('sample_data/california_housing_test.csv')\n",
    "display(train)"
   ]
  },
  {
   "cell_type": "markdown",
   "metadata": {
    "id": "cJvSL9NV8I_Q"
   },
   "source": [
    "# Acessing data"
   ]
  },
  {
   "cell_type": "code",
   "execution_count": null,
   "metadata": {
    "colab": {
     "base_uri": "https://localhost:8080/",
     "height": 68
    },
    "id": "AT3NPpEV7z3p",
    "outputId": "4738c015-433c-4f85-b651-104c62ba3124"
   },
   "outputs": [
    {
     "data": {
      "text/plain": [
       "Bank Code      BA\n",
       "Balance      1222\n",
       "Name: 0, dtype: object"
      ]
     },
     "execution_count": 17,
     "metadata": {
      "tags": []
     },
     "output_type": "execute_result"
    }
   ],
   "source": [
    "# Using .loc\n",
    "df.loc[:, 'Bank Code']\n",
    "df.loc[1:, 'Balance']\n",
    "df.loc[1:, ]\n",
    "df.loc[2, 'Balance']\n",
    "df.loc[[0,1], 'Account#']\n",
    "df.loc[0, ['Bank Code', 'Balance']]"
   ]
  },
  {
   "cell_type": "code",
   "execution_count": null,
   "metadata": {
    "colab": {
     "base_uri": "https://localhost:8080/",
     "height": 68
    },
    "id": "u8GSjDkPM4Pd",
    "outputId": "0519d1f0-0e1c-432a-d14f-524b6aebf3f3"
   },
   "outputs": [
    {
     "data": {
      "text/plain": [
       "Bank Code      BA\n",
       "Balance      1222\n",
       "Name: 0, dtype: object"
      ]
     },
     "execution_count": 18,
     "metadata": {
      "tags": []
     },
     "output_type": "execute_result"
    }
   ],
   "source": [
    "# Using .iloc\n",
    "df.iloc[:, 0]\n",
    "df.iloc[1, -1]\n",
    "df.iloc[0, 0:3:2]"
   ]
  },
  {
   "cell_type": "markdown",
   "metadata": {
    "id": "akPOn7WYTih_"
   },
   "source": [
    "# Aggregating and summarizing\n",
    "\n",
    "![](https://lh3.googleusercontent.com/pw/ACtC-3eyVbZMUbVXdPohgUHbHDXCh06Vrs3DmTWTULM_t8LhtmtFiPYkWt4ebDgWIxtRplOZ8N0oQ-t9BQkn75gYJbkZsRaBeM2TwfUD-NzUjTI9AOd1fZew7IXuWr2ryMg6aih91wG1HlU3gS8KSWkDCN8g=w479-h231-no?authuser=0)\n"
   ]
  },
  {
   "cell_type": "code",
   "execution_count": null,
   "metadata": {
    "colab": {
     "base_uri": "https://localhost:8080/",
     "height": 173
    },
    "id": "Vs9gHHb4WhL2",
    "outputId": "869de508-353c-4c4c-bb21-ad65333c1a9d"
   },
   "outputs": [
    {
     "data": {
      "text/html": [
       "<div>\n",
       "<style scoped>\n",
       "    .dataframe tbody tr th:only-of-type {\n",
       "        vertical-align: middle;\n",
       "    }\n",
       "\n",
       "    .dataframe tbody tr th {\n",
       "        vertical-align: top;\n",
       "    }\n",
       "\n",
       "    .dataframe thead th {\n",
       "        text-align: right;\n",
       "    }\n",
       "</style>\n",
       "<table border=\"1\" class=\"dataframe\">\n",
       "  <thead>\n",
       "    <tr style=\"text-align: right;\">\n",
       "      <th></th>\n",
       "      <th>OPEN</th>\n",
       "      <th>HI</th>\n",
       "      <th>LOW</th>\n",
       "      <th>CLOSE</th>\n",
       "    </tr>\n",
       "  </thead>\n",
       "  <tbody>\n",
       "    <tr>\n",
       "      <th>2020-01-02</th>\n",
       "      <td>299.22</td>\n",
       "      <td>323.32</td>\n",
       "      <td>330.22</td>\n",
       "      <td>322.99</td>\n",
       "    </tr>\n",
       "    <tr>\n",
       "      <th>2020-01-03</th>\n",
       "      <td>322.93</td>\n",
       "      <td>349.21</td>\n",
       "      <td>332.00</td>\n",
       "      <td>330.49</td>\n",
       "    </tr>\n",
       "    <tr>\n",
       "      <th>2020-01-04</th>\n",
       "      <td>330.49</td>\n",
       "      <td>342.22</td>\n",
       "      <td>299.23</td>\n",
       "      <td>299.23</td>\n",
       "    </tr>\n",
       "    <tr>\n",
       "      <th>2020-01-05</th>\n",
       "      <td>299.23</td>\n",
       "      <td>299.23</td>\n",
       "      <td>230.20</td>\n",
       "      <td>230.30</td>\n",
       "    </tr>\n",
       "  </tbody>\n",
       "</table>\n",
       "</div>"
      ],
      "text/plain": [
       "              OPEN      HI     LOW   CLOSE\n",
       "2020-01-02  299.22  323.32  330.22  322.99\n",
       "2020-01-03  322.93  349.21  332.00  330.49\n",
       "2020-01-04  330.49  342.22  299.23  299.23\n",
       "2020-01-05  299.23  299.23  230.20  230.30"
      ]
     },
     "metadata": {
      "tags": []
     },
     "output_type": "display_data"
    }
   ],
   "source": [
    "data = {'OPEN': [299.22, 322.93, 330.49, 299.23],\n",
    "        'HI':[323.32, 349.21, 342.22, 299.23],\n",
    "        'LOW': [330.22, 332.00, 299.23, 230.20],\n",
    "        'CLOSE':[322.99, 330.49, 299.23, 230.30]}\n",
    "index = ['2020-01-02', '2020-01-03', '2020-01-04', '2020-01-05']\n",
    "prices = pd.DataFrame(data, index= index)\n",
    "display(prices)"
   ]
  },
  {
   "cell_type": "code",
   "execution_count": null,
   "metadata": {
    "colab": {
     "base_uri": "https://localhost:8080/",
     "height": 34
    },
    "id": "t-eq-5xTNqi2",
    "outputId": "52e151f7-d71d-4dcf-eef2-373107d2a06f"
   },
   "outputs": [
    {
     "name": "stdout",
     "output_type": "stream",
     "text": [
      "Trending down.\n"
     ]
    }
   ],
   "source": [
    "# Get the median of the opening prices\n",
    "med_open = prices.loc[:, 'OPEN'].median()\n",
    "\n",
    "# Get the median of the closing prices\n",
    "med_close = prices.loc[:, 'CLOSE'].median()\n",
    "\n",
    "if med_open < med_close:\n",
    "    print(\"Trending down.\")"
   ]
  },
  {
   "cell_type": "markdown",
   "metadata": {
    "id": "K-n-0F9oaXjN"
   },
   "source": [
    "# Extending and manipulating data"
   ]
  },
  {
   "cell_type": "code",
   "execution_count": null,
   "metadata": {
    "colab": {
     "base_uri": "https://localhost:8080/",
     "height": 173
    },
    "id": "zylFw9ATX09N",
    "outputId": "f0a25dde-c2f1-4ee7-d644-d7d172b7cc0d"
   },
   "outputs": [
    {
     "data": {
      "text/html": [
       "<div>\n",
       "<style scoped>\n",
       "    .dataframe tbody tr th:only-of-type {\n",
       "        vertical-align: middle;\n",
       "    }\n",
       "\n",
       "    .dataframe tbody tr th {\n",
       "        vertical-align: top;\n",
       "    }\n",
       "\n",
       "    .dataframe thead th {\n",
       "        text-align: right;\n",
       "    }\n",
       "</style>\n",
       "<table border=\"1\" class=\"dataframe\">\n",
       "  <thead>\n",
       "    <tr style=\"text-align: right;\">\n",
       "      <th></th>\n",
       "      <th>OPEN</th>\n",
       "      <th>HI</th>\n",
       "      <th>LOW</th>\n",
       "      <th>CLOSE</th>\n",
       "      <th>MEAN</th>\n",
       "    </tr>\n",
       "  </thead>\n",
       "  <tbody>\n",
       "    <tr>\n",
       "      <th>2020-01-02</th>\n",
       "      <td>299.22</td>\n",
       "      <td>323.32</td>\n",
       "      <td>330.22</td>\n",
       "      <td>322.99</td>\n",
       "      <td>318.9375</td>\n",
       "    </tr>\n",
       "    <tr>\n",
       "      <th>2020-01-03</th>\n",
       "      <td>322.93</td>\n",
       "      <td>349.21</td>\n",
       "      <td>332.00</td>\n",
       "      <td>330.49</td>\n",
       "      <td>333.6575</td>\n",
       "    </tr>\n",
       "    <tr>\n",
       "      <th>2020-01-04</th>\n",
       "      <td>330.49</td>\n",
       "      <td>342.22</td>\n",
       "      <td>299.23</td>\n",
       "      <td>299.23</td>\n",
       "      <td>317.7925</td>\n",
       "    </tr>\n",
       "    <tr>\n",
       "      <th>2020-01-05</th>\n",
       "      <td>299.23</td>\n",
       "      <td>299.23</td>\n",
       "      <td>230.20</td>\n",
       "      <td>230.30</td>\n",
       "      <td>264.7400</td>\n",
       "    </tr>\n",
       "  </tbody>\n",
       "</table>\n",
       "</div>"
      ],
      "text/plain": [
       "              OPEN      HI     LOW   CLOSE      MEAN\n",
       "2020-01-02  299.22  323.32  330.22  322.99  318.9375\n",
       "2020-01-03  322.93  349.21  332.00  330.49  333.6575\n",
       "2020-01-04  330.49  342.22  299.23  299.23  317.7925\n",
       "2020-01-05  299.23  299.23  230.20  230.30  264.7400"
      ]
     },
     "metadata": {
      "tags": []
     },
     "output_type": "display_data"
    }
   ],
   "source": [
    "prices['MEAN'] = prices.mean(axis=1)\n",
    "display(prices)"
   ]
  },
  {
   "cell_type": "code",
   "execution_count": null,
   "metadata": {
    "colab": {
     "base_uri": "https://localhost:8080/",
     "height": 173
    },
    "id": "bnuFlk6Eb2ex",
    "outputId": "6b083e34-7014-4656-8476-8fffb09b7794"
   },
   "outputs": [
    {
     "data": {
      "text/html": [
       "<div>\n",
       "<style scoped>\n",
       "    .dataframe tbody tr th:only-of-type {\n",
       "        vertical-align: middle;\n",
       "    }\n",
       "\n",
       "    .dataframe tbody tr th {\n",
       "        vertical-align: top;\n",
       "    }\n",
       "\n",
       "    .dataframe thead th {\n",
       "        text-align: right;\n",
       "    }\n",
       "</style>\n",
       "<table border=\"1\" class=\"dataframe\">\n",
       "  <thead>\n",
       "    <tr style=\"text-align: right;\">\n",
       "      <th></th>\n",
       "      <th>OPEN</th>\n",
       "      <th>HI</th>\n",
       "      <th>LOW</th>\n",
       "      <th>CLOSE</th>\n",
       "      <th>MEAN</th>\n",
       "      <th>SUM_COL</th>\n",
       "    </tr>\n",
       "  </thead>\n",
       "  <tbody>\n",
       "    <tr>\n",
       "      <th>2020-01-02</th>\n",
       "      <td>299.22</td>\n",
       "      <td>323.32</td>\n",
       "      <td>330.22</td>\n",
       "      <td>322.99</td>\n",
       "      <td>318.9375</td>\n",
       "      <td>1594.6875</td>\n",
       "    </tr>\n",
       "    <tr>\n",
       "      <th>2020-01-03</th>\n",
       "      <td>322.93</td>\n",
       "      <td>349.21</td>\n",
       "      <td>332.00</td>\n",
       "      <td>330.49</td>\n",
       "      <td>333.6575</td>\n",
       "      <td>1668.2875</td>\n",
       "    </tr>\n",
       "    <tr>\n",
       "      <th>2020-01-04</th>\n",
       "      <td>330.49</td>\n",
       "      <td>342.22</td>\n",
       "      <td>299.23</td>\n",
       "      <td>299.23</td>\n",
       "      <td>317.7925</td>\n",
       "      <td>1588.9625</td>\n",
       "    </tr>\n",
       "    <tr>\n",
       "      <th>2020-01-05</th>\n",
       "      <td>299.23</td>\n",
       "      <td>299.23</td>\n",
       "      <td>230.20</td>\n",
       "      <td>230.30</td>\n",
       "      <td>264.7400</td>\n",
       "      <td>1323.7000</td>\n",
       "    </tr>\n",
       "  </tbody>\n",
       "</table>\n",
       "</div>"
      ],
      "text/plain": [
       "              OPEN      HI     LOW   CLOSE      MEAN    SUM_COL\n",
       "2020-01-02  299.22  323.32  330.22  322.99  318.9375  1594.6875\n",
       "2020-01-03  322.93  349.21  332.00  330.49  333.6575  1668.2875\n",
       "2020-01-04  330.49  342.22  299.23  299.23  317.7925  1588.9625\n",
       "2020-01-05  299.23  299.23  230.20  230.30  264.7400  1323.7000"
      ]
     },
     "metadata": {
      "tags": []
     },
     "output_type": "display_data"
    }
   ],
   "source": [
    "prices['SUM_COL'] = prices.sum(axis=1)\n",
    "display(prices)"
   ]
  },
  {
   "cell_type": "code",
   "execution_count": null,
   "metadata": {
    "colab": {
     "base_uri": "https://localhost:8080/",
     "height": 173
    },
    "id": "Qg-H7mHPc6LH",
    "outputId": "0eb4736f-50ec-401b-a345-45230a1308fe"
   },
   "outputs": [
    {
     "data": {
      "text/html": [
       "<div>\n",
       "<style scoped>\n",
       "    .dataframe tbody tr th:only-of-type {\n",
       "        vertical-align: middle;\n",
       "    }\n",
       "\n",
       "    .dataframe tbody tr th {\n",
       "        vertical-align: top;\n",
       "    }\n",
       "\n",
       "    .dataframe thead th {\n",
       "        text-align: right;\n",
       "    }\n",
       "</style>\n",
       "<table border=\"1\" class=\"dataframe\">\n",
       "  <thead>\n",
       "    <tr style=\"text-align: right;\">\n",
       "      <th></th>\n",
       "      <th>OPEN</th>\n",
       "      <th>HI</th>\n",
       "      <th>LOW</th>\n",
       "      <th>CLOSE</th>\n",
       "    </tr>\n",
       "  </thead>\n",
       "  <tbody>\n",
       "    <tr>\n",
       "      <th>2020-01-02</th>\n",
       "      <td>299.22</td>\n",
       "      <td>323.32</td>\n",
       "      <td>330.22</td>\n",
       "      <td>322.99</td>\n",
       "    </tr>\n",
       "    <tr>\n",
       "      <th>2020-01-03</th>\n",
       "      <td>322.93</td>\n",
       "      <td>349.21</td>\n",
       "      <td>332.00</td>\n",
       "      <td>330.49</td>\n",
       "    </tr>\n",
       "    <tr>\n",
       "      <th>2020-01-04</th>\n",
       "      <td>330.49</td>\n",
       "      <td>342.22</td>\n",
       "      <td>299.23</td>\n",
       "      <td>299.23</td>\n",
       "    </tr>\n",
       "    <tr>\n",
       "      <th>2020-01-05</th>\n",
       "      <td>299.23</td>\n",
       "      <td>299.23</td>\n",
       "      <td>230.20</td>\n",
       "      <td>230.30</td>\n",
       "    </tr>\n",
       "  </tbody>\n",
       "</table>\n",
       "</div>"
      ],
      "text/plain": [
       "              OPEN      HI     LOW   CLOSE\n",
       "2020-01-02  299.22  323.32  330.22  322.99\n",
       "2020-01-03  322.93  349.21  332.00  330.49\n",
       "2020-01-04  330.49  342.22  299.23  299.23\n",
       "2020-01-05  299.23  299.23  230.20  230.30"
      ]
     },
     "metadata": {
      "tags": []
     },
     "output_type": "display_data"
    }
   ],
   "source": [
    "# Dropping columns from DataFrame\n",
    "columns_to_drop = ['MEAN', 'SUM_COL']\n",
    "prices.drop(columns= columns_to_drop, inplace=True)\n",
    "display(prices)"
   ]
  },
  {
   "cell_type": "markdown",
   "metadata": {
    "id": "--fCtO2ES7EM"
   },
   "source": [
    "# Describe"
   ]
  },
  {
   "cell_type": "code",
   "execution_count": null,
   "metadata": {
    "colab": {
     "base_uri": "https://localhost:8080/",
     "height": 297
    },
    "id": "43cduSkweIzO",
    "outputId": "ca21124f-0f47-4677-c6d6-9212d4f84ad4"
   },
   "outputs": [
    {
     "data": {
      "text/html": [
       "<div>\n",
       "<style scoped>\n",
       "    .dataframe tbody tr th:only-of-type {\n",
       "        vertical-align: middle;\n",
       "    }\n",
       "\n",
       "    .dataframe tbody tr th {\n",
       "        vertical-align: top;\n",
       "    }\n",
       "\n",
       "    .dataframe thead th {\n",
       "        text-align: right;\n",
       "    }\n",
       "</style>\n",
       "<table border=\"1\" class=\"dataframe\">\n",
       "  <thead>\n",
       "    <tr style=\"text-align: right;\">\n",
       "      <th></th>\n",
       "      <th>OPEN</th>\n",
       "      <th>HI</th>\n",
       "      <th>LOW</th>\n",
       "      <th>CLOSE</th>\n",
       "    </tr>\n",
       "  </thead>\n",
       "  <tbody>\n",
       "    <tr>\n",
       "      <th>count</th>\n",
       "      <td>4.000000</td>\n",
       "      <td>4.000000</td>\n",
       "      <td>4.000000</td>\n",
       "      <td>4.000000</td>\n",
       "    </tr>\n",
       "    <tr>\n",
       "      <th>mean</th>\n",
       "      <td>312.967500</td>\n",
       "      <td>328.495000</td>\n",
       "      <td>297.912500</td>\n",
       "      <td>295.752500</td>\n",
       "    </tr>\n",
       "    <tr>\n",
       "      <th>std</th>\n",
       "      <td>16.165829</td>\n",
       "      <td>22.365954</td>\n",
       "      <td>47.583088</td>\n",
       "      <td>45.624182</td>\n",
       "    </tr>\n",
       "    <tr>\n",
       "      <th>min</th>\n",
       "      <td>299.220000</td>\n",
       "      <td>299.230000</td>\n",
       "      <td>230.200000</td>\n",
       "      <td>230.300000</td>\n",
       "    </tr>\n",
       "    <tr>\n",
       "      <th>25%</th>\n",
       "      <td>299.227500</td>\n",
       "      <td>317.297500</td>\n",
       "      <td>281.972500</td>\n",
       "      <td>281.997500</td>\n",
       "    </tr>\n",
       "    <tr>\n",
       "      <th>50%</th>\n",
       "      <td>311.080000</td>\n",
       "      <td>332.770000</td>\n",
       "      <td>314.725000</td>\n",
       "      <td>311.110000</td>\n",
       "    </tr>\n",
       "    <tr>\n",
       "      <th>75%</th>\n",
       "      <td>324.820000</td>\n",
       "      <td>343.967500</td>\n",
       "      <td>330.665000</td>\n",
       "      <td>324.865000</td>\n",
       "    </tr>\n",
       "    <tr>\n",
       "      <th>max</th>\n",
       "      <td>330.490000</td>\n",
       "      <td>349.210000</td>\n",
       "      <td>332.000000</td>\n",
       "      <td>330.490000</td>\n",
       "    </tr>\n",
       "  </tbody>\n",
       "</table>\n",
       "</div>"
      ],
      "text/plain": [
       "             OPEN          HI         LOW       CLOSE\n",
       "count    4.000000    4.000000    4.000000    4.000000\n",
       "mean   312.967500  328.495000  297.912500  295.752500\n",
       "std     16.165829   22.365954   47.583088   45.624182\n",
       "min    299.220000  299.230000  230.200000  230.300000\n",
       "25%    299.227500  317.297500  281.972500  281.997500\n",
       "50%    311.080000  332.770000  314.725000  311.110000\n",
       "75%    324.820000  343.967500  330.665000  324.865000\n",
       "max    330.490000  349.210000  332.000000  330.490000"
      ]
     },
     "execution_count": 36,
     "metadata": {
      "tags": []
     },
     "output_type": "execute_result"
    }
   ],
   "source": [
    "prices.describe()"
   ]
  },
  {
   "cell_type": "code",
   "execution_count": null,
   "metadata": {
    "colab": {
     "base_uri": "https://localhost:8080/",
     "height": 328
    },
    "id": "vVWRa4ZBRwjh",
    "outputId": "ecac748f-a9d0-4ac7-d1dc-1d3ffbe36126"
   },
   "outputs": [
    {
     "data": {
      "text/html": [
       "<div>\n",
       "<style scoped>\n",
       "    .dataframe tbody tr th:only-of-type {\n",
       "        vertical-align: middle;\n",
       "    }\n",
       "\n",
       "    .dataframe tbody tr th {\n",
       "        vertical-align: top;\n",
       "    }\n",
       "\n",
       "    .dataframe thead th {\n",
       "        text-align: right;\n",
       "    }\n",
       "</style>\n",
       "<table border=\"1\" class=\"dataframe\">\n",
       "  <thead>\n",
       "    <tr style=\"text-align: right;\">\n",
       "      <th></th>\n",
       "      <th>OPEN</th>\n",
       "      <th>HI</th>\n",
       "      <th>LOW</th>\n",
       "      <th>CLOSE</th>\n",
       "    </tr>\n",
       "  </thead>\n",
       "  <tbody>\n",
       "    <tr>\n",
       "      <th>count</th>\n",
       "      <td>4.000000</td>\n",
       "      <td>4.000000</td>\n",
       "      <td>4.000000</td>\n",
       "      <td>4.000000</td>\n",
       "    </tr>\n",
       "    <tr>\n",
       "      <th>mean</th>\n",
       "      <td>312.967500</td>\n",
       "      <td>328.495000</td>\n",
       "      <td>297.912500</td>\n",
       "      <td>295.752500</td>\n",
       "    </tr>\n",
       "    <tr>\n",
       "      <th>std</th>\n",
       "      <td>16.165829</td>\n",
       "      <td>22.365954</td>\n",
       "      <td>47.583088</td>\n",
       "      <td>45.624182</td>\n",
       "    </tr>\n",
       "    <tr>\n",
       "      <th>min</th>\n",
       "      <td>299.220000</td>\n",
       "      <td>299.230000</td>\n",
       "      <td>230.200000</td>\n",
       "      <td>230.300000</td>\n",
       "    </tr>\n",
       "    <tr>\n",
       "      <th>10%</th>\n",
       "      <td>299.223000</td>\n",
       "      <td>306.457000</td>\n",
       "      <td>250.909000</td>\n",
       "      <td>250.979000</td>\n",
       "    </tr>\n",
       "    <tr>\n",
       "      <th>50%</th>\n",
       "      <td>311.080000</td>\n",
       "      <td>332.770000</td>\n",
       "      <td>314.725000</td>\n",
       "      <td>311.110000</td>\n",
       "    </tr>\n",
       "    <tr>\n",
       "      <th>70%</th>\n",
       "      <td>323.686000</td>\n",
       "      <td>342.919000</td>\n",
       "      <td>330.398000</td>\n",
       "      <td>323.740000</td>\n",
       "    </tr>\n",
       "    <tr>\n",
       "      <th>90%</th>\n",
       "      <td>328.222000</td>\n",
       "      <td>347.113000</td>\n",
       "      <td>331.466000</td>\n",
       "      <td>328.240000</td>\n",
       "    </tr>\n",
       "    <tr>\n",
       "      <th>max</th>\n",
       "      <td>330.490000</td>\n",
       "      <td>349.210000</td>\n",
       "      <td>332.000000</td>\n",
       "      <td>330.490000</td>\n",
       "    </tr>\n",
       "  </tbody>\n",
       "</table>\n",
       "</div>"
      ],
      "text/plain": [
       "             OPEN          HI         LOW       CLOSE\n",
       "count    4.000000    4.000000    4.000000    4.000000\n",
       "mean   312.967500  328.495000  297.912500  295.752500\n",
       "std     16.165829   22.365954   47.583088   45.624182\n",
       "min    299.220000  299.230000  230.200000  230.300000\n",
       "10%    299.223000  306.457000  250.909000  250.979000\n",
       "50%    311.080000  332.770000  314.725000  311.110000\n",
       "70%    323.686000  342.919000  330.398000  323.740000\n",
       "90%    328.222000  347.113000  331.466000  328.240000\n",
       "max    330.490000  349.210000  332.000000  330.490000"
      ]
     },
     "execution_count": 37,
     "metadata": {
      "tags": []
     },
     "output_type": "execute_result"
    }
   ],
   "source": [
    "prices.describe(percentiles=[.1, .5, .7, .9])"
   ]
  },
  {
   "cell_type": "markdown",
   "metadata": {
    "id": "8PLJSiMaS_6r"
   },
   "source": [
    "# Filtering data"
   ]
  },
  {
   "cell_type": "code",
   "execution_count": null,
   "metadata": {
    "colab": {
     "base_uri": "https://localhost:8080/",
     "height": 34
    },
    "id": "MnMQj2LeVLzi",
    "outputId": "6298bb4c-a1f7-476a-d5fb-0112766fecc9"
   },
   "outputs": [
    {
     "data": {
      "text/plain": [
       "Index(['2020-01-02', '2020-01-03', '2020-01-04', '2020-01-05'], dtype='object')"
      ]
     },
     "execution_count": 48,
     "metadata": {
      "tags": []
     },
     "output_type": "execute_result"
    }
   ],
   "source": [
    "prices.index"
   ]
  },
  {
   "cell_type": "code",
   "execution_count": null,
   "metadata": {
    "id": "gpMO4KPPSATZ"
   },
   "outputs": [],
   "source": [
    "mask = prices.HI > int(prices['HI'].mean())\n",
    "mask_date = prices.index >= str(datetime(2020, 1, 3)) \n",
    "\n",
    "total_mask = mask & mask_date"
   ]
  },
  {
   "cell_type": "code",
   "execution_count": null,
   "metadata": {
    "colab": {
     "base_uri": "https://localhost:8080/",
     "height": 80
    },
    "id": "iqbQisMdUfMy",
    "outputId": "3bf46e21-87fb-4a86-dc20-8f496d5df2e0"
   },
   "outputs": [
    {
     "data": {
      "text/html": [
       "<div>\n",
       "<style scoped>\n",
       "    .dataframe tbody tr th:only-of-type {\n",
       "        vertical-align: middle;\n",
       "    }\n",
       "\n",
       "    .dataframe tbody tr th {\n",
       "        vertical-align: top;\n",
       "    }\n",
       "\n",
       "    .dataframe thead th {\n",
       "        text-align: right;\n",
       "    }\n",
       "</style>\n",
       "<table border=\"1\" class=\"dataframe\">\n",
       "  <thead>\n",
       "    <tr style=\"text-align: right;\">\n",
       "      <th></th>\n",
       "      <th>OPEN</th>\n",
       "      <th>HI</th>\n",
       "      <th>LOW</th>\n",
       "      <th>CLOSE</th>\n",
       "    </tr>\n",
       "  </thead>\n",
       "  <tbody>\n",
       "    <tr>\n",
       "      <th>2020-01-04</th>\n",
       "      <td>330.49</td>\n",
       "      <td>342.22</td>\n",
       "      <td>299.23</td>\n",
       "      <td>299.23</td>\n",
       "    </tr>\n",
       "  </tbody>\n",
       "</table>\n",
       "</div>"
      ],
      "text/plain": [
       "              OPEN      HI     LOW   CLOSE\n",
       "2020-01-04  330.49  342.22  299.23  299.23"
      ]
     },
     "execution_count": 51,
     "metadata": {
      "tags": []
     },
     "output_type": "execute_result"
    }
   ],
   "source": [
    "prices.loc[total_mask]"
   ]
  },
  {
   "cell_type": "markdown",
   "metadata": {
    "id": "6VZXk189V1VI"
   },
   "source": [
    "# Plotting data\n"
   ]
  },
  {
   "cell_type": "code",
   "execution_count": null,
   "metadata": {
    "colab": {
     "base_uri": "https://localhost:8080/",
     "height": 336
    },
    "id": "YWP5DFUpUvfz",
    "outputId": "e5375132-1e14-4448-e99f-3a7d1c5bd3da"
   },
   "outputs": [
    {
     "data": {
      "text/plain": [
       "<matplotlib.axes._subplots.AxesSubplot at 0x7fd635e7d5c0>"
      ]
     },
     "execution_count": 64,
     "metadata": {
      "tags": []
     },
     "output_type": "execute_result"
    },
    {
     "data": {
      "image/png": "[encoded data removed]",
      "text/plain": [
       "<Figure size 432x288 with 1 Axes>"
      ]
     },
     "metadata": {
      "needs_background": "light",
      "tags": []
     },
     "output_type": "display_data"
    }
   ],
   "source": [
    "prices.plot(y= 'CLOSE', kind= 'bar', rot = 45, title='Distribution of close price')"
   ]
  },
  {
   "cell_type": "code",
   "execution_count": null,
   "metadata": {
    "colab": {
     "base_uri": "https://localhost:8080/",
     "height": 336
    },
    "id": "sz-5ODseW2Nv",
    "outputId": "7f1e011b-157f-495e-c544-34ed6df0c14b"
   },
   "outputs": [
    {
     "data": {
      "text/plain": [
       "<matplotlib.axes._subplots.AxesSubplot at 0x7fd635d930f0>"
      ]
     },
     "execution_count": 65,
     "metadata": {
      "tags": []
     },
     "output_type": "execute_result"
    },
    {
     "data": {
      "image/png": "[encoded data removed]",
      "text/plain": [
       "<Figure size 432x288 with 1 Axes>"
      ]
     },
     "metadata": {
      "needs_background": "light",
      "tags": []
     },
     "output_type": "display_data"
    }
   ],
   "source": [
    "prices.plot(y= 'CLOSE', kind= 'line', rot = 45, title='Distribution of close price')"
   ]
  },
  {
   "cell_type": "markdown",
   "metadata": {
    "id": "ivHfs67aYEgd"
   },
   "source": [
    "# Wrapping up"
   ]
  },
  {
   "cell_type": "code",
   "execution_count": null,
   "metadata": {
    "colab": {
     "base_uri": "https://localhost:8080/",
     "height": 235
    },
    "id": "e_jvVUMbXWR1",
    "outputId": "61cb90c7-df12-426e-81b5-39f73c87c8f4"
   },
   "outputs": [
    {
     "data": {
      "text/html": [
       "<div>\n",
       "<style scoped>\n",
       "    .dataframe tbody tr th:only-of-type {\n",
       "        vertical-align: middle;\n",
       "    }\n",
       "\n",
       "    .dataframe tbody tr th {\n",
       "        vertical-align: top;\n",
       "    }\n",
       "\n",
       "    .dataframe thead th {\n",
       "        text-align: right;\n",
       "    }\n",
       "</style>\n",
       "<table border=\"1\" class=\"dataframe\">\n",
       "  <thead>\n",
       "    <tr style=\"text-align: right;\">\n",
       "      <th></th>\n",
       "      <th>close</th>\n",
       "      <th>volume</th>\n",
       "      <th>open</th>\n",
       "      <th>high</th>\n",
       "      <th>low</th>\n",
       "    </tr>\n",
       "    <tr>\n",
       "      <th>date</th>\n",
       "      <th></th>\n",
       "      <th></th>\n",
       "      <th></th>\n",
       "      <th></th>\n",
       "      <th></th>\n",
       "    </tr>\n",
       "  </thead>\n",
       "  <tbody>\n",
       "    <tr>\n",
       "      <th>2019-08-02</th>\n",
       "      <td>1196.32</td>\n",
       "      <td>1745450.0</td>\n",
       "      <td>1203.00</td>\n",
       "      <td>1209.500</td>\n",
       "      <td>1190.00</td>\n",
       "    </tr>\n",
       "    <tr>\n",
       "      <th>2019-08-01</th>\n",
       "      <td>1211.78</td>\n",
       "      <td>1771271.0</td>\n",
       "      <td>1217.63</td>\n",
       "      <td>1236.298</td>\n",
       "      <td>1207.00</td>\n",
       "    </tr>\n",
       "    <tr>\n",
       "      <th>2019-07-31</th>\n",
       "      <td>1218.20</td>\n",
       "      <td>1997999.0</td>\n",
       "      <td>1224.87</td>\n",
       "      <td>1234.910</td>\n",
       "      <td>1208.18</td>\n",
       "    </tr>\n",
       "    <tr>\n",
       "      <th>2019-07-30</th>\n",
       "      <td>1228.00</td>\n",
       "      <td>1430775.0</td>\n",
       "      <td>1227.00</td>\n",
       "      <td>1236.910</td>\n",
       "      <td>1225.32</td>\n",
       "    </tr>\n",
       "    <tr>\n",
       "      <th>2019-07-29</th>\n",
       "      <td>1241.84</td>\n",
       "      <td>2069127.0</td>\n",
       "      <td>1242.50</td>\n",
       "      <td>1248.995</td>\n",
       "      <td>1230.20</td>\n",
       "    </tr>\n",
       "  </tbody>\n",
       "</table>\n",
       "</div>"
      ],
      "text/plain": [
       "              close     volume     open      high      low\n",
       "date                                                      \n",
       "2019-08-02  1196.32  1745450.0  1203.00  1209.500  1190.00\n",
       "2019-08-01  1211.78  1771271.0  1217.63  1236.298  1207.00\n",
       "2019-07-31  1218.20  1997999.0  1224.87  1234.910  1208.18\n",
       "2019-07-30  1228.00  1430775.0  1227.00  1236.910  1225.32\n",
       "2019-07-29  1241.84  2069127.0  1242.50  1248.995  1230.20"
      ]
     },
     "execution_count": 153,
     "metadata": {
      "tags": []
     },
     "output_type": "execute_result"
    }
   ],
   "source": [
    "alphabet = pd.read_csv('/content/drive/My Drive/Arquivos/HistoricalQuotes.csv', index_col = 'date', parse_dates= True)\n",
    "alphabet.drop(alphabet.index[0], inplace= True)\n",
    "alphabet = alphabet.astype(float)\n",
    "alphabet.head()"
   ]
  },
  {
   "cell_type": "code",
   "execution_count": null,
   "metadata": {
    "colab": {
     "base_uri": "https://localhost:8080/",
     "height": 34
    },
    "id": "NPeeYBDrYOjK",
    "outputId": "d12ff447-c10a-4030-a929-bac05f15dc11"
   },
   "outputs": [
    {
     "data": {
      "text/plain": [
       "4099"
      ]
     },
     "execution_count": 94,
     "metadata": {
      "tags": []
     },
     "output_type": "execute_result"
    }
   ],
   "source": [
    "# number of days\n",
    "timedelta_alphabet = alphabet.head(1).index - alphabet.tail(1).index\n",
    "int(timedelta_alphabet.days.values) "
   ]
  },
  {
   "cell_type": "code",
   "execution_count": null,
   "metadata": {
    "colab": {
     "base_uri": "https://localhost:8080/",
     "height": 235
    },
    "id": "wZ8Y581NglCE",
    "outputId": "36997e52-aafa-4048-dc30-dbb9c2d22f68"
   },
   "outputs": [
    {
     "data": {
      "text/html": [
       "<div>\n",
       "<style scoped>\n",
       "    .dataframe tbody tr th:only-of-type {\n",
       "        vertical-align: middle;\n",
       "    }\n",
       "\n",
       "    .dataframe tbody tr th {\n",
       "        vertical-align: top;\n",
       "    }\n",
       "\n",
       "    .dataframe thead th {\n",
       "        text-align: right;\n",
       "    }\n",
       "</style>\n",
       "<table border=\"1\" class=\"dataframe\">\n",
       "  <thead>\n",
       "    <tr style=\"text-align: right;\">\n",
       "      <th></th>\n",
       "      <th>close</th>\n",
       "      <th>volume</th>\n",
       "      <th>open</th>\n",
       "      <th>high</th>\n",
       "      <th>low</th>\n",
       "      <th>returns</th>\n",
       "    </tr>\n",
       "    <tr>\n",
       "      <th>date</th>\n",
       "      <th></th>\n",
       "      <th></th>\n",
       "      <th></th>\n",
       "      <th></th>\n",
       "      <th></th>\n",
       "      <th></th>\n",
       "    </tr>\n",
       "  </thead>\n",
       "  <tbody>\n",
       "    <tr>\n",
       "      <th>2019-08-02</th>\n",
       "      <td>1196.32</td>\n",
       "      <td>1745450.0</td>\n",
       "      <td>1203.00</td>\n",
       "      <td>1209.500</td>\n",
       "      <td>1190.00</td>\n",
       "      <td>NaN</td>\n",
       "    </tr>\n",
       "    <tr>\n",
       "      <th>2019-08-01</th>\n",
       "      <td>1211.78</td>\n",
       "      <td>1771271.0</td>\n",
       "      <td>1217.63</td>\n",
       "      <td>1236.298</td>\n",
       "      <td>1207.00</td>\n",
       "      <td>0.012923</td>\n",
       "    </tr>\n",
       "    <tr>\n",
       "      <th>2019-07-31</th>\n",
       "      <td>1218.20</td>\n",
       "      <td>1997999.0</td>\n",
       "      <td>1224.87</td>\n",
       "      <td>1234.910</td>\n",
       "      <td>1208.18</td>\n",
       "      <td>0.005298</td>\n",
       "    </tr>\n",
       "    <tr>\n",
       "      <th>2019-07-30</th>\n",
       "      <td>1228.00</td>\n",
       "      <td>1430775.0</td>\n",
       "      <td>1227.00</td>\n",
       "      <td>1236.910</td>\n",
       "      <td>1225.32</td>\n",
       "      <td>0.008045</td>\n",
       "    </tr>\n",
       "    <tr>\n",
       "      <th>2019-07-29</th>\n",
       "      <td>1241.84</td>\n",
       "      <td>2069127.0</td>\n",
       "      <td>1242.50</td>\n",
       "      <td>1248.995</td>\n",
       "      <td>1230.20</td>\n",
       "      <td>0.011270</td>\n",
       "    </tr>\n",
       "  </tbody>\n",
       "</table>\n",
       "</div>"
      ],
      "text/plain": [
       "              close     volume     open      high      low   returns\n",
       "date                                                                \n",
       "2019-08-02  1196.32  1745450.0  1203.00  1209.500  1190.00       NaN\n",
       "2019-08-01  1211.78  1771271.0  1217.63  1236.298  1207.00  0.012923\n",
       "2019-07-31  1218.20  1997999.0  1224.87  1234.910  1208.18  0.005298\n",
       "2019-07-30  1228.00  1430775.0  1227.00  1236.910  1225.32  0.008045\n",
       "2019-07-29  1241.84  2069127.0  1242.50  1248.995  1230.20  0.011270"
      ]
     },
     "execution_count": 154,
     "metadata": {
      "tags": []
     },
     "output_type": "execute_result"
    }
   ],
   "source": [
    "alphabet['returns'] = alphabet['close'].pct_change()\n",
    "\n",
    "alphabet.head()"
   ]
  },
  {
   "cell_type": "code",
   "execution_count": null,
   "metadata": {
    "colab": {
     "base_uri": "https://localhost:8080/",
     "height": 450
    },
    "id": "KSAW200WhQeo",
    "outputId": "b35b4c24-bc0f-47e3-ab97-926acc01ccaa"
   },
   "outputs": [
    {
     "data": {
      "text/html": [
       "<div>\n",
       "<style scoped>\n",
       "    .dataframe tbody tr th:only-of-type {\n",
       "        vertical-align: middle;\n",
       "    }\n",
       "\n",
       "    .dataframe tbody tr th {\n",
       "        vertical-align: top;\n",
       "    }\n",
       "\n",
       "    .dataframe thead th {\n",
       "        text-align: right;\n",
       "    }\n",
       "</style>\n",
       "<table border=\"1\" class=\"dataframe\">\n",
       "  <thead>\n",
       "    <tr style=\"text-align: right;\">\n",
       "      <th></th>\n",
       "      <th>close</th>\n",
       "      <th>volume</th>\n",
       "      <th>open</th>\n",
       "      <th>high</th>\n",
       "      <th>low</th>\n",
       "      <th>returns</th>\n",
       "    </tr>\n",
       "    <tr>\n",
       "      <th>date</th>\n",
       "      <th></th>\n",
       "      <th></th>\n",
       "      <th></th>\n",
       "      <th></th>\n",
       "      <th></th>\n",
       "      <th></th>\n",
       "    </tr>\n",
       "  </thead>\n",
       "  <tbody>\n",
       "    <tr>\n",
       "      <th>2019-08-02</th>\n",
       "      <td>1196.3200</td>\n",
       "      <td>1745450.0</td>\n",
       "      <td>1203.0000</td>\n",
       "      <td>1209.5000</td>\n",
       "      <td>1190.0000</td>\n",
       "      <td>NaN</td>\n",
       "    </tr>\n",
       "    <tr>\n",
       "      <th>2019-08-01</th>\n",
       "      <td>1211.7800</td>\n",
       "      <td>1771271.0</td>\n",
       "      <td>1217.6300</td>\n",
       "      <td>1236.2980</td>\n",
       "      <td>1207.0000</td>\n",
       "      <td>0.012923</td>\n",
       "    </tr>\n",
       "    <tr>\n",
       "      <th>2019-07-31</th>\n",
       "      <td>1218.2000</td>\n",
       "      <td>1997999.0</td>\n",
       "      <td>1224.8700</td>\n",
       "      <td>1234.9100</td>\n",
       "      <td>1208.1800</td>\n",
       "      <td>0.005298</td>\n",
       "    </tr>\n",
       "    <tr>\n",
       "      <th>2019-07-30</th>\n",
       "      <td>1228.0000</td>\n",
       "      <td>1430775.0</td>\n",
       "      <td>1227.0000</td>\n",
       "      <td>1236.9100</td>\n",
       "      <td>1225.3200</td>\n",
       "      <td>0.008045</td>\n",
       "    </tr>\n",
       "    <tr>\n",
       "      <th>2019-07-29</th>\n",
       "      <td>1241.8400</td>\n",
       "      <td>2069127.0</td>\n",
       "      <td>1242.5000</td>\n",
       "      <td>1248.9950</td>\n",
       "      <td>1230.2000</td>\n",
       "      <td>0.011270</td>\n",
       "    </tr>\n",
       "    <tr>\n",
       "      <th>...</th>\n",
       "      <td>...</td>\n",
       "      <td>...</td>\n",
       "      <td>...</td>\n",
       "      <td>...</td>\n",
       "      <td>...</td>\n",
       "      <td>...</td>\n",
       "    </tr>\n",
       "    <tr>\n",
       "      <th>2014-02-28</th>\n",
       "      <td>614.0794</td>\n",
       "      <td>2313176.0</td>\n",
       "      <td>616.4485</td>\n",
       "      <td>618.3933</td>\n",
       "      <td>609.3159</td>\n",
       "      <td>0.010776</td>\n",
       "    </tr>\n",
       "    <tr>\n",
       "      <th>2014-02-27</th>\n",
       "      <td>615.8777</td>\n",
       "      <td>1259795.0</td>\n",
       "      <td>615.4635</td>\n",
       "      <td>618.4161</td>\n",
       "      <td>614.7669</td>\n",
       "      <td>0.002928</td>\n",
       "    </tr>\n",
       "    <tr>\n",
       "      <th>2014-02-26</th>\n",
       "      <td>616.3627</td>\n",
       "      <td>1982121.0</td>\n",
       "      <td>618.2974</td>\n",
       "      <td>620.7625</td>\n",
       "      <td>613.1247</td>\n",
       "      <td>0.000787</td>\n",
       "    </tr>\n",
       "    <tr>\n",
       "      <th>2014-02-25</th>\n",
       "      <td>616.2768</td>\n",
       "      <td>1438445.0</td>\n",
       "      <td>614.2259</td>\n",
       "      <td>618.5499</td>\n",
       "      <td>611.4392</td>\n",
       "      <td>-0.000139</td>\n",
       "    </tr>\n",
       "    <tr>\n",
       "      <th>2014-02-24</th>\n",
       "      <td>612.4932</td>\n",
       "      <td>1674113.0</td>\n",
       "      <td>608.8815</td>\n",
       "      <td>616.3576</td>\n",
       "      <td>608.7501</td>\n",
       "      <td>-0.006139</td>\n",
       "    </tr>\n",
       "  </tbody>\n",
       "</table>\n",
       "<p>1028 rows × 6 columns</p>\n",
       "</div>"
      ],
      "text/plain": [
       "                close     volume       open       high        low   returns\n",
       "date                                                                       \n",
       "2019-08-02  1196.3200  1745450.0  1203.0000  1209.5000  1190.0000       NaN\n",
       "2019-08-01  1211.7800  1771271.0  1217.6300  1236.2980  1207.0000  0.012923\n",
       "2019-07-31  1218.2000  1997999.0  1224.8700  1234.9100  1208.1800  0.005298\n",
       "2019-07-30  1228.0000  1430775.0  1227.0000  1236.9100  1225.3200  0.008045\n",
       "2019-07-29  1241.8400  2069127.0  1242.5000  1248.9950  1230.2000  0.011270\n",
       "...               ...        ...        ...        ...        ...       ...\n",
       "2014-02-28   614.0794  2313176.0   616.4485   618.3933   609.3159  0.010776\n",
       "2014-02-27   615.8777  1259795.0   615.4635   618.4161   614.7669  0.002928\n",
       "2014-02-26   616.3627  1982121.0   618.2974   620.7625   613.1247  0.000787\n",
       "2014-02-25   616.2768  1438445.0   614.2259   618.5499   611.4392 -0.000139\n",
       "2014-02-24   612.4932  1674113.0   608.8815   616.3576   608.7501 -0.006139\n",
       "\n",
       "[1028 rows x 6 columns]"
      ]
     },
     "execution_count": 163,
     "metadata": {
      "tags": []
     },
     "output_type": "execute_result"
    }
   ],
   "source": [
    "mean = alphabet.close.mean()\n",
    "median = alphabet.close.median()\n",
    "alphabet.query('close > @mean & close > @median')"
   ]
  },
  {
   "cell_type": "code",
   "execution_count": null,
   "metadata": {
    "colab": {
     "base_uri": "https://localhost:8080/",
     "height": 34
    },
    "id": "2UeobCcAiVuY",
    "outputId": "335ad50b-6026-4460-983e-c31f0ef53c7d"
   },
   "outputs": [
    {
     "name": "stdout",
     "output_type": "stream",
     "text": [
      "Trending up\n"
     ]
    }
   ],
   "source": [
    "# Get the median of the opening prices\n",
    "med_open = alphabet.loc[:, 'open'].median()\n",
    "\n",
    "# Get the median of the closing prices\n",
    "med_close = alphabet.loc[:, 'close'].median()\n",
    "\n",
    "if med_open < med_close:\n",
    "    print(\"Trending down.\")\n",
    "else:\n",
    "    print(\"Trending up\")"
   ]
  },
  {
   "cell_type": "code",
   "execution_count": null,
   "metadata": {
    "colab": {
     "base_uri": "https://localhost:8080/",
     "height": 297
    },
    "id": "MKX7P16ujN7s",
    "outputId": "d6a98b5a-3959-4ac9-8de8-96bd6804fb7e"
   },
   "outputs": [
    {
     "data": {
      "text/html": [
       "<div>\n",
       "<style scoped>\n",
       "    .dataframe tbody tr th:only-of-type {\n",
       "        vertical-align: middle;\n",
       "    }\n",
       "\n",
       "    .dataframe tbody tr th {\n",
       "        vertical-align: top;\n",
       "    }\n",
       "\n",
       "    .dataframe thead th {\n",
       "        text-align: right;\n",
       "    }\n",
       "</style>\n",
       "<table border=\"1\" class=\"dataframe\">\n",
       "  <thead>\n",
       "    <tr style=\"text-align: right;\">\n",
       "      <th></th>\n",
       "      <th>close</th>\n",
       "      <th>volume</th>\n",
       "      <th>open</th>\n",
       "      <th>high</th>\n",
       "      <th>low</th>\n",
       "      <th>returns</th>\n",
       "    </tr>\n",
       "  </thead>\n",
       "  <tbody>\n",
       "    <tr>\n",
       "      <th>count</th>\n",
       "      <td>2518.000000</td>\n",
       "      <td>2.518000e+03</td>\n",
       "      <td>2518.000000</td>\n",
       "      <td>2518.000000</td>\n",
       "      <td>2518.000000</td>\n",
       "      <td>2517.000000</td>\n",
       "    </tr>\n",
       "    <tr>\n",
       "      <th>mean</th>\n",
       "      <td>612.300264</td>\n",
       "      <td>2.278235e+06</td>\n",
       "      <td>612.388284</td>\n",
       "      <td>617.484990</td>\n",
       "      <td>606.824462</td>\n",
       "      <td>-0.000542</td>\n",
       "    </tr>\n",
       "    <tr>\n",
       "      <th>std</th>\n",
       "      <td>311.029653</td>\n",
       "      <td>1.256103e+06</td>\n",
       "      <td>310.956806</td>\n",
       "      <td>313.720854</td>\n",
       "      <td>308.055488</td>\n",
       "      <td>0.015183</td>\n",
       "    </tr>\n",
       "    <tr>\n",
       "      <th>min</th>\n",
       "      <td>220.278500</td>\n",
       "      <td>5.211410e+05</td>\n",
       "      <td>221.410100</td>\n",
       "      <td>223.417600</td>\n",
       "      <td>219.046000</td>\n",
       "      <td>-0.139847</td>\n",
       "    </tr>\n",
       "    <tr>\n",
       "      <th>25%</th>\n",
       "      <td>309.344400</td>\n",
       "      <td>1.518603e+06</td>\n",
       "      <td>309.113350</td>\n",
       "      <td>312.043200</td>\n",
       "      <td>306.689875</td>\n",
       "      <td>-0.008275</td>\n",
       "    </tr>\n",
       "    <tr>\n",
       "      <th>50%</th>\n",
       "      <td>550.887500</td>\n",
       "      <td>1.976994e+06</td>\n",
       "      <td>551.100000</td>\n",
       "      <td>556.012500</td>\n",
       "      <td>546.590650</td>\n",
       "      <td>-0.000646</td>\n",
       "    </tr>\n",
       "    <tr>\n",
       "      <th>75%</th>\n",
       "      <td>830.720000</td>\n",
       "      <td>2.619222e+06</td>\n",
       "      <td>831.457500</td>\n",
       "      <td>837.762500</td>\n",
       "      <td>826.200125</td>\n",
       "      <td>0.006409</td>\n",
       "    </tr>\n",
       "    <tr>\n",
       "      <th>max</th>\n",
       "      <td>1296.200000</td>\n",
       "      <td>1.480348e+07</td>\n",
       "      <td>1289.120000</td>\n",
       "      <td>1296.975000</td>\n",
       "      <td>1271.710000</td>\n",
       "      <td>0.091435</td>\n",
       "    </tr>\n",
       "  </tbody>\n",
       "</table>\n",
       "</div>"
      ],
      "text/plain": [
       "             close        volume  ...          low      returns\n",
       "count  2518.000000  2.518000e+03  ...  2518.000000  2517.000000\n",
       "mean    612.300264  2.278235e+06  ...   606.824462    -0.000542\n",
       "std     311.029653  1.256103e+06  ...   308.055488     0.015183\n",
       "min     220.278500  5.211410e+05  ...   219.046000    -0.139847\n",
       "25%     309.344400  1.518603e+06  ...   306.689875    -0.008275\n",
       "50%     550.887500  1.976994e+06  ...   546.590650    -0.000646\n",
       "75%     830.720000  2.619222e+06  ...   826.200125     0.006409\n",
       "max    1296.200000  1.480348e+07  ...  1271.710000     0.091435\n",
       "\n",
       "[8 rows x 6 columns]"
      ]
     },
     "execution_count": 169,
     "metadata": {
      "tags": []
     },
     "output_type": "execute_result"
    }
   ],
   "source": [
    "alphabet.describe()"
   ]
  },
  {
   "cell_type": "code",
   "execution_count": null,
   "metadata": {
    "colab": {
     "base_uri": "https://localhost:8080/",
     "height": 376
    },
    "id": "_YjUgf2cbCSO",
    "outputId": "0cfcbabb-9a29-4c65-ef41-d45db9a6f24b"
   },
   "outputs": [
    {
     "data": {
      "text/plain": [
       "<matplotlib.axes._subplots.AxesSubplot at 0x7fd62ece3c18>"
      ]
     },
     "execution_count": 180,
     "metadata": {
      "tags": []
     },
     "output_type": "execute_result"
    },
    {
     "data": {
      "image/png": "[encoded data removed]",
      "text/plain": [
       "<Figure size 1584x576 with 1 Axes>"
      ]
     },
     "metadata": {
      "needs_background": "light",
      "tags": []
     },
     "output_type": "display_data"
    }
   ],
   "source": [
    "# plot\n",
    "alphabet.plot(y = 'returns', kind = 'line', figsize=(22,8), title = 'Alphabet Returns')"
   ]
  },
  {
   "cell_type": "code",
   "execution_count": null,
   "metadata": {
    "colab": {
     "base_uri": "https://localhost:8080/",
     "height": 299
    },
    "id": "puaAg3uXkUyw",
    "outputId": "9c6a4b95-621f-472d-e82f-248241cef365"
   },
   "outputs": [
    {
     "data": {
      "text/plain": [
       "<matplotlib.axes._subplots.AxesSubplot at 0x7fd62eb42550>"
      ]
     },
     "execution_count": 182,
     "metadata": {
      "tags": []
     },
     "output_type": "execute_result"
    },
    {
     "data": {
      "image/png": "[encoded data removed]",
      "text/plain": [
       "<Figure size 1584x432 with 1 Axes>"
      ]
     },
     "metadata": {
      "needs_background": "light",
      "tags": []
     },
     "output_type": "display_data"
    }
   ],
   "source": [
    "alphabet.returns.hist(bins = 75, figsize=(22,6))"
   ]
  },
  {
   "cell_type": "code",
   "execution_count": null,
   "metadata": {
    "colab": {
     "base_uri": "https://localhost:8080/",
     "height": 235
    },
    "id": "aOk5KPt_blgZ",
    "outputId": "3187ebd9-e7f4-4aaf-a53d-95ef955f038a",
    "scrolled": true
   },
   "outputs": [
    {
     "data": {
      "text/html": [
       "<div>\n",
       "<style scoped>\n",
       "    .dataframe tbody tr th:only-of-type {\n",
       "        vertical-align: middle;\n",
       "    }\n",
       "\n",
       "    .dataframe tbody tr th {\n",
       "        vertical-align: top;\n",
       "    }\n",
       "\n",
       "    .dataframe thead th {\n",
       "        text-align: right;\n",
       "    }\n",
       "</style>\n",
       "<table border=\"1\" class=\"dataframe\">\n",
       "  <thead>\n",
       "    <tr style=\"text-align: right;\">\n",
       "      <th></th>\n",
       "      <th>close</th>\n",
       "      <th>volume</th>\n",
       "      <th>open</th>\n",
       "      <th>high</th>\n",
       "      <th>low</th>\n",
       "    </tr>\n",
       "    <tr>\n",
       "      <th>date</th>\n",
       "      <th></th>\n",
       "      <th></th>\n",
       "      <th></th>\n",
       "      <th></th>\n",
       "      <th></th>\n",
       "    </tr>\n",
       "  </thead>\n",
       "  <tbody>\n",
       "    <tr>\n",
       "      <th>2020-10-23 13:33:00</th>\n",
       "      <td>1,155.14</td>\n",
       "      <td>1,145,529</td>\n",
       "      <td>1,172</td>\n",
       "      <td>1,176.88</td>\n",
       "      <td>1,152</td>\n",
       "    </tr>\n",
       "    <tr>\n",
       "      <th>2019-08-02 00:00:00</th>\n",
       "      <td>1196.3200</td>\n",
       "      <td>1745450.0000</td>\n",
       "      <td>1203.0000</td>\n",
       "      <td>1209.5000</td>\n",
       "      <td>1190.0000</td>\n",
       "    </tr>\n",
       "    <tr>\n",
       "      <th>2019-08-01 00:00:00</th>\n",
       "      <td>1211.7800</td>\n",
       "      <td>1771271.0000</td>\n",
       "      <td>1217.6300</td>\n",
       "      <td>1236.2980</td>\n",
       "      <td>1207.0000</td>\n",
       "    </tr>\n",
       "    <tr>\n",
       "      <th>2019-07-31 00:00:00</th>\n",
       "      <td>1218.2000</td>\n",
       "      <td>1997999.0000</td>\n",
       "      <td>1224.8700</td>\n",
       "      <td>1234.9100</td>\n",
       "      <td>1208.1800</td>\n",
       "    </tr>\n",
       "    <tr>\n",
       "      <th>2019-07-30 00:00:00</th>\n",
       "      <td>1228.0000</td>\n",
       "      <td>1430775.0000</td>\n",
       "      <td>1227.0000</td>\n",
       "      <td>1236.9100</td>\n",
       "      <td>1225.3200</td>\n",
       "    </tr>\n",
       "  </tbody>\n",
       "</table>\n",
       "</div>"
      ],
      "text/plain": [
       "                         close        volume       open       high        low\n",
       "date                                                                         \n",
       "2020-10-23 13:33:00   1,155.14     1,145,529      1,172   1,176.88      1,152\n",
       "2019-08-02 00:00:00  1196.3200  1745450.0000  1203.0000  1209.5000  1190.0000\n",
       "2019-08-01 00:00:00  1211.7800  1771271.0000  1217.6300  1236.2980  1207.0000\n",
       "2019-07-31 00:00:00  1218.2000  1997999.0000  1224.8700  1234.9100  1208.1800\n",
       "2019-07-30 00:00:00  1228.0000  1430775.0000  1227.0000  1236.9100  1225.3200"
      ]
     },
     "execution_count": 103,
     "metadata": {
      "tags": []
     },
     "output_type": "execute_result"
    }
   ],
   "source": [
    "alphabet.head()"
   ]
  },
  {
   "cell_type": "markdown",
   "metadata": {},
   "source": [
    "# The time value of money"
   ]
  },
  {
   "cell_type": "code",
   "execution_count": 1,
   "metadata": {},
   "outputs": [
    {
     "name": "stdout",
     "output_type": "stream",
     "text": [
      "Investment 1: 574.35\n",
      "Investment 2: 596.93\n",
      "Investment 3: 602.26\n"
     ]
    }
   ],
   "source": [
    "# Predefined variables\n",
    "initial_investment = 100\n",
    "growth_periods = 30\n",
    "growth_rate = 0.06\n",
    "\n",
    "# Calculate the value for the investment compounded once per year\n",
    "compound_periods_1 = 1\n",
    "investment_1 = initial_investment*(1 + growth_rate / compound_periods_1)**(compound_periods_1*growth_periods)\n",
    "print(\"Investment 1: \" + str(round(investment_1, 2)))\n",
    "\n",
    "# Calculate the value for the investment compounded quarterly\n",
    "compound_periods_2 = 4\n",
    "investment_2 = initial_investment*(1 + growth_rate / compound_periods_2)**(compound_periods_2*growth_periods)\n",
    "print(\"Investment 2: \" + str(round(investment_2, 2)))\n",
    "\n",
    "# Calculate the value for the investment compounded monthly\n",
    "compound_periods_3 = 12\n",
    "investment_3 = initial_investment*(1 + growth_rate / compound_periods_3)**(compound_periods_3*growth_periods)\n",
    "print(\"Investment 3: \" + str(round(investment_3, 2)))"
   ]
  },
  {
   "cell_type": "code",
   "execution_count": 2,
   "metadata": {},
   "outputs": [
    {
     "name": "stdout",
     "output_type": "stream",
     "text": [
      "Future value: 59.87\n",
      "Discount factor: 1.67\n",
      "Initial value: 100.0\n"
     ]
    }
   ],
   "source": [
    "# Calculate the future value\n",
    "initial_investment = 100\n",
    "growth_rate = -0.05\n",
    "growth_periods = 10\n",
    "future_value = initial_investment*(1 + growth_rate)**(growth_periods)\n",
    "print(\"Future value: \" + str(round(future_value, 2)))\n",
    "\n",
    "# Calculate the discount factor\n",
    "discount_factor = 1/((1 + growth_rate)**(growth_periods))\n",
    "print(\"Discount factor: \" + str(round(discount_factor, 2)))\n",
    "\n",
    "# Derive the initial value of the investment\n",
    "initial_investment_again = future_value * discount_factor\n",
    "print(\"Initial value: \" + str(round(initial_investment_again, 2)))"
   ]
  },
  {
   "cell_type": "code",
   "execution_count": null,
   "metadata": {},
   "outputs": [],
   "source": []
  }
 ],
 "metadata": {
  "colab": {
   "collapsed_sections": [],
   "name": "Intermediate Python for Finance.ipynb",
   "provenance": [],
   "toc_visible": true
  },
  "kernelspec": {
   "display_name": "Python 3",
   "language": "python",
   "name": "python3"
  },
  "language_info": {
   "codemirror_mode": {
    "name": "ipython",
    "version": 3
   },
   "file_extension": ".py",
   "mimetype": "text/x-python",
   "name": "python",
   "nbconvert_exporter": "python",
   "pygments_lexer": "ipython3",
   "version": "3.8.5"
  }
 },
 "nbformat": 4,
 "nbformat_minor": 1
}
